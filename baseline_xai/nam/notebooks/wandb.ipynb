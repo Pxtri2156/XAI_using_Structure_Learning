{
 "cells": [
  {
   "cell_type": "markdown",
   "metadata": {},
   "source": [
    "# Importing libraries and classes"
   ]
  },
  {
   "cell_type": "code",
   "execution_count": null,
   "metadata": {},
   "outputs": [],
   "source": [
    "%reload_ext autoreload\n",
    "%autoreload 2\n",
    "%matplotlib inline"
   ]
  },
  {
   "cell_type": "code",
   "execution_count": null,
   "metadata": {},
   "outputs": [],
   "source": [
    "import wandb\n",
    "\n",
    "import pytorch_lightning as pl\n",
    "from pytorch_lightning.callbacks.model_checkpoint import ModelCheckpoint\n",
    "from pytorch_lightning.loggers import TensorBoardLogger\n",
    "\n",
    "from nam.config import defaults\n",
    "from nam.data import FoldedDataset\n",
    "from nam.data import NAMDataset\n",
    "from nam.models import NAM\n",
    "from nam.models import get_num_units\n",
    "from nam.trainer import LitNAM\n",
    "from nam.types import Config\n",
    "from nam.utils import parse_args\n",
    "from nam.utils import plot_mean_feature_importance\n",
    "from nam.utils import plot_nams\n",
    "\n",
    "\n",
    "from nam.data import load_gallup_data"
   ]
  },
  {
   "cell_type": "markdown",
   "metadata": {},
   "source": [
    "# Define the experiments configurations"
   ]
  },
  {
   "cell_type": "code",
   "execution_count": null,
   "metadata": {
    "scrolled": true
   },
   "outputs": [],
   "source": [
    "config = defaults()\n",
    "print(config)"
   ]
  },
  {
   "cell_type": "markdown",
   "metadata": {},
   "source": [
    "---\n",
    "---\n",
    "---"
   ]
  },
  {
   "cell_type": "code",
   "execution_count": null,
   "metadata": {},
   "outputs": [],
   "source": [
    "def run():\n",
    "\n",
    "    hparams_run = wandb.init()\n",
    "    config.update(**hparams_run.config)\n",
    "    \n",
    "    dataset = load_gallup_data(config, \n",
    "                           data_path='data/GALLUP.csv', \n",
    "                           features_columns= [\"income_2\", \"WP1219\", \"WP1220\", \"year\"])\n",
    "    dataloaders = dataset.train_dataloaders()\n",
    "    \n",
    "    model = NAM(\n",
    "      config=config,\n",
    "      name=\"NAM_GALLUP\",\n",
    "      num_inputs=len(dataset[0][0]),\n",
    "      num_units=get_num_units(config, dataset.features),\n",
    "    )\n",
    "    \n",
    "    for fold, (trainloader, valloader) in enumerate(dataloaders):\n",
    "\n",
    "        tb_logger = TensorBoardLogger(save_dir=config.logdir,\n",
    "                                    name=f'{model.name}',\n",
    "                                    version=f'fold_{fold + 1}')\n",
    "\n",
    "        checkpoint_callback = ModelCheckpoint(filename=tb_logger.log_dir +\n",
    "                                            \"/{epoch:02d}-{val_loss:.4f}\",\n",
    "                                            monitor='val_loss',\n",
    "                                            save_top_k=config.save_top_k,\n",
    "                                            mode='min')\n",
    "\n",
    "        litmodel = LitNAM(config, model)\n",
    "        trainer = pl.Trainer(logger=tb_logger,\n",
    "                           max_epochs=config.num_epochs,\n",
    "                           checkpoint_callback=checkpoint_callback)\n",
    "        trainer.fit(litmodel,\n",
    "                  train_dataloader=trainloader,\n",
    "                  val_dataloaders=valloader)\n",
    "\n",
    "        wandb.log({\n",
    "            \"plot_mean_feature_importance\": wandb.Image(plot_mean_feature_importance(model, dataset)),\n",
    "            \"plot_nams\": wandb.Image(plot_nams(model, dataset))\n",
    "        })"
   ]
  },
  {
   "cell_type": "code",
   "execution_count": null,
   "metadata": {},
   "outputs": [],
   "source": [
    "sweep_config = {\n",
    "    'method': 'bayes',\n",
    "    'metric': {\n",
    "        'name': 'val_loss',\n",
    "        'goal': 'minimize'\n",
    "    },\n",
    "    'parameters': {\n",
    "        'activation': {\n",
    "            'values': [\"exu\", \"relu\"]\n",
    "        },\n",
    "        \"batch_size\": {\n",
    "            'values': [2048, 4096]\n",
    "        },\n",
    "        \"dropout\": {\n",
    "            'min': 0.0,\n",
    "            'max': 0.99\n",
    "        },\n",
    "        \"feature_dropout\": {\n",
    "            'min': 0.0,\n",
    "            'max': 0.99\n",
    "        },\n",
    "        \"output_regularization\": {\n",
    "            'min': 0.0,\n",
    "            'max': 0.99\n",
    "        },\n",
    "        \"l2_regularization\": {\n",
    "            'min': 0.0,\n",
    "            'max': 0.99\n",
    "        },\n",
    "        \"lr\": {\n",
    "            'min': 1e-4,\n",
    "            'max': 0.1\n",
    "        },\n",
    "        \"hidden_sizes\": {\n",
    "            'values': [[], [32], [64, 32], [128, 64, 32]]\n",
    "        },\n",
    "    }\n",
    "}"
   ]
  },
  {
   "cell_type": "code",
   "execution_count": null,
   "metadata": {},
   "outputs": [],
   "source": [
    "sweep_id = wandb.sweep(sweep_config, project=\"nam\")"
   ]
  },
  {
   "cell_type": "code",
   "execution_count": null,
   "metadata": {},
   "outputs": [],
   "source": [
    "wandb.agent(sweep_id, function=run)"
   ]
  }
 ],
 "metadata": {
  "kernelspec": {
   "display_name": "Python 3",
   "language": "python",
   "name": "python3"
  },
  "language_info": {
   "codemirror_mode": {
    "name": "ipython",
    "version": 3
   },
   "file_extension": ".py",
   "mimetype": "text/x-python",
   "name": "python",
   "nbconvert_exporter": "python",
   "pygments_lexer": "ipython3",
   "version": "3.7.7"
  }
 },
 "nbformat": 4,
 "nbformat_minor": 4
}
