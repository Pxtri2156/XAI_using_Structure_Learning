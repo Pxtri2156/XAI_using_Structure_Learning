{
 "cells": [
  {
   "cell_type": "code",
   "execution_count": 1,
   "metadata": {},
   "outputs": [
    {
     "data": {
      "text/html": [
       "<div>\n",
       "<style scoped>\n",
       "    .dataframe tbody tr th:only-of-type {\n",
       "        vertical-align: middle;\n",
       "    }\n",
       "\n",
       "    .dataframe tbody tr th {\n",
       "        vertical-align: top;\n",
       "    }\n",
       "\n",
       "    .dataframe thead th {\n",
       "        text-align: right;\n",
       "    }\n",
       "</style>\n",
       "<table border=\"1\" class=\"dataframe\">\n",
       "  <thead>\n",
       "    <tr style=\"text-align: right;\">\n",
       "      <th></th>\n",
       "      <th>WP16</th>\n",
       "      <th>wgt</th>\n",
       "      <th>country</th>\n",
       "      <th>income_2</th>\n",
       "      <th>WP1219</th>\n",
       "      <th>WP1220</th>\n",
       "      <th>year</th>\n",
       "      <th>weo_gdpc_con_ppp</th>\n",
       "    </tr>\n",
       "  </thead>\n",
       "  <tbody>\n",
       "    <tr>\n",
       "      <th>0</th>\n",
       "      <td>4</td>\n",
       "      <td>1.800488</td>\n",
       "      <td>Israel</td>\n",
       "      <td>18042.77108</td>\n",
       "      <td>1.0</td>\n",
       "      <td>15.0</td>\n",
       "      <td>2016</td>\n",
       "      <td>32658.020</td>\n",
       "    </tr>\n",
       "    <tr>\n",
       "      <th>1</th>\n",
       "      <td>4</td>\n",
       "      <td>2.360024</td>\n",
       "      <td>Israel</td>\n",
       "      <td>12799.41274</td>\n",
       "      <td>1.0</td>\n",
       "      <td>15.0</td>\n",
       "      <td>2013</td>\n",
       "      <td>31369.909</td>\n",
       "    </tr>\n",
       "    <tr>\n",
       "      <th>2</th>\n",
       "      <td>8</td>\n",
       "      <td>1.463117</td>\n",
       "      <td>Israel</td>\n",
       "      <td>22448.93600</td>\n",
       "      <td>1.0</td>\n",
       "      <td>15.0</td>\n",
       "      <td>2015</td>\n",
       "      <td>32038.697</td>\n",
       "    </tr>\n",
       "    <tr>\n",
       "      <th>3</th>\n",
       "      <td>5</td>\n",
       "      <td>1.246618</td>\n",
       "      <td>Israel</td>\n",
       "      <td>16853.73974</td>\n",
       "      <td>1.0</td>\n",
       "      <td>15.0</td>\n",
       "      <td>2014</td>\n",
       "      <td>31844.204</td>\n",
       "    </tr>\n",
       "    <tr>\n",
       "      <th>4</th>\n",
       "      <td>8</td>\n",
       "      <td>1.800488</td>\n",
       "      <td>Israel</td>\n",
       "      <td>22206.48749</td>\n",
       "      <td>1.0</td>\n",
       "      <td>15.0</td>\n",
       "      <td>2016</td>\n",
       "      <td>32658.020</td>\n",
       "    </tr>\n",
       "    <tr>\n",
       "      <th>5</th>\n",
       "      <td>10</td>\n",
       "      <td>1.463117</td>\n",
       "      <td>Israel</td>\n",
       "      <td>23851.99449</td>\n",
       "      <td>1.0</td>\n",
       "      <td>15.0</td>\n",
       "      <td>2015</td>\n",
       "      <td>32038.697</td>\n",
       "    </tr>\n",
       "    <tr>\n",
       "      <th>6</th>\n",
       "      <td>9</td>\n",
       "      <td>1.246618</td>\n",
       "      <td>Israel</td>\n",
       "      <td>50561.21923</td>\n",
       "      <td>1.0</td>\n",
       "      <td>15.0</td>\n",
       "      <td>2014</td>\n",
       "      <td>31844.204</td>\n",
       "    </tr>\n",
       "    <tr>\n",
       "      <th>7</th>\n",
       "      <td>9</td>\n",
       "      <td>1.350366</td>\n",
       "      <td>Israel</td>\n",
       "      <td>33309.73123</td>\n",
       "      <td>1.0</td>\n",
       "      <td>15.0</td>\n",
       "      <td>2016</td>\n",
       "      <td>32658.020</td>\n",
       "    </tr>\n",
       "    <tr>\n",
       "      <th>8</th>\n",
       "      <td>10</td>\n",
       "      <td>1.800488</td>\n",
       "      <td>Israel</td>\n",
       "      <td>83274.32807</td>\n",
       "      <td>1.0</td>\n",
       "      <td>15.0</td>\n",
       "      <td>2016</td>\n",
       "      <td>32658.020</td>\n",
       "    </tr>\n",
       "    <tr>\n",
       "      <th>9</th>\n",
       "      <td>8</td>\n",
       "      <td>1.463117</td>\n",
       "      <td>Israel</td>\n",
       "      <td>28061.16999</td>\n",
       "      <td>1.0</td>\n",
       "      <td>15.0</td>\n",
       "      <td>2015</td>\n",
       "      <td>32038.697</td>\n",
       "    </tr>\n",
       "  </tbody>\n",
       "</table>\n",
       "</div>"
      ],
      "text/plain": [
       "   WP16       wgt country     income_2  WP1219  WP1220  year  weo_gdpc_con_ppp\n",
       "0     4  1.800488  Israel  18042.77108     1.0    15.0  2016         32658.020\n",
       "1     4  2.360024  Israel  12799.41274     1.0    15.0  2013         31369.909\n",
       "2     8  1.463117  Israel  22448.93600     1.0    15.0  2015         32038.697\n",
       "3     5  1.246618  Israel  16853.73974     1.0    15.0  2014         31844.204\n",
       "4     8  1.800488  Israel  22206.48749     1.0    15.0  2016         32658.020\n",
       "5    10  1.463117  Israel  23851.99449     1.0    15.0  2015         32038.697\n",
       "6     9  1.246618  Israel  50561.21923     1.0    15.0  2014         31844.204\n",
       "7     9  1.350366  Israel  33309.73123     1.0    15.0  2016         32658.020\n",
       "8    10  1.800488  Israel  83274.32807     1.0    15.0  2016         32658.020\n",
       "9     8  1.463117  Israel  28061.16999     1.0    15.0  2015         32038.697"
      ]
     },
     "execution_count": 1,
     "metadata": {},
     "output_type": "execute_result"
    }
   ],
   "source": [
    "import pandas as pd\n",
    "df = pd.read_csv('data/GALLUP.csv')\n",
    "df.head(10)"
   ]
  },
  {
   "cell_type": "code",
   "execution_count": 5,
   "metadata": {},
   "outputs": [
    {
     "data": {
      "text/html": [
       "<div>\n",
       "<style scoped>\n",
       "    .dataframe tbody tr th:only-of-type {\n",
       "        vertical-align: middle;\n",
       "    }\n",
       "\n",
       "    .dataframe tbody tr th {\n",
       "        vertical-align: top;\n",
       "    }\n",
       "\n",
       "    .dataframe thead th {\n",
       "        text-align: right;\n",
       "    }\n",
       "</style>\n",
       "<table border=\"1\" class=\"dataframe\">\n",
       "  <thead>\n",
       "    <tr style=\"text-align: right;\">\n",
       "      <th></th>\n",
       "      <th>WP16</th>\n",
       "      <th>wgt</th>\n",
       "      <th>income_2</th>\n",
       "      <th>WP1219</th>\n",
       "      <th>WP1220</th>\n",
       "      <th>year</th>\n",
       "      <th>weo_gdpc_con_ppp</th>\n",
       "    </tr>\n",
       "  </thead>\n",
       "  <tbody>\n",
       "    <tr>\n",
       "      <th>count</th>\n",
       "      <td>1.340809e+06</td>\n",
       "      <td>1.340809e+06</td>\n",
       "      <td>1.340809e+06</td>\n",
       "      <td>1.340808e+06</td>\n",
       "      <td>1.340624e+06</td>\n",
       "      <td>1.340809e+06</td>\n",
       "      <td>1.316687e+06</td>\n",
       "    </tr>\n",
       "    <tr>\n",
       "      <th>mean</th>\n",
       "      <td>5.515844e+00</td>\n",
       "      <td>9.981441e-01</td>\n",
       "      <td>2.661370e+04</td>\n",
       "      <td>1.531649e+00</td>\n",
       "      <td>4.152368e+01</td>\n",
       "      <td>2.012821e+03</td>\n",
       "      <td>2.023897e+04</td>\n",
       "    </tr>\n",
       "    <tr>\n",
       "      <th>std</th>\n",
       "      <td>2.312987e+00</td>\n",
       "      <td>6.772548e-01</td>\n",
       "      <td>1.116962e+06</td>\n",
       "      <td>4.989975e-01</td>\n",
       "      <td>1.781361e+01</td>\n",
       "      <td>2.363612e+00</td>\n",
       "      <td>1.934277e+04</td>\n",
       "    </tr>\n",
       "    <tr>\n",
       "      <th>min</th>\n",
       "      <td>0.000000e+00</td>\n",
       "      <td>6.493207e-02</td>\n",
       "      <td>0.000000e+00</td>\n",
       "      <td>1.000000e+00</td>\n",
       "      <td>1.300000e+01</td>\n",
       "      <td>2.009000e+03</td>\n",
       "      <td>6.043400e+02</td>\n",
       "    </tr>\n",
       "    <tr>\n",
       "      <th>25%</th>\n",
       "      <td>4.000000e+00</td>\n",
       "      <td>4.892472e-01</td>\n",
       "      <td>4.311222e+03</td>\n",
       "      <td>1.000000e+00</td>\n",
       "      <td>2.700000e+01</td>\n",
       "      <td>2.011000e+03</td>\n",
       "      <td>5.190297e+03</td>\n",
       "    </tr>\n",
       "    <tr>\n",
       "      <th>50%</th>\n",
       "      <td>5.000000e+00</td>\n",
       "      <td>8.148008e-01</td>\n",
       "      <td>1.084338e+04</td>\n",
       "      <td>2.000000e+00</td>\n",
       "      <td>3.900000e+01</td>\n",
       "      <td>2.013000e+03</td>\n",
       "      <td>1.384583e+04</td>\n",
       "    </tr>\n",
       "    <tr>\n",
       "      <th>75%</th>\n",
       "      <td>7.000000e+00</td>\n",
       "      <td>1.307699e+00</td>\n",
       "      <td>2.694815e+04</td>\n",
       "      <td>2.000000e+00</td>\n",
       "      <td>5.400000e+01</td>\n",
       "      <td>2.015000e+03</td>\n",
       "      <td>3.174637e+04</td>\n",
       "    </tr>\n",
       "    <tr>\n",
       "      <th>max</th>\n",
       "      <td>1.000000e+01</td>\n",
       "      <td>7.637515e+00</td>\n",
       "      <td>8.980336e+08</td>\n",
       "      <td>2.000000e+00</td>\n",
       "      <td>1.010000e+02</td>\n",
       "      <td>2.017000e+03</td>\n",
       "      <td>1.457238e+05</td>\n",
       "    </tr>\n",
       "  </tbody>\n",
       "</table>\n",
       "</div>"
      ],
      "text/plain": [
       "               WP16           wgt      income_2        WP1219        WP1220  \\\n",
       "count  1.340809e+06  1.340809e+06  1.340809e+06  1.340808e+06  1.340624e+06   \n",
       "mean   5.515844e+00  9.981441e-01  2.661370e+04  1.531649e+00  4.152368e+01   \n",
       "std    2.312987e+00  6.772548e-01  1.116962e+06  4.989975e-01  1.781361e+01   \n",
       "min    0.000000e+00  6.493207e-02  0.000000e+00  1.000000e+00  1.300000e+01   \n",
       "25%    4.000000e+00  4.892472e-01  4.311222e+03  1.000000e+00  2.700000e+01   \n",
       "50%    5.000000e+00  8.148008e-01  1.084338e+04  2.000000e+00  3.900000e+01   \n",
       "75%    7.000000e+00  1.307699e+00  2.694815e+04  2.000000e+00  5.400000e+01   \n",
       "max    1.000000e+01  7.637515e+00  8.980336e+08  2.000000e+00  1.010000e+02   \n",
       "\n",
       "               year  weo_gdpc_con_ppp  \n",
       "count  1.340809e+06      1.316687e+06  \n",
       "mean   2.012821e+03      2.023897e+04  \n",
       "std    2.363612e+00      1.934277e+04  \n",
       "min    2.009000e+03      6.043400e+02  \n",
       "25%    2.011000e+03      5.190297e+03  \n",
       "50%    2.013000e+03      1.384583e+04  \n",
       "75%    2.015000e+03      3.174637e+04  \n",
       "max    2.017000e+03      1.457238e+05  "
      ]
     },
     "execution_count": 5,
     "metadata": {},
     "output_type": "execute_result"
    }
   ],
   "source": [
    "df.describe()"
   ]
  },
  {
   "cell_type": "code",
   "execution_count": 6,
   "metadata": {},
   "outputs": [
    {
     "data": {
      "text/plain": [
       "(1340809, 8)"
      ]
     },
     "execution_count": 6,
     "metadata": {},
     "output_type": "execute_result"
    }
   ],
   "source": [
    "df.shape"
   ]
  },
  {
   "cell_type": "code",
   "execution_count": 7,
   "metadata": {},
   "outputs": [
    {
     "name": "stdout",
     "output_type": "stream",
     "text": [
      "<class 'pandas.core.frame.DataFrame'>\n",
      "RangeIndex: 1340809 entries, 0 to 1340808\n",
      "Data columns (total 8 columns):\n",
      " #   Column            Non-Null Count    Dtype  \n",
      "---  ------            --------------    -----  \n",
      " 0   WP16              1340809 non-null  int64  \n",
      " 1   wgt               1340809 non-null  float64\n",
      " 2   country           1340809 non-null  object \n",
      " 3   income_2          1340809 non-null  float64\n",
      " 4   WP1219            1340808 non-null  float64\n",
      " 5   WP1220            1340624 non-null  float64\n",
      " 6   year              1340809 non-null  int64  \n",
      " 7   weo_gdpc_con_ppp  1316687 non-null  float64\n",
      "dtypes: float64(5), int64(2), object(1)\n",
      "memory usage: 81.8+ MB\n"
     ]
    }
   ],
   "source": [
    "df.info()"
   ]
  },
  {
   "cell_type": "code",
   "execution_count": null,
   "metadata": {},
   "outputs": [],
   "source": [
    "!pip install pandas-profiling"
   ]
  },
  {
   "cell_type": "code",
   "execution_count": 10,
   "metadata": {},
   "outputs": [],
   "source": [
    "import pandas as pd\n",
    "import numpy as np\n",
    "from pandas_profiling import ProfileReport"
   ]
  },
  {
   "cell_type": "code",
   "execution_count": 11,
   "metadata": {},
   "outputs": [],
   "source": [
    "profile = ProfileReport(pd.read_csv('data/GALLUP.csv'),\n",
    "                        title='Pandas GALLUP Profiling Report',\n",
    "                        html={'style': {'full_width': True}}, \n",
    "                        sort=\"None\")"
   ]
  },
  {
   "cell_type": "code",
   "execution_count": 12,
   "metadata": {},
   "outputs": [
    {
     "data": {
      "application/vnd.jupyter.widget-view+json": {
       "model_id": "260ee18c0b5940a8adc89d7418a52393",
       "version_major": 2,
       "version_minor": 0
      },
      "text/plain": [
       "Summarize dataset:   0%|          | 0/21 [00:00<?, ?it/s]"
      ]
     },
     "metadata": {},
     "output_type": "display_data"
    },
    {
     "name": "stderr",
     "output_type": "stream",
     "text": [
      "/Users/amrmkayid/anaconda3/envs/nam/lib/python3.7/site-packages/scipy/stats/stats.py:4594: RuntimeWarning: overflow encountered in long_scalars\n",
      "  (2 * xtie * ytie) / m + x0 * y0 / (9 * m * (size - 2)))\n"
     ]
    },
    {
     "data": {
      "application/vnd.jupyter.widget-view+json": {
       "model_id": "6dc33daf0cb247e2b2fc9c1c81ab7d84",
       "version_major": 2,
       "version_minor": 0
      },
      "text/plain": [
       "Generate report structure:   0%|          | 0/1 [00:00<?, ?it/s]"
      ]
     },
     "metadata": {},
     "output_type": "display_data"
    },
    {
     "data": {
      "application/vnd.jupyter.widget-view+json": {
       "model_id": "",
       "version_major": 2,
       "version_minor": 0
      },
      "text/plain": [
       "Render widgets:   0%|          | 0/1 [00:00<?, ?it/s]"
      ]
     },
     "metadata": {},
     "output_type": "display_data"
    },
    {
     "data": {
      "application/vnd.jupyter.widget-view+json": {
       "model_id": "f1e7001825314e29b1436e41b42d08f0",
       "version_major": 2,
       "version_minor": 0
      },
      "text/plain": [
       "VBox(children=(Tab(children=(Tab(children=(GridBox(children=(VBox(children=(GridspecLayout(children=(HTML(valu…"
      ]
     },
     "metadata": {},
     "output_type": "display_data"
    }
   ],
   "source": [
    "profile.to_widgets()"
   ]
  },
  {
   "cell_type": "code",
   "execution_count": 13,
   "metadata": {},
   "outputs": [
    {
     "data": {
      "application/vnd.jupyter.widget-view+json": {
       "model_id": "480b07b9eae84e4594c66eea6a8063fc",
       "version_major": 2,
       "version_minor": 0
      },
      "text/plain": [
       "Render HTML:   0%|          | 0/1 [00:00<?, ?it/s]"
      ]
     },
     "metadata": {},
     "output_type": "display_data"
    },
    {
     "data": {
      "application/vnd.jupyter.widget-view+json": {
       "model_id": "66dcd3a031a346a79066aa0e99937a20",
       "version_major": 2,
       "version_minor": 0
      },
      "text/plain": [
       "Export report to file:   0%|          | 0/1 [00:00<?, ?it/s]"
      ]
     },
     "metadata": {},
     "output_type": "display_data"
    }
   ],
   "source": [
    "profile.to_file(\"EDA.html\")"
   ]
  },
  {
   "cell_type": "code",
   "execution_count": null,
   "metadata": {},
   "outputs": [],
   "source": []
  }
 ],
 "metadata": {
  "kernelspec": {
   "display_name": "Python 3",
   "language": "python",
   "name": "python3"
  },
  "language_info": {
   "codemirror_mode": {
    "name": "ipython",
    "version": 3
   },
   "file_extension": ".py",
   "mimetype": "text/x-python",
   "name": "python",
   "nbconvert_exporter": "python",
   "pygments_lexer": "ipython3",
   "version": "3.7.7"
  }
 },
 "nbformat": 4,
 "nbformat_minor": 4
}
