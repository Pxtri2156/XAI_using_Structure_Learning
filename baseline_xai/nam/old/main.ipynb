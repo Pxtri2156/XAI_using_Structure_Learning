{
 "cells": [
  {
   "cell_type": "markdown",
   "metadata": {},
   "source": [
    "## Imports"
   ]
  },
  {
   "cell_type": "code",
   "execution_count": 1,
   "metadata": {},
   "outputs": [],
   "source": [
    "%reload_ext autoreload\n",
    "%autoreload 2\n",
    "%matplotlib inline"
   ]
  },
  {
   "cell_type": "code",
   "execution_count": 2,
   "metadata": {},
   "outputs": [],
   "source": [
    "import torch\n",
    "import torch.nn as nn\n",
    "import torch.nn.functional as F\n",
    "\n",
    "import pytorch_lightning as pl"
   ]
  },
  {
   "cell_type": "code",
   "execution_count": 3,
   "metadata": {},
   "outputs": [],
   "source": [
    "from nam.data import *\n",
    "from nam.config import defaults\n",
    "from nam.models import NAM, DNN, get_num_units\n",
    "from nam.engine import Engine"
   ]
  },
  {
   "cell_type": "markdown",
   "metadata": {},
   "source": [
    "## Configuration "
   ]
  },
  {
   "cell_type": "code",
   "execution_count": 4,
   "metadata": {},
   "outputs": [
    {
     "name": "stdout",
     "output_type": "stream",
     "text": [
      "Config(activation='exu', batch_size=1024, cross_val=False, data_split=1, debug=False, decay_rate=0.995, device='cpu', dropout=0.5, feature_dropout=0.0, fold_num=1, hidden_sizes=[64, 32], l2_regularization=0.0, lr=0.01, n_folds=5, n_models=1, num_basis_functions=1000, num_splits=3, num_units=64, num_workers=16, optimizer='adam', output_dir='output', output_regularization=0.0, patience=10, regression=True, seed=1377, shuffle=True, training_epochs=10, units_multiplier=2, use_dnn=False)\n"
     ]
    }
   ],
   "source": [
    "config = defaults()\n",
    "print(config)"
   ]
  },
  {
   "cell_type": "code",
   "execution_count": 5,
   "metadata": {},
   "outputs": [
    {
     "name": "stderr",
     "output_type": "stream",
     "text": [
      "Global seed set to 1377\n"
     ]
    },
    {
     "data": {
      "text/plain": [
       "1377"
      ]
     },
     "execution_count": 5,
     "metadata": {},
     "output_type": "execute_result"
    }
   ],
   "source": [
    "pl.seed_everything(config.seed)"
   ]
  },
  {
   "cell_type": "markdown",
   "metadata": {},
   "source": [
    "## Dataset & Dataloaders (California Housing Dataset)"
   ]
  },
  {
   "cell_type": "code",
   "execution_count": 171,
   "metadata": {},
   "outputs": [],
   "source": [
    "# dataset = load_sklearn_housing_data(config=config) \n",
    "dataset = load_breast_data(config=config)\n",
    "# dataset = load_gallup_data(\n",
    "#     config=config,\n",
    "#     features_columns= [\"income_2\", \"WP1219\", \"WP1220\", \"weo_gdpc_con_ppp\"]\n",
    "# )"
   ]
  },
  {
   "cell_type": "code",
   "execution_count": 172,
   "metadata": {},
   "outputs": [
    {
     "data": {
      "text/plain": [
       "569"
      ]
     },
     "execution_count": 172,
     "metadata": {},
     "output_type": "execute_result"
    }
   ],
   "source": [
    "len(dataset.data)"
   ]
  },
  {
   "cell_type": "code",
   "execution_count": 8,
   "metadata": {},
   "outputs": [
    {
     "data": {
      "text/plain": [
       "torch.Size([569, 30])"
      ]
     },
     "execution_count": 8,
     "metadata": {},
     "output_type": "execute_result"
    }
   ],
   "source": [
    "dataset.features.shape"
   ]
  },
  {
   "cell_type": "code",
   "execution_count": 9,
   "metadata": {},
   "outputs": [
    {
     "data": {
      "text/plain": [
       "1"
      ]
     },
     "execution_count": 9,
     "metadata": {},
     "output_type": "execute_result"
    }
   ],
   "source": [
    "dataset.targets.max().item()"
   ]
  },
  {
   "cell_type": "code",
   "execution_count": 10,
   "metadata": {
    "scrolled": true
   },
   "outputs": [
    {
     "data": {
      "text/plain": [
       "torch.Size([569])"
      ]
     },
     "execution_count": 10,
     "metadata": {},
     "output_type": "execute_result"
    }
   ],
   "source": [
    "dataset.targets.shape"
   ]
  },
  {
   "cell_type": "code",
   "execution_count": 11,
   "metadata": {},
   "outputs": [],
   "source": [
    "train_dls = dataset.train_dataloaders()"
   ]
  },
  {
   "cell_type": "code",
   "execution_count": 12,
   "metadata": {},
   "outputs": [],
   "source": [
    "test_dl = dataset.test_dataloaders()"
   ]
  },
  {
   "cell_type": "markdown",
   "metadata": {},
   "source": [
    "## NAM Model"
   ]
  },
  {
   "cell_type": "code",
   "execution_count": 13,
   "metadata": {},
   "outputs": [
    {
     "name": "stderr",
     "output_type": "stream",
     "text": [
      "/Users/amrmkayid/anaconda3/envs/nam/lib/python3.7/site-packages/torch/nn/init.py:162: UserWarning: mean is more than 2 std from [a, b] in nn.init.trunc_normal_. The distribution of values may be incorrect.\n",
      "  return _no_grad_trunc_normal_(tensor, mean, std, a, b)\n"
     ]
    },
    {
     "data": {
      "text/plain": [
       "NAM(\n",
       "  (feature_nns): Sequential(\n",
       "    (FeatureNN_0): FeatureNN(\n",
       "      (model): ModuleList(\n",
       "        (0): ExU(in_features=1, out_features=912)\n",
       "        (1): LinReLU(in_features=912, out_features=64)\n",
       "        (2): LinReLU(in_features=64, out_features=32)\n",
       "        (3): Linear(in_features=32, out_features=1, bias=True)\n",
       "      )\n",
       "    )\n",
       "    (FeatureNN_1): FeatureNN(\n",
       "      (model): ModuleList(\n",
       "        (0): ExU(in_features=1, out_features=958)\n",
       "        (1): LinReLU(in_features=958, out_features=64)\n",
       "        (2): LinReLU(in_features=64, out_features=32)\n",
       "        (3): Linear(in_features=32, out_features=1, bias=True)\n",
       "      )\n",
       "    )\n",
       "    (FeatureNN_2): FeatureNN(\n",
       "      (model): ModuleList(\n",
       "        (0): ExU(in_features=1, out_features=1000)\n",
       "        (1): LinReLU(in_features=1000, out_features=64)\n",
       "        (2): LinReLU(in_features=64, out_features=32)\n",
       "        (3): Linear(in_features=32, out_features=1, bias=True)\n",
       "      )\n",
       "    )\n",
       "    (FeatureNN_3): FeatureNN(\n",
       "      (model): ModuleList(\n",
       "        (0): ExU(in_features=1, out_features=1000)\n",
       "        (1): LinReLU(in_features=1000, out_features=64)\n",
       "        (2): LinReLU(in_features=64, out_features=32)\n",
       "        (3): Linear(in_features=32, out_features=1, bias=True)\n",
       "      )\n",
       "    )\n",
       "    (FeatureNN_4): FeatureNN(\n",
       "      (model): ModuleList(\n",
       "        (0): ExU(in_features=1, out_features=948)\n",
       "        (1): LinReLU(in_features=948, out_features=64)\n",
       "        (2): LinReLU(in_features=64, out_features=32)\n",
       "        (3): Linear(in_features=32, out_features=1, bias=True)\n",
       "      )\n",
       "    )\n",
       "    (FeatureNN_5): FeatureNN(\n",
       "      (model): ModuleList(\n",
       "        (0): ExU(in_features=1, out_features=1000)\n",
       "        (1): LinReLU(in_features=1000, out_features=64)\n",
       "        (2): LinReLU(in_features=64, out_features=32)\n",
       "        (3): Linear(in_features=32, out_features=1, bias=True)\n",
       "      )\n",
       "    )\n",
       "    (FeatureNN_6): FeatureNN(\n",
       "      (model): ModuleList(\n",
       "        (0): ExU(in_features=1, out_features=1000)\n",
       "        (1): LinReLU(in_features=1000, out_features=64)\n",
       "        (2): LinReLU(in_features=64, out_features=32)\n",
       "        (3): Linear(in_features=32, out_features=1, bias=True)\n",
       "      )\n",
       "    )\n",
       "    (FeatureNN_7): FeatureNN(\n",
       "      (model): ModuleList(\n",
       "        (0): ExU(in_features=1, out_features=1000)\n",
       "        (1): LinReLU(in_features=1000, out_features=64)\n",
       "        (2): LinReLU(in_features=64, out_features=32)\n",
       "        (3): Linear(in_features=32, out_features=1, bias=True)\n",
       "      )\n",
       "    )\n",
       "    (FeatureNN_8): FeatureNN(\n",
       "      (model): ModuleList(\n",
       "        (0): ExU(in_features=1, out_features=864)\n",
       "        (1): LinReLU(in_features=864, out_features=64)\n",
       "        (2): LinReLU(in_features=64, out_features=32)\n",
       "        (3): Linear(in_features=32, out_features=1, bias=True)\n",
       "      )\n",
       "    )\n",
       "    (FeatureNN_9): FeatureNN(\n",
       "      (model): ModuleList(\n",
       "        (0): ExU(in_features=1, out_features=998)\n",
       "        (1): LinReLU(in_features=998, out_features=64)\n",
       "        (2): LinReLU(in_features=64, out_features=32)\n",
       "        (3): Linear(in_features=32, out_features=1, bias=True)\n",
       "      )\n",
       "    )\n",
       "    (FeatureNN_10): FeatureNN(\n",
       "      (model): ModuleList(\n",
       "        (0): ExU(in_features=1, out_features=1000)\n",
       "        (1): LinReLU(in_features=1000, out_features=64)\n",
       "        (2): LinReLU(in_features=64, out_features=32)\n",
       "        (3): Linear(in_features=32, out_features=1, bias=True)\n",
       "      )\n",
       "    )\n",
       "    (FeatureNN_11): FeatureNN(\n",
       "      (model): ModuleList(\n",
       "        (0): ExU(in_features=1, out_features=1000)\n",
       "        (1): LinReLU(in_features=1000, out_features=64)\n",
       "        (2): LinReLU(in_features=64, out_features=32)\n",
       "        (3): Linear(in_features=32, out_features=1, bias=True)\n",
       "      )\n",
       "    )\n",
       "    (FeatureNN_12): FeatureNN(\n",
       "      (model): ModuleList(\n",
       "        (0): ExU(in_features=1, out_features=1000)\n",
       "        (1): LinReLU(in_features=1000, out_features=64)\n",
       "        (2): LinReLU(in_features=64, out_features=32)\n",
       "        (3): Linear(in_features=32, out_features=1, bias=True)\n",
       "      )\n",
       "    )\n",
       "    (FeatureNN_13): FeatureNN(\n",
       "      (model): ModuleList(\n",
       "        (0): ExU(in_features=1, out_features=1000)\n",
       "        (1): LinReLU(in_features=1000, out_features=64)\n",
       "        (2): LinReLU(in_features=64, out_features=32)\n",
       "        (3): Linear(in_features=32, out_features=1, bias=True)\n",
       "      )\n",
       "    )\n",
       "    (FeatureNN_14): FeatureNN(\n",
       "      (model): ModuleList(\n",
       "        (0): ExU(in_features=1, out_features=1000)\n",
       "        (1): LinReLU(in_features=1000, out_features=64)\n",
       "        (2): LinReLU(in_features=64, out_features=32)\n",
       "        (3): Linear(in_features=32, out_features=1, bias=True)\n",
       "      )\n",
       "    )\n",
       "    (FeatureNN_15): FeatureNN(\n",
       "      (model): ModuleList(\n",
       "        (0): ExU(in_features=1, out_features=1000)\n",
       "        (1): LinReLU(in_features=1000, out_features=64)\n",
       "        (2): LinReLU(in_features=64, out_features=32)\n",
       "        (3): Linear(in_features=32, out_features=1, bias=True)\n",
       "      )\n",
       "    )\n",
       "    (FeatureNN_16): FeatureNN(\n",
       "      (model): ModuleList(\n",
       "        (0): ExU(in_features=1, out_features=1000)\n",
       "        (1): LinReLU(in_features=1000, out_features=64)\n",
       "        (2): LinReLU(in_features=64, out_features=32)\n",
       "        (3): Linear(in_features=32, out_features=1, bias=True)\n",
       "      )\n",
       "    )\n",
       "    (FeatureNN_17): FeatureNN(\n",
       "      (model): ModuleList(\n",
       "        (0): ExU(in_features=1, out_features=1000)\n",
       "        (1): LinReLU(in_features=1000, out_features=64)\n",
       "        (2): LinReLU(in_features=64, out_features=32)\n",
       "        (3): Linear(in_features=32, out_features=1, bias=True)\n",
       "      )\n",
       "    )\n",
       "    (FeatureNN_18): FeatureNN(\n",
       "      (model): ModuleList(\n",
       "        (0): ExU(in_features=1, out_features=996)\n",
       "        (1): LinReLU(in_features=996, out_features=64)\n",
       "        (2): LinReLU(in_features=64, out_features=32)\n",
       "        (3): Linear(in_features=32, out_features=1, bias=True)\n",
       "      )\n",
       "    )\n",
       "    (FeatureNN_19): FeatureNN(\n",
       "      (model): ModuleList(\n",
       "        (0): ExU(in_features=1, out_features=1000)\n",
       "        (1): LinReLU(in_features=1000, out_features=64)\n",
       "        (2): LinReLU(in_features=64, out_features=32)\n",
       "        (3): Linear(in_features=32, out_features=1, bias=True)\n",
       "      )\n",
       "    )\n",
       "    (FeatureNN_20): FeatureNN(\n",
       "      (model): ModuleList(\n",
       "        (0): ExU(in_features=1, out_features=914)\n",
       "        (1): LinReLU(in_features=914, out_features=64)\n",
       "        (2): LinReLU(in_features=64, out_features=32)\n",
       "        (3): Linear(in_features=32, out_features=1, bias=True)\n",
       "      )\n",
       "    )\n",
       "    (FeatureNN_21): FeatureNN(\n",
       "      (model): ModuleList(\n",
       "        (0): ExU(in_features=1, out_features=1000)\n",
       "        (1): LinReLU(in_features=1000, out_features=64)\n",
       "        (2): LinReLU(in_features=64, out_features=32)\n",
       "        (3): Linear(in_features=32, out_features=1, bias=True)\n",
       "      )\n",
       "    )\n",
       "    (FeatureNN_22): FeatureNN(\n",
       "      (model): ModuleList(\n",
       "        (0): ExU(in_features=1, out_features=1000)\n",
       "        (1): LinReLU(in_features=1000, out_features=64)\n",
       "        (2): LinReLU(in_features=64, out_features=32)\n",
       "        (3): Linear(in_features=32, out_features=1, bias=True)\n",
       "      )\n",
       "    )\n",
       "    (FeatureNN_23): FeatureNN(\n",
       "      (model): ModuleList(\n",
       "        (0): ExU(in_features=1, out_features=1000)\n",
       "        (1): LinReLU(in_features=1000, out_features=64)\n",
       "        (2): LinReLU(in_features=64, out_features=32)\n",
       "        (3): Linear(in_features=32, out_features=1, bias=True)\n",
       "      )\n",
       "    )\n",
       "    (FeatureNN_24): FeatureNN(\n",
       "      (model): ModuleList(\n",
       "        (0): ExU(in_features=1, out_features=822)\n",
       "        (1): LinReLU(in_features=822, out_features=64)\n",
       "        (2): LinReLU(in_features=64, out_features=32)\n",
       "        (3): Linear(in_features=32, out_features=1, bias=True)\n",
       "      )\n",
       "    )\n",
       "    (FeatureNN_25): FeatureNN(\n",
       "      (model): ModuleList(\n",
       "        (0): ExU(in_features=1, out_features=1000)\n",
       "        (1): LinReLU(in_features=1000, out_features=64)\n",
       "        (2): LinReLU(in_features=64, out_features=32)\n",
       "        (3): Linear(in_features=32, out_features=1, bias=True)\n",
       "      )\n",
       "    )\n",
       "    (FeatureNN_26): FeatureNN(\n",
       "      (model): ModuleList(\n",
       "        (0): ExU(in_features=1, out_features=1000)\n",
       "        (1): LinReLU(in_features=1000, out_features=64)\n",
       "        (2): LinReLU(in_features=64, out_features=32)\n",
       "        (3): Linear(in_features=32, out_features=1, bias=True)\n",
       "      )\n",
       "    )\n",
       "    (FeatureNN_27): FeatureNN(\n",
       "      (model): ModuleList(\n",
       "        (0): ExU(in_features=1, out_features=984)\n",
       "        (1): LinReLU(in_features=984, out_features=64)\n",
       "        (2): LinReLU(in_features=64, out_features=32)\n",
       "        (3): Linear(in_features=32, out_features=1, bias=True)\n",
       "      )\n",
       "    )\n",
       "    (FeatureNN_28): FeatureNN(\n",
       "      (model): ModuleList(\n",
       "        (0): ExU(in_features=1, out_features=1000)\n",
       "        (1): LinReLU(in_features=1000, out_features=64)\n",
       "        (2): LinReLU(in_features=64, out_features=32)\n",
       "        (3): Linear(in_features=32, out_features=1, bias=True)\n",
       "      )\n",
       "    )\n",
       "    (FeatureNN_29): FeatureNN(\n",
       "      (model): ModuleList(\n",
       "        (0): ExU(in_features=1, out_features=1000)\n",
       "        (1): LinReLU(in_features=1000, out_features=64)\n",
       "        (2): LinReLU(in_features=64, out_features=32)\n",
       "        (3): Linear(in_features=32, out_features=1, bias=True)\n",
       "      )\n",
       "    )\n",
       "  )\n",
       "  (linear): Linear(in_features=30, out_features=2, bias=True)\n",
       ")"
      ]
     },
     "execution_count": 13,
     "metadata": {},
     "output_type": "execute_result"
    }
   ],
   "source": [
    "model = NAM(\n",
    "      config=config,\n",
    "      name=\"NAMModel_Housing\",\n",
    "      num_inputs=len(dataset[0][0]),\n",
    "      num_units=get_num_units(config, dataset.features),\n",
    "      num_outputs=int(dataset.targets.max().item() + 1),\n",
    ")\n",
    "model"
   ]
  },
  {
   "cell_type": "code",
   "execution_count": 14,
   "metadata": {},
   "outputs": [
    {
     "name": "stderr",
     "output_type": "stream",
     "text": [
      "2021-04-03 11:37:12.192 | INFO     | nam.data.folded:train_dataloaders:113 - Fold[1]: train: 398, val: 57\n"
     ]
    }
   ],
   "source": [
    "train_dl, val_dl = next(train_dls)\n",
    "x, y = next(iter(train_dl))"
   ]
  },
  {
   "cell_type": "code",
   "execution_count": 15,
   "metadata": {},
   "outputs": [
    {
     "data": {
      "text/plain": [
       "tensor([[0.6435, 0.3565],\n",
       "        [0.2119, 0.7881],\n",
       "        [0.4327, 0.5673],\n",
       "        [0.6948, 0.3052],\n",
       "        [0.7344, 0.2656],\n",
       "        [0.4567, 0.5433],\n",
       "        [0.6918, 0.3082],\n",
       "        [0.2143, 0.7857],\n",
       "        [0.5082, 0.4918],\n",
       "        [0.4094, 0.5906],\n",
       "        [0.5063, 0.4937],\n",
       "        [0.4657, 0.5343],\n",
       "        [0.4243, 0.5757],\n",
       "        [0.5774, 0.4226],\n",
       "        [0.7249, 0.2751],\n",
       "        [0.4689, 0.5311],\n",
       "        [0.0685, 0.9315],\n",
       "        [0.7875, 0.2125],\n",
       "        [0.6188, 0.3812],\n",
       "        [0.6497, 0.3503],\n",
       "        [0.5743, 0.4257],\n",
       "        [0.3398, 0.6602],\n",
       "        [0.4429, 0.5571],\n",
       "        [0.4670, 0.5330],\n",
       "        [0.3549, 0.6451],\n",
       "        [0.3530, 0.6470],\n",
       "        [0.1001, 0.8999],\n",
       "        [0.2582, 0.7418],\n",
       "        [0.4570, 0.5430],\n",
       "        [0.5063, 0.4937],\n",
       "        [0.8384, 0.1616],\n",
       "        [0.2165, 0.7835],\n",
       "        [0.3586, 0.6414],\n",
       "        [0.2851, 0.7149],\n",
       "        [0.0498, 0.9502],\n",
       "        [0.7625, 0.2375],\n",
       "        [0.3203, 0.6797],\n",
       "        [0.4867, 0.5133],\n",
       "        [0.3913, 0.6087],\n",
       "        [0.2948, 0.7052],\n",
       "        [0.2922, 0.7078],\n",
       "        [0.3492, 0.6508],\n",
       "        [0.4738, 0.5262],\n",
       "        [0.6066, 0.3934],\n",
       "        [0.4233, 0.5767],\n",
       "        [0.4378, 0.5622],\n",
       "        [0.7643, 0.2357],\n",
       "        [0.4610, 0.5390],\n",
       "        [0.7421, 0.2579],\n",
       "        [0.2204, 0.7796],\n",
       "        [0.4023, 0.5977],\n",
       "        [0.6773, 0.3227],\n",
       "        [0.5919, 0.4081],\n",
       "        [0.0732, 0.9268],\n",
       "        [0.0485, 0.9515],\n",
       "        [0.2295, 0.7705],\n",
       "        [0.0255, 0.9745],\n",
       "        [0.0276, 0.9724],\n",
       "        [0.5724, 0.4276],\n",
       "        [0.6112, 0.3888],\n",
       "        [0.4596, 0.5404],\n",
       "        [0.5306, 0.4694],\n",
       "        [0.0827, 0.9173],\n",
       "        [0.2843, 0.7157],\n",
       "        [0.3596, 0.6404],\n",
       "        [0.3762, 0.6238],\n",
       "        [0.5437, 0.4563],\n",
       "        [0.1914, 0.8086],\n",
       "        [0.3564, 0.6436],\n",
       "        [0.0737, 0.9263],\n",
       "        [0.0584, 0.9416],\n",
       "        [0.5566, 0.4434],\n",
       "        [0.3402, 0.6598],\n",
       "        [0.4879, 0.5121],\n",
       "        [0.1242, 0.8758],\n",
       "        [0.1095, 0.8905],\n",
       "        [0.2532, 0.7468],\n",
       "        [0.1102, 0.8898],\n",
       "        [0.6577, 0.3423],\n",
       "        [0.2819, 0.7181],\n",
       "        [0.4188, 0.5812],\n",
       "        [0.5486, 0.4514],\n",
       "        [0.5940, 0.4060],\n",
       "        [0.7807, 0.2193],\n",
       "        [0.1311, 0.8689],\n",
       "        [0.3801, 0.6199],\n",
       "        [0.3702, 0.6298],\n",
       "        [0.2463, 0.7537],\n",
       "        [0.4082, 0.5918],\n",
       "        [0.5535, 0.4465],\n",
       "        [0.3601, 0.6399],\n",
       "        [0.1767, 0.8233],\n",
       "        [0.3759, 0.6241],\n",
       "        [0.9157, 0.0843],\n",
       "        [0.7170, 0.2830],\n",
       "        [0.4176, 0.5824],\n",
       "        [0.4652, 0.5348],\n",
       "        [0.1548, 0.8452],\n",
       "        [0.4077, 0.5923],\n",
       "        [0.3636, 0.6364],\n",
       "        [0.6771, 0.3229],\n",
       "        [0.4716, 0.5284],\n",
       "        [0.4815, 0.5185],\n",
       "        [0.5394, 0.4606],\n",
       "        [0.4602, 0.5398],\n",
       "        [0.5410, 0.4590],\n",
       "        [0.2187, 0.7813],\n",
       "        [0.5040, 0.4960],\n",
       "        [0.4185, 0.5815],\n",
       "        [0.0830, 0.9170],\n",
       "        [0.2932, 0.7068],\n",
       "        [0.4448, 0.5552],\n",
       "        [0.2183, 0.7817],\n",
       "        [0.4509, 0.5491],\n",
       "        [0.3093, 0.6907],\n",
       "        [0.4309, 0.5691],\n",
       "        [0.3276, 0.6724],\n",
       "        [0.5364, 0.4636],\n",
       "        [0.4342, 0.5658],\n",
       "        [0.6467, 0.3533],\n",
       "        [0.8280, 0.1720],\n",
       "        [0.8078, 0.1922],\n",
       "        [0.0590, 0.9410],\n",
       "        [0.4693, 0.5307],\n",
       "        [0.1912, 0.8088],\n",
       "        [0.5959, 0.4041],\n",
       "        [0.5441, 0.4559],\n",
       "        [0.5530, 0.4470],\n",
       "        [0.3664, 0.6336],\n",
       "        [0.5496, 0.4504],\n",
       "        [0.1122, 0.8878],\n",
       "        [0.1809, 0.8191],\n",
       "        [0.4104, 0.5896],\n",
       "        [0.1282, 0.8718],\n",
       "        [0.6796, 0.3204],\n",
       "        [0.7221, 0.2779],\n",
       "        [0.0817, 0.9183],\n",
       "        [0.2076, 0.7924],\n",
       "        [0.3407, 0.6593],\n",
       "        [0.2299, 0.7701],\n",
       "        [0.5585, 0.4415],\n",
       "        [0.7655, 0.2345],\n",
       "        [0.5952, 0.4048],\n",
       "        [0.3431, 0.6569],\n",
       "        [0.3540, 0.6460],\n",
       "        [0.4023, 0.5977],\n",
       "        [0.3704, 0.6296],\n",
       "        [0.9349, 0.0651],\n",
       "        [0.1735, 0.8265],\n",
       "        [0.6124, 0.3876],\n",
       "        [0.0402, 0.9598],\n",
       "        [0.3224, 0.6776],\n",
       "        [0.3539, 0.6461],\n",
       "        [0.2033, 0.7967],\n",
       "        [0.4817, 0.5183],\n",
       "        [0.5197, 0.4803],\n",
       "        [0.4027, 0.5973],\n",
       "        [0.5212, 0.4788],\n",
       "        [0.3654, 0.6346],\n",
       "        [0.3361, 0.6639],\n",
       "        [0.8727, 0.1273],\n",
       "        [0.4489, 0.5511],\n",
       "        [0.3256, 0.6744],\n",
       "        [0.3427, 0.6573],\n",
       "        [0.5958, 0.4042],\n",
       "        [0.3542, 0.6458],\n",
       "        [0.3090, 0.6910],\n",
       "        [0.2037, 0.7963],\n",
       "        [0.5712, 0.4288],\n",
       "        [0.3584, 0.6416],\n",
       "        [0.3933, 0.6067],\n",
       "        [0.6885, 0.3115],\n",
       "        [0.1937, 0.8063],\n",
       "        [0.2382, 0.7618],\n",
       "        [0.0577, 0.9423],\n",
       "        [0.5454, 0.4546],\n",
       "        [0.4681, 0.5319],\n",
       "        [0.6755, 0.3245],\n",
       "        [0.0426, 0.9574],\n",
       "        [0.2233, 0.7767],\n",
       "        [0.4508, 0.5492],\n",
       "        [0.6455, 0.3545],\n",
       "        [0.6918, 0.3082],\n",
       "        [0.4934, 0.5066],\n",
       "        [0.5604, 0.4396],\n",
       "        [0.3224, 0.6776],\n",
       "        [0.6354, 0.3646],\n",
       "        [0.3734, 0.6266],\n",
       "        [0.4100, 0.5900],\n",
       "        [0.5614, 0.4386],\n",
       "        [0.0567, 0.9433],\n",
       "        [0.5107, 0.4893],\n",
       "        [0.0699, 0.9301],\n",
       "        [0.4692, 0.5308],\n",
       "        [0.2699, 0.7301],\n",
       "        [0.1073, 0.8927],\n",
       "        [0.3714, 0.6286],\n",
       "        [0.1081, 0.8919],\n",
       "        [0.5221, 0.4779],\n",
       "        [0.6590, 0.3410],\n",
       "        [0.4659, 0.5341],\n",
       "        [0.5468, 0.4532],\n",
       "        [0.5506, 0.4494],\n",
       "        [0.5691, 0.4309],\n",
       "        [0.6597, 0.3403],\n",
       "        [0.3966, 0.6034],\n",
       "        [0.4246, 0.5754],\n",
       "        [0.2613, 0.7387],\n",
       "        [0.9024, 0.0976],\n",
       "        [0.6463, 0.3537],\n",
       "        [0.4647, 0.5353],\n",
       "        [0.1936, 0.8064],\n",
       "        [0.0547, 0.9453],\n",
       "        [0.1050, 0.8950],\n",
       "        [0.3789, 0.6211],\n",
       "        [0.4406, 0.5594],\n",
       "        [0.8875, 0.1125],\n",
       "        [0.3456, 0.6544],\n",
       "        [0.0900, 0.9100],\n",
       "        [0.0758, 0.9242],\n",
       "        [0.5675, 0.4325],\n",
       "        [0.2919, 0.7081],\n",
       "        [0.2655, 0.7345],\n",
       "        [0.7615, 0.2385],\n",
       "        [0.6259, 0.3741],\n",
       "        [0.3330, 0.6670],\n",
       "        [0.3040, 0.6960],\n",
       "        [0.1241, 0.8759],\n",
       "        [0.3519, 0.6481],\n",
       "        [0.2746, 0.7254],\n",
       "        [0.0542, 0.9458],\n",
       "        [0.3716, 0.6284],\n",
       "        [0.3964, 0.6036],\n",
       "        [0.4859, 0.5141],\n",
       "        [0.1893, 0.8107],\n",
       "        [0.5731, 0.4269],\n",
       "        [0.1836, 0.8164],\n",
       "        [0.0370, 0.9630],\n",
       "        [0.5164, 0.4836],\n",
       "        [0.6185, 0.3815],\n",
       "        [0.8756, 0.1244],\n",
       "        [0.5709, 0.4291],\n",
       "        [0.3676, 0.6324],\n",
       "        [0.4071, 0.5929],\n",
       "        [0.2496, 0.7504],\n",
       "        [0.1283, 0.8717],\n",
       "        [0.4462, 0.5538],\n",
       "        [0.3769, 0.6231],\n",
       "        [0.5250, 0.4750],\n",
       "        [0.5297, 0.4703],\n",
       "        [0.9024, 0.0976],\n",
       "        [0.5923, 0.4077],\n",
       "        [0.2518, 0.7482],\n",
       "        [0.3739, 0.6261],\n",
       "        [0.3375, 0.6625],\n",
       "        [0.6540, 0.3460],\n",
       "        [0.5222, 0.4778],\n",
       "        [0.4392, 0.5608],\n",
       "        [0.2614, 0.7386],\n",
       "        [0.6799, 0.3201],\n",
       "        [0.5240, 0.4760],\n",
       "        [0.8842, 0.1158],\n",
       "        [0.7605, 0.2395],\n",
       "        [0.4229, 0.5771],\n",
       "        [0.6626, 0.3374],\n",
       "        [0.5727, 0.4273],\n",
       "        [0.4869, 0.5131],\n",
       "        [0.5293, 0.4707],\n",
       "        [0.4360, 0.5640],\n",
       "        [0.5942, 0.4058],\n",
       "        [0.4613, 0.5387],\n",
       "        [0.3643, 0.6357],\n",
       "        [0.7574, 0.2426],\n",
       "        [0.0534, 0.9466],\n",
       "        [0.2815, 0.7185],\n",
       "        [0.4379, 0.5621],\n",
       "        [0.4279, 0.5721],\n",
       "        [0.0802, 0.9198],\n",
       "        [0.4790, 0.5210],\n",
       "        [0.2767, 0.7233],\n",
       "        [0.1435, 0.8565],\n",
       "        [0.3138, 0.6862],\n",
       "        [0.1597, 0.8403],\n",
       "        [0.4979, 0.5021],\n",
       "        [0.4110, 0.5890],\n",
       "        [0.7060, 0.2940],\n",
       "        [0.4426, 0.5574],\n",
       "        [0.2663, 0.7337],\n",
       "        [0.4890, 0.5110],\n",
       "        [0.5478, 0.4522],\n",
       "        [0.3968, 0.6032],\n",
       "        [0.7315, 0.2685],\n",
       "        [0.4389, 0.5611],\n",
       "        [0.1313, 0.8687],\n",
       "        [0.2237, 0.7763],\n",
       "        [0.6979, 0.3021],\n",
       "        [0.2619, 0.7381],\n",
       "        [0.3746, 0.6254],\n",
       "        [0.1461, 0.8539],\n",
       "        [0.6397, 0.3603],\n",
       "        [0.9460, 0.0540],\n",
       "        [0.3633, 0.6367],\n",
       "        [0.4078, 0.5922],\n",
       "        [0.4371, 0.5629],\n",
       "        [0.7115, 0.2885],\n",
       "        [0.3857, 0.6143],\n",
       "        [0.2317, 0.7683],\n",
       "        [0.5123, 0.4877],\n",
       "        [0.0452, 0.9548],\n",
       "        [0.8413, 0.1587],\n",
       "        [0.6657, 0.3343],\n",
       "        [0.0332, 0.9668],\n",
       "        [0.0492, 0.9508],\n",
       "        [0.5061, 0.4939],\n",
       "        [0.1727, 0.8273],\n",
       "        [0.1286, 0.8714],\n",
       "        [0.4329, 0.5671],\n",
       "        [0.4842, 0.5158],\n",
       "        [0.1108, 0.8892],\n",
       "        [0.6840, 0.3160],\n",
       "        [0.7478, 0.2522],\n",
       "        [0.5651, 0.4349],\n",
       "        [0.2723, 0.7277],\n",
       "        [0.3303, 0.6697],\n",
       "        [0.3506, 0.6494],\n",
       "        [0.5337, 0.4663],\n",
       "        [0.3559, 0.6441],\n",
       "        [0.5325, 0.4675],\n",
       "        [0.5069, 0.4931],\n",
       "        [0.2490, 0.7510],\n",
       "        [0.6624, 0.3376],\n",
       "        [0.0250, 0.9750],\n",
       "        [0.3534, 0.6466],\n",
       "        [0.2025, 0.7975],\n",
       "        [0.1825, 0.8175],\n",
       "        [0.4797, 0.5203],\n",
       "        [0.4874, 0.5126],\n",
       "        [0.5541, 0.4459],\n",
       "        [0.5013, 0.4987],\n",
       "        [0.4442, 0.5558],\n",
       "        [0.3809, 0.6191],\n",
       "        [0.4438, 0.5562],\n",
       "        [0.3106, 0.6894],\n",
       "        [0.5215, 0.4785],\n",
       "        [0.5946, 0.4054],\n",
       "        [0.6760, 0.3240],\n",
       "        [0.2425, 0.7575],\n",
       "        [0.6004, 0.3996],\n",
       "        [0.9267, 0.0733],\n",
       "        [0.3524, 0.6476],\n",
       "        [0.1443, 0.8557],\n",
       "        [0.4533, 0.5467],\n",
       "        [0.4371, 0.5629],\n",
       "        [0.1382, 0.8618],\n",
       "        [0.8563, 0.1437],\n",
       "        [0.7340, 0.2660],\n",
       "        [0.4159, 0.5841],\n",
       "        [0.2464, 0.7536],\n",
       "        [0.6827, 0.3173],\n",
       "        [0.3074, 0.6926],\n",
       "        [0.4842, 0.5158],\n",
       "        [0.5325, 0.4675],\n",
       "        [0.4583, 0.5417],\n",
       "        [0.6259, 0.3741],\n",
       "        [0.6284, 0.3716],\n",
       "        [0.6338, 0.3662],\n",
       "        [0.3073, 0.6927],\n",
       "        [0.3790, 0.6210],\n",
       "        [0.0254, 0.9746],\n",
       "        [0.6508, 0.3492],\n",
       "        [0.5106, 0.4894],\n",
       "        [0.4983, 0.5017],\n",
       "        [0.2590, 0.7410],\n",
       "        [0.3158, 0.6842],\n",
       "        [0.5232, 0.4768],\n",
       "        [0.4255, 0.5745],\n",
       "        [0.4674, 0.5326],\n",
       "        [0.1934, 0.8066],\n",
       "        [0.3596, 0.6404],\n",
       "        [0.4768, 0.5232],\n",
       "        [0.4664, 0.5336],\n",
       "        [0.4130, 0.5870],\n",
       "        [0.2826, 0.7174],\n",
       "        [0.3669, 0.6331],\n",
       "        [0.5296, 0.4704],\n",
       "        [0.3860, 0.6140],\n",
       "        [0.2267, 0.7733],\n",
       "        [0.3037, 0.6963],\n",
       "        [0.5654, 0.4346],\n",
       "        [0.4837, 0.5163],\n",
       "        [0.0999, 0.9001],\n",
       "        [0.5627, 0.4373],\n",
       "        [0.0962, 0.9038],\n",
       "        [0.7476, 0.2524],\n",
       "        [0.4016, 0.5984],\n",
       "        [0.2158, 0.7842],\n",
       "        [0.0331, 0.9669],\n",
       "        [0.3221, 0.6779]], grad_fn=<SoftmaxBackward>)"
      ]
     },
     "execution_count": 15,
     "metadata": {},
     "output_type": "execute_result"
    }
   ],
   "source": [
    "logits, fnn_out = model(x)\n",
    "logits"
   ]
  },
  {
   "cell_type": "code",
   "execution_count": 16,
   "metadata": {},
   "outputs": [
    {
     "data": {
      "text/plain": [
       "tensor(0.5528)"
      ]
     },
     "execution_count": 16,
     "metadata": {},
     "output_type": "execute_result"
    }
   ],
   "source": [
    "pl.metrics.functional.accuracy(logits, y)"
   ]
  },
  {
   "cell_type": "markdown",
   "metadata": {},
   "source": [
    "## Training"
   ]
  },
  {
   "cell_type": "code",
   "execution_count": 17,
   "metadata": {},
   "outputs": [],
   "source": [
    "engine = Engine(config, model)\n",
    "# engine"
   ]
  },
  {
   "cell_type": "code",
   "execution_count": 18,
   "metadata": {},
   "outputs": [
    {
     "name": "stderr",
     "output_type": "stream",
     "text": [
      "/Users/amrmkayid/anaconda3/envs/nam/lib/python3.7/site-packages/pytorch_lightning/utilities/distributed.py:52: UserWarning: Checkpoint directory output/NAMModel_Housing/checkpoints exists and is not empty.\n",
      "  warnings.warn(*args, **kwargs)\n"
     ]
    }
   ],
   "source": [
    "checkpoint_callback = pl.callbacks.model_checkpoint.ModelCheckpoint(\n",
    "    dirpath=f\"{config.output_dir}/{model.name}/checkpoints\",\n",
    "    filename=model.name + \"-{epoch:02d}-{val_loss:.4f}\", \n",
    "    monitor='val_loss', \n",
    "    save_top_k=3,\n",
    "    mode='min'\n",
    ")"
   ]
  },
  {
   "cell_type": "code",
   "execution_count": 19,
   "metadata": {
    "scrolled": false
   },
   "outputs": [
    {
     "name": "stderr",
     "output_type": "stream",
     "text": [
      "2021-04-03 11:37:13.502 | INFO     | nam.data.folded:train_dataloaders:113 - Fold[2]: train: 398, val: 57\n",
      "GPU available: False, used: False\n",
      "TPU available: None, using: 0 TPU cores\n",
      "\n",
      "  | Name    | Type     | Params\n",
      "-------------------------------------\n",
      "0 | model   | NAM      | 2.0 M \n",
      "1 | metrics | Accuracy | 0     \n",
      "-------------------------------------\n",
      "2.0 M     Trainable params\n",
      "0         Non-trainable params\n",
      "2.0 M     Total params\n",
      "8.018     Total estimated model params size (MB)\n"
     ]
    },
    {
     "data": {
      "application/vnd.jupyter.widget-view+json": {
       "model_id": "",
       "version_major": 2,
       "version_minor": 0
      },
      "text/plain": [
       "Validation sanity check: 0it [00:00, ?it/s]"
      ]
     },
     "metadata": {},
     "output_type": "display_data"
    },
    {
     "data": {
      "application/vnd.jupyter.widget-view+json": {
       "model_id": "4f9f222c7d274afaaf312d56b0109caa",
       "version_major": 2,
       "version_minor": 0
      },
      "text/plain": [
       "Training: 0it [00:00, ?it/s]"
      ]
     },
     "metadata": {},
     "output_type": "display_data"
    },
    {
     "data": {
      "application/vnd.jupyter.widget-view+json": {
       "model_id": "",
       "version_major": 2,
       "version_minor": 0
      },
      "text/plain": [
       "Validating: 0it [00:00, ?it/s]"
      ]
     },
     "metadata": {},
     "output_type": "display_data"
    },
    {
     "data": {
      "application/vnd.jupyter.widget-view+json": {
       "model_id": "",
       "version_major": 2,
       "version_minor": 0
      },
      "text/plain": [
       "Validating: 0it [00:00, ?it/s]"
      ]
     },
     "metadata": {},
     "output_type": "display_data"
    },
    {
     "data": {
      "application/vnd.jupyter.widget-view+json": {
       "model_id": "",
       "version_major": 2,
       "version_minor": 0
      },
      "text/plain": [
       "Validating: 0it [00:00, ?it/s]"
      ]
     },
     "metadata": {},
     "output_type": "display_data"
    },
    {
     "data": {
      "application/vnd.jupyter.widget-view+json": {
       "model_id": "",
       "version_major": 2,
       "version_minor": 0
      },
      "text/plain": [
       "Validating: 0it [00:00, ?it/s]"
      ]
     },
     "metadata": {},
     "output_type": "display_data"
    },
    {
     "data": {
      "application/vnd.jupyter.widget-view+json": {
       "model_id": "",
       "version_major": 2,
       "version_minor": 0
      },
      "text/plain": [
       "Validating: 0it [00:00, ?it/s]"
      ]
     },
     "metadata": {},
     "output_type": "display_data"
    },
    {
     "data": {
      "application/vnd.jupyter.widget-view+json": {
       "model_id": "",
       "version_major": 2,
       "version_minor": 0
      },
      "text/plain": [
       "Validating: 0it [00:00, ?it/s]"
      ]
     },
     "metadata": {},
     "output_type": "display_data"
    },
    {
     "data": {
      "application/vnd.jupyter.widget-view+json": {
       "model_id": "",
       "version_major": 2,
       "version_minor": 0
      },
      "text/plain": [
       "Validating: 0it [00:00, ?it/s]"
      ]
     },
     "metadata": {},
     "output_type": "display_data"
    },
    {
     "data": {
      "application/vnd.jupyter.widget-view+json": {
       "model_id": "",
       "version_major": 2,
       "version_minor": 0
      },
      "text/plain": [
       "Validating: 0it [00:00, ?it/s]"
      ]
     },
     "metadata": {},
     "output_type": "display_data"
    },
    {
     "data": {
      "application/vnd.jupyter.widget-view+json": {
       "model_id": "",
       "version_major": 2,
       "version_minor": 0
      },
      "text/plain": [
       "Validating: 0it [00:00, ?it/s]"
      ]
     },
     "metadata": {},
     "output_type": "display_data"
    },
    {
     "data": {
      "application/vnd.jupyter.widget-view+json": {
       "model_id": "",
       "version_major": 2,
       "version_minor": 0
      },
      "text/plain": [
       "Validating: 0it [00:00, ?it/s]"
      ]
     },
     "metadata": {},
     "output_type": "display_data"
    },
    {
     "name": "stderr",
     "output_type": "stream",
     "text": [
      "2021-04-03 11:37:20.028 | INFO     | nam.data.folded:train_dataloaders:113 - Fold[3]: train: 398, val: 57\n",
      "GPU available: False, used: False\n",
      "TPU available: None, using: 0 TPU cores\n",
      "\n",
      "  | Name    | Type     | Params\n",
      "-------------------------------------\n",
      "0 | model   | NAM      | 2.0 M \n",
      "1 | metrics | Accuracy | 0     \n",
      "-------------------------------------\n",
      "2.0 M     Trainable params\n",
      "0         Non-trainable params\n",
      "2.0 M     Total params\n",
      "8.018     Total estimated model params size (MB)\n"
     ]
    },
    {
     "data": {
      "application/vnd.jupyter.widget-view+json": {
       "model_id": "",
       "version_major": 2,
       "version_minor": 0
      },
      "text/plain": [
       "Validation sanity check: 0it [00:00, ?it/s]"
      ]
     },
     "metadata": {},
     "output_type": "display_data"
    },
    {
     "data": {
      "application/vnd.jupyter.widget-view+json": {
       "model_id": "ee7c0b8b7f854cbe92883a94d2c55585",
       "version_major": 2,
       "version_minor": 0
      },
      "text/plain": [
       "Training: 0it [00:00, ?it/s]"
      ]
     },
     "metadata": {},
     "output_type": "display_data"
    },
    {
     "data": {
      "application/vnd.jupyter.widget-view+json": {
       "model_id": "",
       "version_major": 2,
       "version_minor": 0
      },
      "text/plain": [
       "Validating: 0it [00:00, ?it/s]"
      ]
     },
     "metadata": {},
     "output_type": "display_data"
    },
    {
     "data": {
      "application/vnd.jupyter.widget-view+json": {
       "model_id": "",
       "version_major": 2,
       "version_minor": 0
      },
      "text/plain": [
       "Validating: 0it [00:00, ?it/s]"
      ]
     },
     "metadata": {},
     "output_type": "display_data"
    },
    {
     "data": {
      "application/vnd.jupyter.widget-view+json": {
       "model_id": "",
       "version_major": 2,
       "version_minor": 0
      },
      "text/plain": [
       "Validating: 0it [00:00, ?it/s]"
      ]
     },
     "metadata": {},
     "output_type": "display_data"
    },
    {
     "data": {
      "application/vnd.jupyter.widget-view+json": {
       "model_id": "",
       "version_major": 2,
       "version_minor": 0
      },
      "text/plain": [
       "Validating: 0it [00:00, ?it/s]"
      ]
     },
     "metadata": {},
     "output_type": "display_data"
    },
    {
     "data": {
      "application/vnd.jupyter.widget-view+json": {
       "model_id": "",
       "version_major": 2,
       "version_minor": 0
      },
      "text/plain": [
       "Validating: 0it [00:00, ?it/s]"
      ]
     },
     "metadata": {},
     "output_type": "display_data"
    },
    {
     "data": {
      "application/vnd.jupyter.widget-view+json": {
       "model_id": "",
       "version_major": 2,
       "version_minor": 0
      },
      "text/plain": [
       "Validating: 0it [00:00, ?it/s]"
      ]
     },
     "metadata": {},
     "output_type": "display_data"
    },
    {
     "data": {
      "application/vnd.jupyter.widget-view+json": {
       "model_id": "",
       "version_major": 2,
       "version_minor": 0
      },
      "text/plain": [
       "Validating: 0it [00:00, ?it/s]"
      ]
     },
     "metadata": {},
     "output_type": "display_data"
    },
    {
     "data": {
      "application/vnd.jupyter.widget-view+json": {
       "model_id": "",
       "version_major": 2,
       "version_minor": 0
      },
      "text/plain": [
       "Validating: 0it [00:00, ?it/s]"
      ]
     },
     "metadata": {},
     "output_type": "display_data"
    },
    {
     "data": {
      "application/vnd.jupyter.widget-view+json": {
       "model_id": "",
       "version_major": 2,
       "version_minor": 0
      },
      "text/plain": [
       "Validating: 0it [00:00, ?it/s]"
      ]
     },
     "metadata": {},
     "output_type": "display_data"
    },
    {
     "data": {
      "application/vnd.jupyter.widget-view+json": {
       "model_id": "",
       "version_major": 2,
       "version_minor": 0
      },
      "text/plain": [
       "Validating: 0it [00:00, ?it/s]"
      ]
     },
     "metadata": {},
     "output_type": "display_data"
    },
    {
     "name": "stderr",
     "output_type": "stream",
     "text": [
      "2021-04-03 11:37:26.421 | INFO     | nam.data.folded:train_dataloaders:113 - Fold[4]: train: 398, val: 57\n",
      "GPU available: False, used: False\n",
      "TPU available: None, using: 0 TPU cores\n",
      "\n",
      "  | Name    | Type     | Params\n",
      "-------------------------------------\n",
      "0 | model   | NAM      | 2.0 M \n",
      "1 | metrics | Accuracy | 0     \n",
      "-------------------------------------\n",
      "2.0 M     Trainable params\n",
      "0         Non-trainable params\n",
      "2.0 M     Total params\n",
      "8.018     Total estimated model params size (MB)\n"
     ]
    },
    {
     "data": {
      "application/vnd.jupyter.widget-view+json": {
       "model_id": "",
       "version_major": 2,
       "version_minor": 0
      },
      "text/plain": [
       "Validation sanity check: 0it [00:00, ?it/s]"
      ]
     },
     "metadata": {},
     "output_type": "display_data"
    },
    {
     "data": {
      "application/vnd.jupyter.widget-view+json": {
       "model_id": "c58c480e1da346a5803092561c25bf1f",
       "version_major": 2,
       "version_minor": 0
      },
      "text/plain": [
       "Training: 0it [00:00, ?it/s]"
      ]
     },
     "metadata": {},
     "output_type": "display_data"
    },
    {
     "data": {
      "application/vnd.jupyter.widget-view+json": {
       "model_id": "",
       "version_major": 2,
       "version_minor": 0
      },
      "text/plain": [
       "Validating: 0it [00:00, ?it/s]"
      ]
     },
     "metadata": {},
     "output_type": "display_data"
    },
    {
     "data": {
      "application/vnd.jupyter.widget-view+json": {
       "model_id": "",
       "version_major": 2,
       "version_minor": 0
      },
      "text/plain": [
       "Validating: 0it [00:00, ?it/s]"
      ]
     },
     "metadata": {},
     "output_type": "display_data"
    },
    {
     "data": {
      "application/vnd.jupyter.widget-view+json": {
       "model_id": "",
       "version_major": 2,
       "version_minor": 0
      },
      "text/plain": [
       "Validating: 0it [00:00, ?it/s]"
      ]
     },
     "metadata": {},
     "output_type": "display_data"
    },
    {
     "data": {
      "application/vnd.jupyter.widget-view+json": {
       "model_id": "",
       "version_major": 2,
       "version_minor": 0
      },
      "text/plain": [
       "Validating: 0it [00:00, ?it/s]"
      ]
     },
     "metadata": {},
     "output_type": "display_data"
    },
    {
     "data": {
      "application/vnd.jupyter.widget-view+json": {
       "model_id": "",
       "version_major": 2,
       "version_minor": 0
      },
      "text/plain": [
       "Validating: 0it [00:00, ?it/s]"
      ]
     },
     "metadata": {},
     "output_type": "display_data"
    },
    {
     "data": {
      "application/vnd.jupyter.widget-view+json": {
       "model_id": "",
       "version_major": 2,
       "version_minor": 0
      },
      "text/plain": [
       "Validating: 0it [00:00, ?it/s]"
      ]
     },
     "metadata": {},
     "output_type": "display_data"
    },
    {
     "data": {
      "application/vnd.jupyter.widget-view+json": {
       "model_id": "",
       "version_major": 2,
       "version_minor": 0
      },
      "text/plain": [
       "Validating: 0it [00:00, ?it/s]"
      ]
     },
     "metadata": {},
     "output_type": "display_data"
    },
    {
     "data": {
      "application/vnd.jupyter.widget-view+json": {
       "model_id": "",
       "version_major": 2,
       "version_minor": 0
      },
      "text/plain": [
       "Validating: 0it [00:00, ?it/s]"
      ]
     },
     "metadata": {},
     "output_type": "display_data"
    },
    {
     "data": {
      "application/vnd.jupyter.widget-view+json": {
       "model_id": "",
       "version_major": 2,
       "version_minor": 0
      },
      "text/plain": [
       "Validating: 0it [00:00, ?it/s]"
      ]
     },
     "metadata": {},
     "output_type": "display_data"
    },
    {
     "data": {
      "application/vnd.jupyter.widget-view+json": {
       "model_id": "",
       "version_major": 2,
       "version_minor": 0
      },
      "text/plain": [
       "Validating: 0it [00:00, ?it/s]"
      ]
     },
     "metadata": {},
     "output_type": "display_data"
    },
    {
     "name": "stderr",
     "output_type": "stream",
     "text": [
      "2021-04-03 11:37:32.970 | INFO     | nam.data.folded:train_dataloaders:113 - Fold[5]: train: 398, val: 57\n",
      "GPU available: False, used: False\n",
      "TPU available: None, using: 0 TPU cores\n",
      "\n",
      "  | Name    | Type     | Params\n",
      "-------------------------------------\n",
      "0 | model   | NAM      | 2.0 M \n",
      "1 | metrics | Accuracy | 0     \n",
      "-------------------------------------\n",
      "2.0 M     Trainable params\n",
      "0         Non-trainable params\n",
      "2.0 M     Total params\n",
      "8.018     Total estimated model params size (MB)\n"
     ]
    },
    {
     "data": {
      "application/vnd.jupyter.widget-view+json": {
       "model_id": "",
       "version_major": 2,
       "version_minor": 0
      },
      "text/plain": [
       "Validation sanity check: 0it [00:00, ?it/s]"
      ]
     },
     "metadata": {},
     "output_type": "display_data"
    },
    {
     "data": {
      "application/vnd.jupyter.widget-view+json": {
       "model_id": "aabaf32c796542c19bf8cf826bac3455",
       "version_major": 2,
       "version_minor": 0
      },
      "text/plain": [
       "Training: 0it [00:00, ?it/s]"
      ]
     },
     "metadata": {},
     "output_type": "display_data"
    },
    {
     "data": {
      "application/vnd.jupyter.widget-view+json": {
       "model_id": "",
       "version_major": 2,
       "version_minor": 0
      },
      "text/plain": [
       "Validating: 0it [00:00, ?it/s]"
      ]
     },
     "metadata": {},
     "output_type": "display_data"
    },
    {
     "data": {
      "application/vnd.jupyter.widget-view+json": {
       "model_id": "",
       "version_major": 2,
       "version_minor": 0
      },
      "text/plain": [
       "Validating: 0it [00:00, ?it/s]"
      ]
     },
     "metadata": {},
     "output_type": "display_data"
    },
    {
     "data": {
      "application/vnd.jupyter.widget-view+json": {
       "model_id": "",
       "version_major": 2,
       "version_minor": 0
      },
      "text/plain": [
       "Validating: 0it [00:00, ?it/s]"
      ]
     },
     "metadata": {},
     "output_type": "display_data"
    },
    {
     "data": {
      "application/vnd.jupyter.widget-view+json": {
       "model_id": "",
       "version_major": 2,
       "version_minor": 0
      },
      "text/plain": [
       "Validating: 0it [00:00, ?it/s]"
      ]
     },
     "metadata": {},
     "output_type": "display_data"
    },
    {
     "data": {
      "application/vnd.jupyter.widget-view+json": {
       "model_id": "",
       "version_major": 2,
       "version_minor": 0
      },
      "text/plain": [
       "Validating: 0it [00:00, ?it/s]"
      ]
     },
     "metadata": {},
     "output_type": "display_data"
    },
    {
     "data": {
      "application/vnd.jupyter.widget-view+json": {
       "model_id": "",
       "version_major": 2,
       "version_minor": 0
      },
      "text/plain": [
       "Validating: 0it [00:00, ?it/s]"
      ]
     },
     "metadata": {},
     "output_type": "display_data"
    },
    {
     "data": {
      "application/vnd.jupyter.widget-view+json": {
       "model_id": "",
       "version_major": 2,
       "version_minor": 0
      },
      "text/plain": [
       "Validating: 0it [00:00, ?it/s]"
      ]
     },
     "metadata": {},
     "output_type": "display_data"
    },
    {
     "data": {
      "application/vnd.jupyter.widget-view+json": {
       "model_id": "",
       "version_major": 2,
       "version_minor": 0
      },
      "text/plain": [
       "Validating: 0it [00:00, ?it/s]"
      ]
     },
     "metadata": {},
     "output_type": "display_data"
    },
    {
     "data": {
      "application/vnd.jupyter.widget-view+json": {
       "model_id": "",
       "version_major": 2,
       "version_minor": 0
      },
      "text/plain": [
       "Validating: 0it [00:00, ?it/s]"
      ]
     },
     "metadata": {},
     "output_type": "display_data"
    },
    {
     "data": {
      "application/vnd.jupyter.widget-view+json": {
       "model_id": "",
       "version_major": 2,
       "version_minor": 0
      },
      "text/plain": [
       "Validating: 0it [00:00, ?it/s]"
      ]
     },
     "metadata": {},
     "output_type": "display_data"
    }
   ],
   "source": [
    "while True:\n",
    "    try:\n",
    "        train_dl, val_dl = next(train_dls)\n",
    "        trainer = pl.Trainer(\n",
    "            default_root_dir=f\"{config.output_dir}/{model.name}\",\n",
    "            max_epochs=config.training_epochs,\n",
    "            callbacks=[checkpoint_callback],\n",
    "        )\n",
    "        trainer.fit(model=engine, train_dataloader=train_dl, val_dataloaders=val_dl)\n",
    "    except StopIteration:\n",
    "        break"
   ]
  },
  {
   "cell_type": "code",
   "execution_count": 20,
   "metadata": {},
   "outputs": [
    {
     "data": {
      "text/plain": [
       "tensor(0.8442)"
      ]
     },
     "execution_count": 20,
     "metadata": {},
     "output_type": "execute_result"
    }
   ],
   "source": [
    "engine.metrics.compute()"
   ]
  },
  {
   "cell_type": "markdown",
   "metadata": {},
   "source": [
    "## Testing"
   ]
  },
  {
   "cell_type": "code",
   "execution_count": 21,
   "metadata": {},
   "outputs": [
    {
     "data": {
      "application/vnd.jupyter.widget-view+json": {
       "model_id": "946b896f88de4f35a7418f3b506d254a",
       "version_major": 2,
       "version_minor": 0
      },
      "text/plain": [
       "Testing: 0it [00:00, ?it/s]"
      ]
     },
     "metadata": {},
     "output_type": "display_data"
    },
    {
     "name": "stdout",
     "output_type": "stream",
     "text": [
      "--------------------------------------------------------------------------------\n",
      "DATALOADER:0 TEST RESULTS\n",
      "{'test_acc': 0.9298245906829834,\n",
      " 'test_acc_epoch': 0.9298245906829834,\n",
      " 'test_loss': 0.38971394300460815,\n",
      " 'test_loss_epoch': 0.38971394300460815}\n",
      "--------------------------------------------------------------------------------\n"
     ]
    },
    {
     "data": {
      "text/plain": [
       "[{'test_loss': 0.38971394300460815,\n",
       "  'test_loss_epoch': 0.38971394300460815,\n",
       "  'test_acc_epoch': 0.9298245906829834,\n",
       "  'test_acc': 0.9298245906829834}]"
      ]
     },
     "execution_count": 21,
     "metadata": {},
     "output_type": "execute_result"
    }
   ],
   "source": [
    "trainer.test(model=engine, test_dataloaders=test_dl)"
   ]
  },
  {
   "cell_type": "markdown",
   "metadata": {},
   "source": [
    "---\n",
    "---\n",
    "---"
   ]
  },
  {
   "cell_type": "markdown",
   "metadata": {},
   "source": [
    "## Dataset & Dataloaders (Breast Cancer Dataset)"
   ]
  },
  {
   "cell_type": "code",
   "execution_count": 11,
   "metadata": {},
   "outputs": [],
   "source": [
    "dataset = load_sklearn_housing_data(config=config) \n",
    "# dataset = load_breast_data(config=config)\n",
    "# dataset = load_gallup_data(\n",
    "#     config=config,\n",
    "#     features_columns= [\"income_2\", \"WP1219\", \"WP1220\", \"weo_gdpc_con_ppp\"]\n",
    "# )"
   ]
  },
  {
   "cell_type": "code",
   "execution_count": 12,
   "metadata": {},
   "outputs": [
    {
     "data": {
      "text/plain": [
       "20640"
      ]
     },
     "execution_count": 12,
     "metadata": {},
     "output_type": "execute_result"
    }
   ],
   "source": [
    "len(dataset.data)"
   ]
  },
  {
   "cell_type": "code",
   "execution_count": 13,
   "metadata": {},
   "outputs": [
    {
     "data": {
      "text/plain": [
       "torch.Size([20640, 8])"
      ]
     },
     "execution_count": 13,
     "metadata": {},
     "output_type": "execute_result"
    }
   ],
   "source": [
    "dataset.features.shape"
   ]
  },
  {
   "cell_type": "code",
   "execution_count": 14,
   "metadata": {},
   "outputs": [
    {
     "data": {
      "text/plain": [
       "5.000010013580322"
      ]
     },
     "execution_count": 14,
     "metadata": {},
     "output_type": "execute_result"
    }
   ],
   "source": [
    "dataset.targets.max().item()"
   ]
  },
  {
   "cell_type": "code",
   "execution_count": 15,
   "metadata": {
    "scrolled": true
   },
   "outputs": [
    {
     "data": {
      "text/plain": [
       "torch.Size([20640])"
      ]
     },
     "execution_count": 15,
     "metadata": {},
     "output_type": "execute_result"
    }
   ],
   "source": [
    "dataset.targets.shape"
   ]
  },
  {
   "cell_type": "code",
   "execution_count": 16,
   "metadata": {},
   "outputs": [],
   "source": [
    "train_dls = dataset.train_dataloaders()"
   ]
  },
  {
   "cell_type": "code",
   "execution_count": 17,
   "metadata": {},
   "outputs": [],
   "source": [
    "test_dl = dataset.test_dataloaders()"
   ]
  },
  {
   "cell_type": "markdown",
   "metadata": {},
   "source": [
    "## NAM Model"
   ]
  },
  {
   "cell_type": "code",
   "execution_count": 18,
   "metadata": {},
   "outputs": [
    {
     "name": "stderr",
     "output_type": "stream",
     "text": [
      "/Users/amrmkayid/anaconda3/envs/nam/lib/python3.7/site-packages/torch/nn/init.py:162: UserWarning: mean is more than 2 std from [a, b] in nn.init.trunc_normal_. The distribution of values may be incorrect.\n",
      "  return _no_grad_trunc_normal_(tensor, mean, std, a, b)\n"
     ]
    },
    {
     "data": {
      "text/plain": [
       "NAM(\n",
       "  (feature_nns): Sequential(\n",
       "    (FeatureNN_0): FeatureNN(\n",
       "      (model): ModuleList(\n",
       "        (0): ExU(in_features=1, out_features=1000)\n",
       "        (1): LinReLU(in_features=1000, out_features=64)\n",
       "        (2): LinReLU(in_features=64, out_features=32)\n",
       "        (3): Linear(in_features=32, out_features=1, bias=True)\n",
       "      )\n",
       "    )\n",
       "    (FeatureNN_1): FeatureNN(\n",
       "      (model): ModuleList(\n",
       "        (0): ExU(in_features=1, out_features=104)\n",
       "        (1): LinReLU(in_features=104, out_features=64)\n",
       "        (2): LinReLU(in_features=64, out_features=32)\n",
       "        (3): Linear(in_features=32, out_features=1, bias=True)\n",
       "      )\n",
       "    )\n",
       "    (FeatureNN_2): FeatureNN(\n",
       "      (model): ModuleList(\n",
       "        (0): ExU(in_features=1, out_features=1000)\n",
       "        (1): LinReLU(in_features=1000, out_features=64)\n",
       "        (2): LinReLU(in_features=64, out_features=32)\n",
       "        (3): Linear(in_features=32, out_features=1, bias=True)\n",
       "      )\n",
       "    )\n",
       "    (FeatureNN_3): FeatureNN(\n",
       "      (model): ModuleList(\n",
       "        (0): ExU(in_features=1, out_features=1000)\n",
       "        (1): LinReLU(in_features=1000, out_features=64)\n",
       "        (2): LinReLU(in_features=64, out_features=32)\n",
       "        (3): Linear(in_features=32, out_features=1, bias=True)\n",
       "      )\n",
       "    )\n",
       "    (FeatureNN_4): FeatureNN(\n",
       "      (model): ModuleList(\n",
       "        (0): ExU(in_features=1, out_features=1000)\n",
       "        (1): LinReLU(in_features=1000, out_features=64)\n",
       "        (2): LinReLU(in_features=64, out_features=32)\n",
       "        (3): Linear(in_features=32, out_features=1, bias=True)\n",
       "      )\n",
       "    )\n",
       "    (FeatureNN_5): FeatureNN(\n",
       "      (model): ModuleList(\n",
       "        (0): ExU(in_features=1, out_features=1000)\n",
       "        (1): LinReLU(in_features=1000, out_features=64)\n",
       "        (2): LinReLU(in_features=64, out_features=32)\n",
       "        (3): Linear(in_features=32, out_features=1, bias=True)\n",
       "      )\n",
       "    )\n",
       "    (FeatureNN_6): FeatureNN(\n",
       "      (model): ModuleList(\n",
       "        (0): ExU(in_features=1, out_features=1000)\n",
       "        (1): LinReLU(in_features=1000, out_features=64)\n",
       "        (2): LinReLU(in_features=64, out_features=32)\n",
       "        (3): Linear(in_features=32, out_features=1, bias=True)\n",
       "      )\n",
       "    )\n",
       "    (FeatureNN_7): FeatureNN(\n",
       "      (model): ModuleList(\n",
       "        (0): ExU(in_features=1, out_features=1000)\n",
       "        (1): LinReLU(in_features=1000, out_features=64)\n",
       "        (2): LinReLU(in_features=64, out_features=32)\n",
       "        (3): Linear(in_features=32, out_features=1, bias=True)\n",
       "      )\n",
       "    )\n",
       "  )\n",
       ")"
      ]
     },
     "execution_count": 18,
     "metadata": {},
     "output_type": "execute_result"
    }
   ],
   "source": [
    "model = NAM(\n",
    "      config=config,\n",
    "      name=\"NAMModel_Breast\",\n",
    "      num_inputs=len(dataset[0][0]),\n",
    "      num_units=get_num_units(config, dataset.features),\n",
    "#       num_outputs=int(dataset.targets.max().item() + 1),\n",
    ")\n",
    "model"
   ]
  },
  {
   "cell_type": "markdown",
   "metadata": {},
   "source": [
    "## Training"
   ]
  },
  {
   "cell_type": "code",
   "execution_count": 19,
   "metadata": {},
   "outputs": [],
   "source": [
    "engine = Engine(config, model)\n",
    "# engine"
   ]
  },
  {
   "cell_type": "code",
   "execution_count": 20,
   "metadata": {},
   "outputs": [],
   "source": [
    "checkpoint_callback = pl.callbacks.model_checkpoint.ModelCheckpoint(\n",
    "    dirpath=f\"{config.output_dir}/{model.name}/checkpoints\",\n",
    "    filename=model.name + \"-{epoch:02d}-{val_loss:.4f}\", \n",
    "    monitor='val_loss', \n",
    "    save_top_k=3,\n",
    "    mode='min'\n",
    ")"
   ]
  },
  {
   "cell_type": "code",
   "execution_count": 21,
   "metadata": {
    "scrolled": false
   },
   "outputs": [
    {
     "name": "stderr",
     "output_type": "stream",
     "text": [
      "2021-04-03 11:41:22.271 | INFO     | nam.data.folded:train_dataloaders:113 - Fold[1]: train: 14448, val: 2064\n",
      "GPU available: False, used: False\n",
      "TPU available: None, using: 0 TPU cores\n",
      "\n",
      "  | Name    | Type              | Params\n",
      "----------------------------------------------\n",
      "0 | model   | NAM               | 486 K \n",
      "1 | metrics | MeanAbsoluteError | 0     \n",
      "----------------------------------------------\n",
      "486 K     Trainable params\n",
      "0         Non-trainable params\n",
      "486 K     Total params\n",
      "1.944     Total estimated model params size (MB)\n"
     ]
    },
    {
     "data": {
      "application/vnd.jupyter.widget-view+json": {
       "model_id": "",
       "version_major": 2,
       "version_minor": 0
      },
      "text/plain": [
       "Validation sanity check: 0it [00:00, ?it/s]"
      ]
     },
     "metadata": {},
     "output_type": "display_data"
    },
    {
     "data": {
      "application/vnd.jupyter.widget-view+json": {
       "model_id": "1a8beb55c3684bf2a4e03a64a907a136",
       "version_major": 2,
       "version_minor": 0
      },
      "text/plain": [
       "Training: 0it [00:00, ?it/s]"
      ]
     },
     "metadata": {},
     "output_type": "display_data"
    },
    {
     "data": {
      "application/vnd.jupyter.widget-view+json": {
       "model_id": "",
       "version_major": 2,
       "version_minor": 0
      },
      "text/plain": [
       "Validating: 0it [00:00, ?it/s]"
      ]
     },
     "metadata": {},
     "output_type": "display_data"
    },
    {
     "data": {
      "application/vnd.jupyter.widget-view+json": {
       "model_id": "",
       "version_major": 2,
       "version_minor": 0
      },
      "text/plain": [
       "Validating: 0it [00:00, ?it/s]"
      ]
     },
     "metadata": {},
     "output_type": "display_data"
    },
    {
     "data": {
      "application/vnd.jupyter.widget-view+json": {
       "model_id": "",
       "version_major": 2,
       "version_minor": 0
      },
      "text/plain": [
       "Validating: 0it [00:00, ?it/s]"
      ]
     },
     "metadata": {},
     "output_type": "display_data"
    },
    {
     "data": {
      "application/vnd.jupyter.widget-view+json": {
       "model_id": "",
       "version_major": 2,
       "version_minor": 0
      },
      "text/plain": [
       "Validating: 0it [00:00, ?it/s]"
      ]
     },
     "metadata": {},
     "output_type": "display_data"
    },
    {
     "data": {
      "application/vnd.jupyter.widget-view+json": {
       "model_id": "",
       "version_major": 2,
       "version_minor": 0
      },
      "text/plain": [
       "Validating: 0it [00:00, ?it/s]"
      ]
     },
     "metadata": {},
     "output_type": "display_data"
    },
    {
     "data": {
      "application/vnd.jupyter.widget-view+json": {
       "model_id": "",
       "version_major": 2,
       "version_minor": 0
      },
      "text/plain": [
       "Validating: 0it [00:00, ?it/s]"
      ]
     },
     "metadata": {},
     "output_type": "display_data"
    },
    {
     "data": {
      "application/vnd.jupyter.widget-view+json": {
       "model_id": "",
       "version_major": 2,
       "version_minor": 0
      },
      "text/plain": [
       "Validating: 0it [00:00, ?it/s]"
      ]
     },
     "metadata": {},
     "output_type": "display_data"
    },
    {
     "data": {
      "application/vnd.jupyter.widget-view+json": {
       "model_id": "",
       "version_major": 2,
       "version_minor": 0
      },
      "text/plain": [
       "Validating: 0it [00:00, ?it/s]"
      ]
     },
     "metadata": {},
     "output_type": "display_data"
    },
    {
     "data": {
      "application/vnd.jupyter.widget-view+json": {
       "model_id": "",
       "version_major": 2,
       "version_minor": 0
      },
      "text/plain": [
       "Validating: 0it [00:00, ?it/s]"
      ]
     },
     "metadata": {},
     "output_type": "display_data"
    },
    {
     "data": {
      "application/vnd.jupyter.widget-view+json": {
       "model_id": "",
       "version_major": 2,
       "version_minor": 0
      },
      "text/plain": [
       "Validating: 0it [00:00, ?it/s]"
      ]
     },
     "metadata": {},
     "output_type": "display_data"
    },
    {
     "name": "stderr",
     "output_type": "stream",
     "text": [
      "2021-04-03 11:41:52.346 | INFO     | nam.data.folded:train_dataloaders:113 - Fold[2]: train: 14448, val: 2064\n",
      "GPU available: False, used: False\n",
      "TPU available: None, using: 0 TPU cores\n",
      "\n",
      "  | Name    | Type              | Params\n",
      "----------------------------------------------\n",
      "0 | model   | NAM               | 486 K \n",
      "1 | metrics | MeanAbsoluteError | 0     \n",
      "----------------------------------------------\n",
      "486 K     Trainable params\n",
      "0         Non-trainable params\n",
      "486 K     Total params\n",
      "1.944     Total estimated model params size (MB)\n"
     ]
    },
    {
     "data": {
      "application/vnd.jupyter.widget-view+json": {
       "model_id": "",
       "version_major": 2,
       "version_minor": 0
      },
      "text/plain": [
       "Validation sanity check: 0it [00:00, ?it/s]"
      ]
     },
     "metadata": {},
     "output_type": "display_data"
    },
    {
     "data": {
      "application/vnd.jupyter.widget-view+json": {
       "model_id": "d60f892afbc2432ea6bad5a8c03c4444",
       "version_major": 2,
       "version_minor": 0
      },
      "text/plain": [
       "Training: 0it [00:00, ?it/s]"
      ]
     },
     "metadata": {},
     "output_type": "display_data"
    },
    {
     "data": {
      "application/vnd.jupyter.widget-view+json": {
       "model_id": "",
       "version_major": 2,
       "version_minor": 0
      },
      "text/plain": [
       "Validating: 0it [00:00, ?it/s]"
      ]
     },
     "metadata": {},
     "output_type": "display_data"
    },
    {
     "data": {
      "application/vnd.jupyter.widget-view+json": {
       "model_id": "",
       "version_major": 2,
       "version_minor": 0
      },
      "text/plain": [
       "Validating: 0it [00:00, ?it/s]"
      ]
     },
     "metadata": {},
     "output_type": "display_data"
    },
    {
     "data": {
      "application/vnd.jupyter.widget-view+json": {
       "model_id": "",
       "version_major": 2,
       "version_minor": 0
      },
      "text/plain": [
       "Validating: 0it [00:00, ?it/s]"
      ]
     },
     "metadata": {},
     "output_type": "display_data"
    },
    {
     "data": {
      "application/vnd.jupyter.widget-view+json": {
       "model_id": "",
       "version_major": 2,
       "version_minor": 0
      },
      "text/plain": [
       "Validating: 0it [00:00, ?it/s]"
      ]
     },
     "metadata": {},
     "output_type": "display_data"
    },
    {
     "data": {
      "application/vnd.jupyter.widget-view+json": {
       "model_id": "",
       "version_major": 2,
       "version_minor": 0
      },
      "text/plain": [
       "Validating: 0it [00:00, ?it/s]"
      ]
     },
     "metadata": {},
     "output_type": "display_data"
    },
    {
     "data": {
      "application/vnd.jupyter.widget-view+json": {
       "model_id": "",
       "version_major": 2,
       "version_minor": 0
      },
      "text/plain": [
       "Validating: 0it [00:00, ?it/s]"
      ]
     },
     "metadata": {},
     "output_type": "display_data"
    },
    {
     "data": {
      "application/vnd.jupyter.widget-view+json": {
       "model_id": "",
       "version_major": 2,
       "version_minor": 0
      },
      "text/plain": [
       "Validating: 0it [00:00, ?it/s]"
      ]
     },
     "metadata": {},
     "output_type": "display_data"
    },
    {
     "data": {
      "application/vnd.jupyter.widget-view+json": {
       "model_id": "",
       "version_major": 2,
       "version_minor": 0
      },
      "text/plain": [
       "Validating: 0it [00:00, ?it/s]"
      ]
     },
     "metadata": {},
     "output_type": "display_data"
    },
    {
     "data": {
      "application/vnd.jupyter.widget-view+json": {
       "model_id": "",
       "version_major": 2,
       "version_minor": 0
      },
      "text/plain": [
       "Validating: 0it [00:00, ?it/s]"
      ]
     },
     "metadata": {},
     "output_type": "display_data"
    },
    {
     "data": {
      "application/vnd.jupyter.widget-view+json": {
       "model_id": "",
       "version_major": 2,
       "version_minor": 0
      },
      "text/plain": [
       "Validating: 0it [00:00, ?it/s]"
      ]
     },
     "metadata": {},
     "output_type": "display_data"
    },
    {
     "name": "stderr",
     "output_type": "stream",
     "text": [
      "2021-04-03 11:42:23.448 | INFO     | nam.data.folded:train_dataloaders:113 - Fold[3]: train: 14448, val: 2064\n",
      "GPU available: False, used: False\n",
      "TPU available: None, using: 0 TPU cores\n",
      "\n",
      "  | Name    | Type              | Params\n",
      "----------------------------------------------\n",
      "0 | model   | NAM               | 486 K \n",
      "1 | metrics | MeanAbsoluteError | 0     \n",
      "----------------------------------------------\n",
      "486 K     Trainable params\n",
      "0         Non-trainable params\n",
      "486 K     Total params\n",
      "1.944     Total estimated model params size (MB)\n"
     ]
    },
    {
     "data": {
      "application/vnd.jupyter.widget-view+json": {
       "model_id": "",
       "version_major": 2,
       "version_minor": 0
      },
      "text/plain": [
       "Validation sanity check: 0it [00:00, ?it/s]"
      ]
     },
     "metadata": {},
     "output_type": "display_data"
    },
    {
     "data": {
      "application/vnd.jupyter.widget-view+json": {
       "model_id": "7c4532f0d0f64d93bee5fb9d8c1de412",
       "version_major": 2,
       "version_minor": 0
      },
      "text/plain": [
       "Training: 0it [00:00, ?it/s]"
      ]
     },
     "metadata": {},
     "output_type": "display_data"
    },
    {
     "data": {
      "application/vnd.jupyter.widget-view+json": {
       "model_id": "",
       "version_major": 2,
       "version_minor": 0
      },
      "text/plain": [
       "Validating: 0it [00:00, ?it/s]"
      ]
     },
     "metadata": {},
     "output_type": "display_data"
    },
    {
     "data": {
      "application/vnd.jupyter.widget-view+json": {
       "model_id": "",
       "version_major": 2,
       "version_minor": 0
      },
      "text/plain": [
       "Validating: 0it [00:00, ?it/s]"
      ]
     },
     "metadata": {},
     "output_type": "display_data"
    },
    {
     "data": {
      "application/vnd.jupyter.widget-view+json": {
       "model_id": "",
       "version_major": 2,
       "version_minor": 0
      },
      "text/plain": [
       "Validating: 0it [00:00, ?it/s]"
      ]
     },
     "metadata": {},
     "output_type": "display_data"
    },
    {
     "data": {
      "application/vnd.jupyter.widget-view+json": {
       "model_id": "",
       "version_major": 2,
       "version_minor": 0
      },
      "text/plain": [
       "Validating: 0it [00:00, ?it/s]"
      ]
     },
     "metadata": {},
     "output_type": "display_data"
    },
    {
     "data": {
      "application/vnd.jupyter.widget-view+json": {
       "model_id": "",
       "version_major": 2,
       "version_minor": 0
      },
      "text/plain": [
       "Validating: 0it [00:00, ?it/s]"
      ]
     },
     "metadata": {},
     "output_type": "display_data"
    },
    {
     "data": {
      "application/vnd.jupyter.widget-view+json": {
       "model_id": "",
       "version_major": 2,
       "version_minor": 0
      },
      "text/plain": [
       "Validating: 0it [00:00, ?it/s]"
      ]
     },
     "metadata": {},
     "output_type": "display_data"
    },
    {
     "data": {
      "application/vnd.jupyter.widget-view+json": {
       "model_id": "",
       "version_major": 2,
       "version_minor": 0
      },
      "text/plain": [
       "Validating: 0it [00:00, ?it/s]"
      ]
     },
     "metadata": {},
     "output_type": "display_data"
    },
    {
     "data": {
      "application/vnd.jupyter.widget-view+json": {
       "model_id": "",
       "version_major": 2,
       "version_minor": 0
      },
      "text/plain": [
       "Validating: 0it [00:00, ?it/s]"
      ]
     },
     "metadata": {},
     "output_type": "display_data"
    },
    {
     "data": {
      "application/vnd.jupyter.widget-view+json": {
       "model_id": "",
       "version_major": 2,
       "version_minor": 0
      },
      "text/plain": [
       "Validating: 0it [00:00, ?it/s]"
      ]
     },
     "metadata": {},
     "output_type": "display_data"
    },
    {
     "data": {
      "application/vnd.jupyter.widget-view+json": {
       "model_id": "",
       "version_major": 2,
       "version_minor": 0
      },
      "text/plain": [
       "Validating: 0it [00:00, ?it/s]"
      ]
     },
     "metadata": {},
     "output_type": "display_data"
    },
    {
     "name": "stderr",
     "output_type": "stream",
     "text": [
      "2021-04-03 11:42:54.981 | INFO     | nam.data.folded:train_dataloaders:113 - Fold[4]: train: 14448, val: 2064\n",
      "GPU available: False, used: False\n",
      "TPU available: None, using: 0 TPU cores\n",
      "\n",
      "  | Name    | Type              | Params\n",
      "----------------------------------------------\n",
      "0 | model   | NAM               | 486 K \n",
      "1 | metrics | MeanAbsoluteError | 0     \n",
      "----------------------------------------------\n",
      "486 K     Trainable params\n",
      "0         Non-trainable params\n",
      "486 K     Total params\n",
      "1.944     Total estimated model params size (MB)\n"
     ]
    },
    {
     "data": {
      "application/vnd.jupyter.widget-view+json": {
       "model_id": "",
       "version_major": 2,
       "version_minor": 0
      },
      "text/plain": [
       "Validation sanity check: 0it [00:00, ?it/s]"
      ]
     },
     "metadata": {},
     "output_type": "display_data"
    },
    {
     "data": {
      "application/vnd.jupyter.widget-view+json": {
       "model_id": "2598dfffc2b544e2943f3106c08a02a9",
       "version_major": 2,
       "version_minor": 0
      },
      "text/plain": [
       "Training: 0it [00:00, ?it/s]"
      ]
     },
     "metadata": {},
     "output_type": "display_data"
    },
    {
     "data": {
      "application/vnd.jupyter.widget-view+json": {
       "model_id": "",
       "version_major": 2,
       "version_minor": 0
      },
      "text/plain": [
       "Validating: 0it [00:00, ?it/s]"
      ]
     },
     "metadata": {},
     "output_type": "display_data"
    },
    {
     "data": {
      "application/vnd.jupyter.widget-view+json": {
       "model_id": "",
       "version_major": 2,
       "version_minor": 0
      },
      "text/plain": [
       "Validating: 0it [00:00, ?it/s]"
      ]
     },
     "metadata": {},
     "output_type": "display_data"
    },
    {
     "data": {
      "application/vnd.jupyter.widget-view+json": {
       "model_id": "",
       "version_major": 2,
       "version_minor": 0
      },
      "text/plain": [
       "Validating: 0it [00:00, ?it/s]"
      ]
     },
     "metadata": {},
     "output_type": "display_data"
    },
    {
     "data": {
      "application/vnd.jupyter.widget-view+json": {
       "model_id": "",
       "version_major": 2,
       "version_minor": 0
      },
      "text/plain": [
       "Validating: 0it [00:00, ?it/s]"
      ]
     },
     "metadata": {},
     "output_type": "display_data"
    },
    {
     "data": {
      "application/vnd.jupyter.widget-view+json": {
       "model_id": "",
       "version_major": 2,
       "version_minor": 0
      },
      "text/plain": [
       "Validating: 0it [00:00, ?it/s]"
      ]
     },
     "metadata": {},
     "output_type": "display_data"
    },
    {
     "data": {
      "application/vnd.jupyter.widget-view+json": {
       "model_id": "",
       "version_major": 2,
       "version_minor": 0
      },
      "text/plain": [
       "Validating: 0it [00:00, ?it/s]"
      ]
     },
     "metadata": {},
     "output_type": "display_data"
    },
    {
     "data": {
      "application/vnd.jupyter.widget-view+json": {
       "model_id": "",
       "version_major": 2,
       "version_minor": 0
      },
      "text/plain": [
       "Validating: 0it [00:00, ?it/s]"
      ]
     },
     "metadata": {},
     "output_type": "display_data"
    },
    {
     "data": {
      "application/vnd.jupyter.widget-view+json": {
       "model_id": "",
       "version_major": 2,
       "version_minor": 0
      },
      "text/plain": [
       "Validating: 0it [00:00, ?it/s]"
      ]
     },
     "metadata": {},
     "output_type": "display_data"
    },
    {
     "data": {
      "application/vnd.jupyter.widget-view+json": {
       "model_id": "",
       "version_major": 2,
       "version_minor": 0
      },
      "text/plain": [
       "Validating: 0it [00:00, ?it/s]"
      ]
     },
     "metadata": {},
     "output_type": "display_data"
    },
    {
     "data": {
      "application/vnd.jupyter.widget-view+json": {
       "model_id": "",
       "version_major": 2,
       "version_minor": 0
      },
      "text/plain": [
       "Validating: 0it [00:00, ?it/s]"
      ]
     },
     "metadata": {},
     "output_type": "display_data"
    },
    {
     "name": "stderr",
     "output_type": "stream",
     "text": [
      "2021-04-03 11:43:26.670 | INFO     | nam.data.folded:train_dataloaders:113 - Fold[5]: train: 14448, val: 2064\n",
      "GPU available: False, used: False\n",
      "TPU available: None, using: 0 TPU cores\n",
      "\n",
      "  | Name    | Type              | Params\n",
      "----------------------------------------------\n",
      "0 | model   | NAM               | 486 K \n",
      "1 | metrics | MeanAbsoluteError | 0     \n",
      "----------------------------------------------\n",
      "486 K     Trainable params\n",
      "0         Non-trainable params\n",
      "486 K     Total params\n",
      "1.944     Total estimated model params size (MB)\n"
     ]
    },
    {
     "data": {
      "application/vnd.jupyter.widget-view+json": {
       "model_id": "",
       "version_major": 2,
       "version_minor": 0
      },
      "text/plain": [
       "Validation sanity check: 0it [00:00, ?it/s]"
      ]
     },
     "metadata": {},
     "output_type": "display_data"
    },
    {
     "data": {
      "application/vnd.jupyter.widget-view+json": {
       "model_id": "cdf9a56c48154a53ab0d8acd3a59d181",
       "version_major": 2,
       "version_minor": 0
      },
      "text/plain": [
       "Training: 0it [00:00, ?it/s]"
      ]
     },
     "metadata": {},
     "output_type": "display_data"
    },
    {
     "data": {
      "application/vnd.jupyter.widget-view+json": {
       "model_id": "",
       "version_major": 2,
       "version_minor": 0
      },
      "text/plain": [
       "Validating: 0it [00:00, ?it/s]"
      ]
     },
     "metadata": {},
     "output_type": "display_data"
    },
    {
     "data": {
      "application/vnd.jupyter.widget-view+json": {
       "model_id": "",
       "version_major": 2,
       "version_minor": 0
      },
      "text/plain": [
       "Validating: 0it [00:00, ?it/s]"
      ]
     },
     "metadata": {},
     "output_type": "display_data"
    },
    {
     "data": {
      "application/vnd.jupyter.widget-view+json": {
       "model_id": "",
       "version_major": 2,
       "version_minor": 0
      },
      "text/plain": [
       "Validating: 0it [00:00, ?it/s]"
      ]
     },
     "metadata": {},
     "output_type": "display_data"
    },
    {
     "data": {
      "application/vnd.jupyter.widget-view+json": {
       "model_id": "",
       "version_major": 2,
       "version_minor": 0
      },
      "text/plain": [
       "Validating: 0it [00:00, ?it/s]"
      ]
     },
     "metadata": {},
     "output_type": "display_data"
    },
    {
     "data": {
      "application/vnd.jupyter.widget-view+json": {
       "model_id": "",
       "version_major": 2,
       "version_minor": 0
      },
      "text/plain": [
       "Validating: 0it [00:00, ?it/s]"
      ]
     },
     "metadata": {},
     "output_type": "display_data"
    },
    {
     "data": {
      "application/vnd.jupyter.widget-view+json": {
       "model_id": "",
       "version_major": 2,
       "version_minor": 0
      },
      "text/plain": [
       "Validating: 0it [00:00, ?it/s]"
      ]
     },
     "metadata": {},
     "output_type": "display_data"
    },
    {
     "data": {
      "application/vnd.jupyter.widget-view+json": {
       "model_id": "",
       "version_major": 2,
       "version_minor": 0
      },
      "text/plain": [
       "Validating: 0it [00:00, ?it/s]"
      ]
     },
     "metadata": {},
     "output_type": "display_data"
    },
    {
     "data": {
      "application/vnd.jupyter.widget-view+json": {
       "model_id": "",
       "version_major": 2,
       "version_minor": 0
      },
      "text/plain": [
       "Validating: 0it [00:00, ?it/s]"
      ]
     },
     "metadata": {},
     "output_type": "display_data"
    },
    {
     "data": {
      "application/vnd.jupyter.widget-view+json": {
       "model_id": "",
       "version_major": 2,
       "version_minor": 0
      },
      "text/plain": [
       "Validating: 0it [00:00, ?it/s]"
      ]
     },
     "metadata": {},
     "output_type": "display_data"
    },
    {
     "data": {
      "application/vnd.jupyter.widget-view+json": {
       "model_id": "",
       "version_major": 2,
       "version_minor": 0
      },
      "text/plain": [
       "Validating: 0it [00:00, ?it/s]"
      ]
     },
     "metadata": {},
     "output_type": "display_data"
    }
   ],
   "source": [
    "while True:\n",
    "    try:\n",
    "        train_dl, val_dl = next(train_dls)\n",
    "        trainer = pl.Trainer(\n",
    "            default_root_dir=f\"{config.output_dir}/{model.name}\",\n",
    "            max_epochs=config.training_epochs,\n",
    "            callbacks=[checkpoint_callback],\n",
    "        )\n",
    "        trainer.fit(model=engine, train_dataloader=train_dl, val_dataloaders=val_dl)\n",
    "    except StopIteration:\n",
    "        break"
   ]
  },
  {
   "cell_type": "markdown",
   "metadata": {},
   "source": [
    "## Testing"
   ]
  },
  {
   "cell_type": "code",
   "execution_count": 22,
   "metadata": {},
   "outputs": [
    {
     "data": {
      "application/vnd.jupyter.widget-view+json": {
       "model_id": "0c20ecd17e3347d8907ba4f870920ac4",
       "version_major": 2,
       "version_minor": 0
      },
      "text/plain": [
       "Testing: 0it [00:00, ?it/s]"
      ]
     },
     "metadata": {},
     "output_type": "display_data"
    },
    {
     "name": "stdout",
     "output_type": "stream",
     "text": [
      "--------------------------------------------------------------------------------\n",
      "DATALOADER:0 TEST RESULTS\n",
      "{'test_acc': 0.6769142746925354,\n",
      " 'test_acc_epoch': 0.8297551870346069,\n",
      " 'test_loss': 0.6098895072937012,\n",
      " 'test_loss_epoch': 1.2295547723770142}\n",
      "--------------------------------------------------------------------------------\n"
     ]
    },
    {
     "data": {
      "text/plain": [
       "[{'test_loss': 0.6098895072937012,\n",
       "  'test_loss_epoch': 1.2295547723770142,\n",
       "  'test_acc_epoch': 0.8297551870346069,\n",
       "  'test_acc': 0.6769142746925354}]"
      ]
     },
     "execution_count": 22,
     "metadata": {},
     "output_type": "execute_result"
    }
   ],
   "source": [
    "trainer.test(model=engine, test_dataloaders=test_dl)"
   ]
  },
  {
   "cell_type": "markdown",
   "metadata": {},
   "source": [
    "---\n",
    "---\n",
    "---"
   ]
  },
  {
   "cell_type": "markdown",
   "metadata": {},
   "source": [
    "## Dataset & Dataloaders (GALLUP Dataset)"
   ]
  },
  {
   "cell_type": "code",
   "execution_count": 6,
   "metadata": {},
   "outputs": [],
   "source": [
    "# dataset = load_sklearn_housing_data(config=config) \n",
    "# dataset = load_breast_data(config=config)\n",
    "dataset = load_gallup_data(\n",
    "    config=config,\n",
    "    features_columns= [\"income_2\", \"WP1219\", \"WP1220\", \"weo_gdpc_con_ppp\"]\n",
    ")"
   ]
  },
  {
   "cell_type": "code",
   "execution_count": 7,
   "metadata": {},
   "outputs": [
    {
     "data": {
      "text/plain": [
       "1340809"
      ]
     },
     "execution_count": 7,
     "metadata": {},
     "output_type": "execute_result"
    }
   ],
   "source": [
    "len(dataset.data)"
   ]
  },
  {
   "cell_type": "code",
   "execution_count": 8,
   "metadata": {},
   "outputs": [
    {
     "data": {
      "text/plain": [
       "torch.Size([1340809, 4])"
      ]
     },
     "execution_count": 8,
     "metadata": {},
     "output_type": "execute_result"
    }
   ],
   "source": [
    "dataset.features.shape"
   ]
  },
  {
   "cell_type": "code",
   "execution_count": 9,
   "metadata": {},
   "outputs": [
    {
     "data": {
      "text/plain": [
       "1"
      ]
     },
     "execution_count": 9,
     "metadata": {},
     "output_type": "execute_result"
    }
   ],
   "source": [
    "dataset.targets.max().item()"
   ]
  },
  {
   "cell_type": "code",
   "execution_count": 10,
   "metadata": {
    "scrolled": true
   },
   "outputs": [
    {
     "data": {
      "text/plain": [
       "torch.Size([1340809])"
      ]
     },
     "execution_count": 10,
     "metadata": {},
     "output_type": "execute_result"
    }
   ],
   "source": [
    "dataset.targets.shape"
   ]
  },
  {
   "cell_type": "code",
   "execution_count": 11,
   "metadata": {},
   "outputs": [],
   "source": [
    "config.batch_size = 2048"
   ]
  },
  {
   "cell_type": "code",
   "execution_count": 12,
   "metadata": {},
   "outputs": [],
   "source": [
    "train_dls = dataset.train_dataloaders()"
   ]
  },
  {
   "cell_type": "code",
   "execution_count": 13,
   "metadata": {},
   "outputs": [],
   "source": [
    "test_dl = dataset.test_dataloaders()"
   ]
  },
  {
   "cell_type": "markdown",
   "metadata": {},
   "source": [
    "## NAM Model"
   ]
  },
  {
   "cell_type": "code",
   "execution_count": 14,
   "metadata": {},
   "outputs": [
    {
     "name": "stderr",
     "output_type": "stream",
     "text": [
      "/Users/amrmkayid/anaconda3/envs/nam/lib/python3.7/site-packages/torch/nn/init.py:162: UserWarning: mean is more than 2 std from [a, b] in nn.init.trunc_normal_. The distribution of values may be incorrect.\n",
      "  return _no_grad_trunc_normal_(tensor, mean, std, a, b)\n"
     ]
    },
    {
     "data": {
      "text/plain": [
       "NAM(\n",
       "  (feature_nns): Sequential(\n",
       "    (FeatureNN_0): FeatureNN(\n",
       "      (model): ModuleList(\n",
       "        (0): ExU(in_features=1, out_features=1000)\n",
       "        (1): LinReLU(in_features=1000, out_features=64)\n",
       "        (2): LinReLU(in_features=64, out_features=32)\n",
       "        (3): Linear(in_features=32, out_features=1, bias=True)\n",
       "      )\n",
       "    )\n",
       "    (FeatureNN_1): FeatureNN(\n",
       "      (model): ModuleList(\n",
       "        (0): ExU(in_features=1, out_features=4)\n",
       "        (1): LinReLU(in_features=4, out_features=64)\n",
       "        (2): LinReLU(in_features=64, out_features=32)\n",
       "        (3): Linear(in_features=32, out_features=1, bias=True)\n",
       "      )\n",
       "    )\n",
       "    (FeatureNN_2): FeatureNN(\n",
       "      (model): ModuleList(\n",
       "        (0): ExU(in_features=1, out_features=176)\n",
       "        (1): LinReLU(in_features=176, out_features=64)\n",
       "        (2): LinReLU(in_features=64, out_features=32)\n",
       "        (3): Linear(in_features=32, out_features=1, bias=True)\n",
       "      )\n",
       "    )\n",
       "    (FeatureNN_3): FeatureNN(\n",
       "      (model): ModuleList(\n",
       "        (0): ExU(in_features=1, out_features=1000)\n",
       "        (1): LinReLU(in_features=1000, out_features=64)\n",
       "        (2): LinReLU(in_features=64, out_features=32)\n",
       "        (3): Linear(in_features=32, out_features=1, bias=True)\n",
       "      )\n",
       "    )\n",
       "  )\n",
       "  (linear): Linear(in_features=4, out_features=2, bias=True)\n",
       ")"
      ]
     },
     "execution_count": 14,
     "metadata": {},
     "output_type": "execute_result"
    }
   ],
   "source": [
    "model = NAM(\n",
    "      config=config,\n",
    "      name=\"NAMModel_GALLUP\",\n",
    "      num_inputs=len(dataset[0][0]),\n",
    "      num_units=get_num_units(config, dataset.features),\n",
    "      num_outputs=int(dataset.targets.max().item() + 1),\n",
    ")\n",
    "model"
   ]
  },
  {
   "cell_type": "markdown",
   "metadata": {},
   "source": [
    "## Training"
   ]
  },
  {
   "cell_type": "code",
   "execution_count": 15,
   "metadata": {},
   "outputs": [],
   "source": [
    "config.training_epochs = 1"
   ]
  },
  {
   "cell_type": "code",
   "execution_count": 16,
   "metadata": {},
   "outputs": [],
   "source": [
    "engine = Engine(config, model)\n",
    "# engine"
   ]
  },
  {
   "cell_type": "code",
   "execution_count": 17,
   "metadata": {},
   "outputs": [
    {
     "name": "stderr",
     "output_type": "stream",
     "text": [
      "/Users/amrmkayid/anaconda3/envs/nam/lib/python3.7/site-packages/pytorch_lightning/utilities/distributed.py:52: UserWarning: Checkpoint directory output/NAMModel_GALLUP/checkpoints exists and is not empty.\n",
      "  warnings.warn(*args, **kwargs)\n"
     ]
    }
   ],
   "source": [
    "checkpoint_callback = pl.callbacks.model_checkpoint.ModelCheckpoint(\n",
    "    dirpath=f\"{config.output_dir}/{model.name}/checkpoints\",\n",
    "    filename=model.name + \"-{epoch:02d}-{val_loss:.4f}\", \n",
    "    monitor='val_loss', \n",
    "    save_top_k=3,\n",
    "    mode='min'\n",
    ")"
   ]
  },
  {
   "cell_type": "code",
   "execution_count": 18,
   "metadata": {
    "scrolled": false
   },
   "outputs": [
    {
     "name": "stderr",
     "output_type": "stream",
     "text": [
      "2021-04-03 15:14:43.628 | INFO     | nam.data.folded:train_dataloaders:113 - Fold[1]: train: 938566, val: 134081\n",
      "GPU available: False, used: False\n",
      "TPU available: None, using: 0 TPU cores\n",
      "\n",
      "  | Name    | Type     | Params\n",
      "-------------------------------------\n",
      "0 | model   | NAM      | 152 K \n",
      "1 | metrics | Accuracy | 0     \n",
      "-------------------------------------\n",
      "152 K     Trainable params\n",
      "0         Non-trainable params\n",
      "152 K     Total params\n",
      "0.610     Total estimated model params size (MB)\n"
     ]
    },
    {
     "data": {
      "application/vnd.jupyter.widget-view+json": {
       "model_id": "",
       "version_major": 2,
       "version_minor": 0
      },
      "text/plain": [
       "Validation sanity check: 0it [00:00, ?it/s]"
      ]
     },
     "metadata": {},
     "output_type": "display_data"
    },
    {
     "data": {
      "application/vnd.jupyter.widget-view+json": {
       "model_id": "e1ae94049b7c441c9cc641b7dc2c00b8",
       "version_major": 2,
       "version_minor": 0
      },
      "text/plain": [
       "Training: 0it [00:00, ?it/s]"
      ]
     },
     "metadata": {},
     "output_type": "display_data"
    },
    {
     "data": {
      "application/vnd.jupyter.widget-view+json": {
       "model_id": "",
       "version_major": 2,
       "version_minor": 0
      },
      "text/plain": [
       "Validating: 0it [00:00, ?it/s]"
      ]
     },
     "metadata": {},
     "output_type": "display_data"
    },
    {
     "name": "stderr",
     "output_type": "stream",
     "text": [
      "2021-04-03 15:15:48.469 | INFO     | nam.data.folded:train_dataloaders:113 - Fold[2]: train: 938566, val: 134081\n",
      "GPU available: False, used: False\n",
      "TPU available: None, using: 0 TPU cores\n",
      "\n",
      "  | Name    | Type     | Params\n",
      "-------------------------------------\n",
      "0 | model   | NAM      | 152 K \n",
      "1 | metrics | Accuracy | 0     \n",
      "-------------------------------------\n",
      "152 K     Trainable params\n",
      "0         Non-trainable params\n",
      "152 K     Total params\n",
      "0.610     Total estimated model params size (MB)\n"
     ]
    },
    {
     "data": {
      "application/vnd.jupyter.widget-view+json": {
       "model_id": "",
       "version_major": 2,
       "version_minor": 0
      },
      "text/plain": [
       "Validation sanity check: 0it [00:00, ?it/s]"
      ]
     },
     "metadata": {},
     "output_type": "display_data"
    },
    {
     "data": {
      "application/vnd.jupyter.widget-view+json": {
       "model_id": "8e85661d71da4ebea0c55b113076b491",
       "version_major": 2,
       "version_minor": 0
      },
      "text/plain": [
       "Training: 0it [00:00, ?it/s]"
      ]
     },
     "metadata": {},
     "output_type": "display_data"
    },
    {
     "data": {
      "application/vnd.jupyter.widget-view+json": {
       "model_id": "",
       "version_major": 2,
       "version_minor": 0
      },
      "text/plain": [
       "Validating: 0it [00:00, ?it/s]"
      ]
     },
     "metadata": {},
     "output_type": "display_data"
    },
    {
     "name": "stderr",
     "output_type": "stream",
     "text": [
      "2021-04-03 15:16:54.596 | INFO     | nam.data.folded:train_dataloaders:113 - Fold[3]: train: 938566, val: 134081\n",
      "GPU available: False, used: False\n",
      "TPU available: None, using: 0 TPU cores\n",
      "\n",
      "  | Name    | Type     | Params\n",
      "-------------------------------------\n",
      "0 | model   | NAM      | 152 K \n",
      "1 | metrics | Accuracy | 0     \n",
      "-------------------------------------\n",
      "152 K     Trainable params\n",
      "0         Non-trainable params\n",
      "152 K     Total params\n",
      "0.610     Total estimated model params size (MB)\n"
     ]
    },
    {
     "data": {
      "application/vnd.jupyter.widget-view+json": {
       "model_id": "",
       "version_major": 2,
       "version_minor": 0
      },
      "text/plain": [
       "Validation sanity check: 0it [00:00, ?it/s]"
      ]
     },
     "metadata": {},
     "output_type": "display_data"
    },
    {
     "data": {
      "application/vnd.jupyter.widget-view+json": {
       "model_id": "0ef7496476624929a759b7af6e834a7c",
       "version_major": 2,
       "version_minor": 0
      },
      "text/plain": [
       "Training: 0it [00:00, ?it/s]"
      ]
     },
     "metadata": {},
     "output_type": "display_data"
    },
    {
     "data": {
      "application/vnd.jupyter.widget-view+json": {
       "model_id": "",
       "version_major": 2,
       "version_minor": 0
      },
      "text/plain": [
       "Validating: 0it [00:00, ?it/s]"
      ]
     },
     "metadata": {},
     "output_type": "display_data"
    },
    {
     "name": "stderr",
     "output_type": "stream",
     "text": [
      "2021-04-03 15:18:01.110 | INFO     | nam.data.folded:train_dataloaders:113 - Fold[4]: train: 938566, val: 134081\n",
      "GPU available: False, used: False\n",
      "TPU available: None, using: 0 TPU cores\n",
      "\n",
      "  | Name    | Type     | Params\n",
      "-------------------------------------\n",
      "0 | model   | NAM      | 152 K \n",
      "1 | metrics | Accuracy | 0     \n",
      "-------------------------------------\n",
      "152 K     Trainable params\n",
      "0         Non-trainable params\n",
      "152 K     Total params\n",
      "0.610     Total estimated model params size (MB)\n"
     ]
    },
    {
     "data": {
      "application/vnd.jupyter.widget-view+json": {
       "model_id": "",
       "version_major": 2,
       "version_minor": 0
      },
      "text/plain": [
       "Validation sanity check: 0it [00:00, ?it/s]"
      ]
     },
     "metadata": {},
     "output_type": "display_data"
    },
    {
     "data": {
      "application/vnd.jupyter.widget-view+json": {
       "model_id": "8bd025b70e99454db93c2b1bce2f5dbe",
       "version_major": 2,
       "version_minor": 0
      },
      "text/plain": [
       "Training: 0it [00:00, ?it/s]"
      ]
     },
     "metadata": {},
     "output_type": "display_data"
    },
    {
     "data": {
      "application/vnd.jupyter.widget-view+json": {
       "model_id": "",
       "version_major": 2,
       "version_minor": 0
      },
      "text/plain": [
       "Validating: 0it [00:00, ?it/s]"
      ]
     },
     "metadata": {},
     "output_type": "display_data"
    },
    {
     "name": "stderr",
     "output_type": "stream",
     "text": [
      "2021-04-03 15:19:07.068 | INFO     | nam.data.folded:train_dataloaders:113 - Fold[5]: train: 938566, val: 134081\n",
      "GPU available: False, used: False\n",
      "TPU available: None, using: 0 TPU cores\n",
      "\n",
      "  | Name    | Type     | Params\n",
      "-------------------------------------\n",
      "0 | model   | NAM      | 152 K \n",
      "1 | metrics | Accuracy | 0     \n",
      "-------------------------------------\n",
      "152 K     Trainable params\n",
      "0         Non-trainable params\n",
      "152 K     Total params\n",
      "0.610     Total estimated model params size (MB)\n"
     ]
    },
    {
     "data": {
      "application/vnd.jupyter.widget-view+json": {
       "model_id": "",
       "version_major": 2,
       "version_minor": 0
      },
      "text/plain": [
       "Validation sanity check: 0it [00:00, ?it/s]"
      ]
     },
     "metadata": {},
     "output_type": "display_data"
    },
    {
     "data": {
      "application/vnd.jupyter.widget-view+json": {
       "model_id": "bf2cd35902a242e8b1159ae943144b1a",
       "version_major": 2,
       "version_minor": 0
      },
      "text/plain": [
       "Training: 0it [00:00, ?it/s]"
      ]
     },
     "metadata": {},
     "output_type": "display_data"
    },
    {
     "data": {
      "application/vnd.jupyter.widget-view+json": {
       "model_id": "",
       "version_major": 2,
       "version_minor": 0
      },
      "text/plain": [
       "Validating: 0it [00:00, ?it/s]"
      ]
     },
     "metadata": {},
     "output_type": "display_data"
    }
   ],
   "source": [
    "while True:\n",
    "    try:\n",
    "        train_dl, val_dl = next(train_dls)\n",
    "        trainer = pl.Trainer(\n",
    "            default_root_dir=f\"{config.output_dir}/{model.name}\",\n",
    "            max_epochs=config.training_epochs,\n",
    "            callbacks=[checkpoint_callback],\n",
    "        )\n",
    "        trainer.fit(model=engine, train_dataloader=train_dl, val_dataloaders=val_dl)\n",
    "    except StopIteration:\n",
    "        break"
   ]
  },
  {
   "cell_type": "markdown",
   "metadata": {},
   "source": [
    "## Testing"
   ]
  },
  {
   "cell_type": "code",
   "execution_count": 19,
   "metadata": {},
   "outputs": [
    {
     "data": {
      "application/vnd.jupyter.widget-view+json": {
       "model_id": "868c4b091a36495b960e44f8ca683170",
       "version_major": 2,
       "version_minor": 0
      },
      "text/plain": [
       "Testing: 0it [00:00, ?it/s]"
      ]
     },
     "metadata": {},
     "output_type": "display_data"
    },
    {
     "name": "stdout",
     "output_type": "stream",
     "text": [
      "--------------------------------------------------------------------------------\n",
      "DATALOADER:0 TEST RESULTS\n",
      "{'test_acc': 0.634235143661499,\n",
      " 'test_acc_epoch': 0.5745929479598999,\n",
      " 'test_loss': 0.672409176826477,\n",
      " 'test_loss_epoch': 0.6738706231117249}\n",
      "--------------------------------------------------------------------------------\n"
     ]
    },
    {
     "data": {
      "text/plain": [
       "[{'test_loss': 0.672409176826477,\n",
       "  'test_loss_epoch': 0.6738706231117249,\n",
       "  'test_acc_epoch': 0.5745929479598999,\n",
       "  'test_acc': 0.634235143661499}]"
      ]
     },
     "execution_count": 19,
     "metadata": {},
     "output_type": "execute_result"
    }
   ],
   "source": [
    "trainer.test(model=engine, test_dataloaders=test_dl)"
   ]
  },
  {
   "cell_type": "markdown",
   "metadata": {},
   "source": [
    "---\n",
    "---\n",
    "---"
   ]
  },
  {
   "cell_type": "code",
   "execution_count": 173,
   "metadata": {},
   "outputs": [],
   "source": [
    "from nam.data.base import NAMDataset"
   ]
  },
  {
   "cell_type": "code",
   "execution_count": 174,
   "metadata": {},
   "outputs": [],
   "source": [
    "config.regression = False"
   ]
  },
  {
   "cell_type": "code",
   "execution_count": 175,
   "metadata": {},
   "outputs": [
    {
     "data": {
      "text/html": [
       "<div>\n",
       "<style scoped>\n",
       "    .dataframe tbody tr th:only-of-type {\n",
       "        vertical-align: middle;\n",
       "    }\n",
       "\n",
       "    .dataframe tbody tr th {\n",
       "        vertical-align: top;\n",
       "    }\n",
       "\n",
       "    .dataframe thead th {\n",
       "        text-align: right;\n",
       "    }\n",
       "</style>\n",
       "<table border=\"1\" class=\"dataframe\">\n",
       "  <thead>\n",
       "    <tr style=\"text-align: right;\">\n",
       "      <th></th>\n",
       "      <th>WP16</th>\n",
       "      <th>wgt</th>\n",
       "      <th>country</th>\n",
       "      <th>income_2</th>\n",
       "      <th>WP1219</th>\n",
       "      <th>WP1220</th>\n",
       "      <th>year</th>\n",
       "      <th>weo_gdpc_con_ppp</th>\n",
       "    </tr>\n",
       "  </thead>\n",
       "  <tbody>\n",
       "    <tr>\n",
       "      <th>0</th>\n",
       "      <td>0</td>\n",
       "      <td>1.800488</td>\n",
       "      <td>Israel</td>\n",
       "      <td>18042.77108</td>\n",
       "      <td>1.0</td>\n",
       "      <td>15.0</td>\n",
       "      <td>2016</td>\n",
       "      <td>32658.020</td>\n",
       "    </tr>\n",
       "    <tr>\n",
       "      <th>1</th>\n",
       "      <td>0</td>\n",
       "      <td>2.360024</td>\n",
       "      <td>Israel</td>\n",
       "      <td>12799.41274</td>\n",
       "      <td>1.0</td>\n",
       "      <td>15.0</td>\n",
       "      <td>2013</td>\n",
       "      <td>31369.909</td>\n",
       "    </tr>\n",
       "    <tr>\n",
       "      <th>2</th>\n",
       "      <td>1</td>\n",
       "      <td>1.463117</td>\n",
       "      <td>Israel</td>\n",
       "      <td>22448.93600</td>\n",
       "      <td>1.0</td>\n",
       "      <td>15.0</td>\n",
       "      <td>2015</td>\n",
       "      <td>32038.697</td>\n",
       "    </tr>\n",
       "  </tbody>\n",
       "</table>\n",
       "</div>"
      ],
      "text/plain": [
       "   WP16       wgt country     income_2  WP1219  WP1220  year  weo_gdpc_con_ppp\n",
       "0     0  1.800488  Israel  18042.77108     1.0    15.0  2016         32658.020\n",
       "1     0  2.360024  Israel  12799.41274     1.0    15.0  2013         31369.909\n",
       "2     1  1.463117  Israel  22448.93600     1.0    15.0  2015         32038.697"
      ]
     },
     "execution_count": 175,
     "metadata": {},
     "output_type": "execute_result"
    }
   ],
   "source": [
    "csv_file = 'data/GALLUP.csv'\n",
    "data = pd.read_csv(csv_file)\n",
    "data[\"WP16\"] = np.where(data[\"WP16\"]<6, 0, 1)\n",
    "data.head(3)"
   ]
  },
  {
   "cell_type": "code",
   "execution_count": 205,
   "metadata": {},
   "outputs": [],
   "source": [
    "data = data.sample(frac=0.1)"
   ]
  },
  {
   "cell_type": "code",
   "execution_count": 204,
   "metadata": {},
   "outputs": [],
   "source": [
    "data = df"
   ]
  },
  {
   "cell_type": "code",
   "execution_count": 206,
   "metadata": {},
   "outputs": [
    {
     "data": {
      "text/html": [
       "<div>\n",
       "<style scoped>\n",
       "    .dataframe tbody tr th:only-of-type {\n",
       "        vertical-align: middle;\n",
       "    }\n",
       "\n",
       "    .dataframe tbody tr th {\n",
       "        vertical-align: top;\n",
       "    }\n",
       "\n",
       "    .dataframe thead th {\n",
       "        text-align: right;\n",
       "    }\n",
       "</style>\n",
       "<table border=\"1\" class=\"dataframe\">\n",
       "  <thead>\n",
       "    <tr style=\"text-align: right;\">\n",
       "      <th></th>\n",
       "      <th>WP16</th>\n",
       "      <th>wgt</th>\n",
       "      <th>country</th>\n",
       "      <th>income_2</th>\n",
       "      <th>WP1219</th>\n",
       "      <th>WP1220</th>\n",
       "      <th>year</th>\n",
       "      <th>weo_gdpc_con_ppp</th>\n",
       "    </tr>\n",
       "  </thead>\n",
       "  <tbody>\n",
       "    <tr>\n",
       "      <th>986236</th>\n",
       "      <td>1</td>\n",
       "      <td>0.340017</td>\n",
       "      <td>50</td>\n",
       "      <td>0.000056</td>\n",
       "      <td>1.0</td>\n",
       "      <td>0.545455</td>\n",
       "      <td>2</td>\n",
       "      <td>0.293860</td>\n",
       "    </tr>\n",
       "    <tr>\n",
       "      <th>856649</th>\n",
       "      <td>1</td>\n",
       "      <td>0.141588</td>\n",
       "      <td>100</td>\n",
       "      <td>0.000044</td>\n",
       "      <td>1.0</td>\n",
       "      <td>0.465909</td>\n",
       "      <td>3</td>\n",
       "      <td>0.222797</td>\n",
       "    </tr>\n",
       "    <tr>\n",
       "      <th>894727</th>\n",
       "      <td>1</td>\n",
       "      <td>0.049310</td>\n",
       "      <td>50</td>\n",
       "      <td>0.000066</td>\n",
       "      <td>1.0</td>\n",
       "      <td>0.488636</td>\n",
       "      <td>2</td>\n",
       "      <td>0.293860</td>\n",
       "    </tr>\n",
       "    <tr>\n",
       "      <th>818690</th>\n",
       "      <td>0</td>\n",
       "      <td>0.063330</td>\n",
       "      <td>102</td>\n",
       "      <td>0.000003</td>\n",
       "      <td>0.0</td>\n",
       "      <td>0.386364</td>\n",
       "      <td>1</td>\n",
       "      <td>0.001924</td>\n",
       "    </tr>\n",
       "    <tr>\n",
       "      <th>1238291</th>\n",
       "      <td>0</td>\n",
       "      <td>0.059157</td>\n",
       "      <td>74</td>\n",
       "      <td>0.000004</td>\n",
       "      <td>1.0</td>\n",
       "      <td>0.727273</td>\n",
       "      <td>3</td>\n",
       "      <td>0.015416</td>\n",
       "    </tr>\n",
       "  </tbody>\n",
       "</table>\n",
       "</div>"
      ],
      "text/plain": [
       "         WP16       wgt  country  income_2  WP1219    WP1220  year  \\\n",
       "986236      1  0.340017       50  0.000056     1.0  0.545455     2   \n",
       "856649      1  0.141588      100  0.000044     1.0  0.465909     3   \n",
       "894727      1  0.049310       50  0.000066     1.0  0.488636     2   \n",
       "818690      0  0.063330      102  0.000003     0.0  0.386364     1   \n",
       "1238291     0  0.059157       74  0.000004     1.0  0.727273     3   \n",
       "\n",
       "         weo_gdpc_con_ppp  \n",
       "986236           0.293860  \n",
       "856649           0.222797  \n",
       "894727           0.293860  \n",
       "818690           0.001924  \n",
       "1238291          0.015416  "
      ]
     },
     "execution_count": 206,
     "metadata": {},
     "output_type": "execute_result"
    }
   ],
   "source": [
    "data.head()"
   ]
  },
  {
   "cell_type": "code",
   "execution_count": 207,
   "metadata": {},
   "outputs": [
    {
     "data": {
      "text/plain": [
       "131980"
      ]
     },
     "execution_count": 207,
     "metadata": {},
     "output_type": "execute_result"
    }
   ],
   "source": [
    "len(data)"
   ]
  },
  {
   "cell_type": "code",
   "execution_count": 208,
   "metadata": {},
   "outputs": [],
   "source": [
    "features_columns = list(df.columns)[2:]# [\"income_2\", \"WP1219\", \"WP1220\", \"weo_gdpc_con_ppp\",  \"year\"]\n",
    "targets_column = \"WP16\"\n",
    "weights_column = \"wgt\"\n",
    "dataset = NAMDataset(\n",
    "  config=config,\n",
    "  file_path=data,\n",
    "  features_columns=features_columns,\n",
    "  targets_column=targets_column,\n",
    "  weights_column=weights_column,\n",
    ")"
   ]
  },
  {
   "cell_type": "code",
   "execution_count": 209,
   "metadata": {},
   "outputs": [
    {
     "data": {
      "text/plain": [
       "NAMDatasetSample(\n",
       "\tfeatures=tensor([-0.5425, -1.0000, -1.0000, -0.6471, -1.0000, -0.9715]), \n",
       "\ttargets=1, \n",
       "\tweights=0.32838284969329834\n",
       ")"
      ]
     },
     "execution_count": 209,
     "metadata": {},
     "output_type": "execute_result"
    }
   ],
   "source": [
    "dataset"
   ]
  },
  {
   "cell_type": "code",
   "execution_count": 210,
   "metadata": {},
   "outputs": [
    {
     "data": {
      "text/plain": [
       "131980"
      ]
     },
     "execution_count": 210,
     "metadata": {},
     "output_type": "execute_result"
    }
   ],
   "source": [
    "len(dataset)"
   ]
  },
  {
   "cell_type": "code",
   "execution_count": 211,
   "metadata": {},
   "outputs": [],
   "source": [
    "config.hidden_sizes = [16]"
   ]
  },
  {
   "cell_type": "code",
   "execution_count": 212,
   "metadata": {},
   "outputs": [
    {
     "name": "stderr",
     "output_type": "stream",
     "text": [
      "/Users/amrmkayid/anaconda3/envs/nam/lib/python3.7/site-packages/torch/nn/init.py:162: UserWarning: mean is more than 2 std from [a, b] in nn.init.trunc_normal_. The distribution of values may be incorrect.\n",
      "  return _no_grad_trunc_normal_(tensor, mean, std, a, b)\n"
     ]
    },
    {
     "data": {
      "text/plain": [
       "NAM(\n",
       "  (feature_nns): Sequential(\n",
       "    (FeatureNN_0): FeatureNN(\n",
       "      (model): ModuleList(\n",
       "        (0): ExU(in_features=1, out_features=308)\n",
       "        (1): LinReLU(in_features=308, out_features=16)\n",
       "        (2): Linear(in_features=16, out_features=1, bias=True)\n",
       "      )\n",
       "    )\n",
       "    (FeatureNN_1): FeatureNN(\n",
       "      (model): ModuleList(\n",
       "        (0): ExU(in_features=1, out_features=1000)\n",
       "        (1): LinReLU(in_features=1000, out_features=16)\n",
       "        (2): Linear(in_features=16, out_features=1, bias=True)\n",
       "      )\n",
       "    )\n",
       "    (FeatureNN_2): FeatureNN(\n",
       "      (model): ModuleList(\n",
       "        (0): ExU(in_features=1, out_features=4)\n",
       "        (1): LinReLU(in_features=4, out_features=16)\n",
       "        (2): Linear(in_features=16, out_features=1, bias=True)\n",
       "      )\n",
       "    )\n",
       "    (FeatureNN_3): FeatureNN(\n",
       "      (model): ModuleList(\n",
       "        (0): ExU(in_features=1, out_features=172)\n",
       "        (1): LinReLU(in_features=172, out_features=16)\n",
       "        (2): Linear(in_features=16, out_features=1, bias=True)\n",
       "      )\n",
       "    )\n",
       "    (FeatureNN_4): FeatureNN(\n",
       "      (model): ModuleList(\n",
       "        (0): ExU(in_features=1, out_features=18)\n",
       "        (1): LinReLU(in_features=18, out_features=16)\n",
       "        (2): Linear(in_features=16, out_features=1, bias=True)\n",
       "      )\n",
       "    )\n",
       "    (FeatureNN_5): FeatureNN(\n",
       "      (model): ModuleList(\n",
       "        (0): ExU(in_features=1, out_features=1000)\n",
       "        (1): LinReLU(in_features=1000, out_features=16)\n",
       "        (2): Linear(in_features=16, out_features=1, bias=True)\n",
       "      )\n",
       "    )\n",
       "  )\n",
       "  (linear): Linear(in_features=6, out_features=2, bias=True)\n",
       ")"
      ]
     },
     "execution_count": 212,
     "metadata": {},
     "output_type": "execute_result"
    }
   ],
   "source": [
    "model = NAM(\n",
    "      config=config,\n",
    "      name=\"NAMModel_GALLUP\",\n",
    "      num_inputs=len(dataset[0][0]),\n",
    "      num_units=get_num_units(config, dataset.features),\n",
    "      num_outputs=int(dataset.targets.max().item() + 1),\n",
    ")\n",
    "model"
   ]
  },
  {
   "cell_type": "code",
   "execution_count": 213,
   "metadata": {},
   "outputs": [],
   "source": [
    "total_count = len(dataset)\n",
    "train_count = int(0.7 * total_count)\n",
    "valid_count = int(0.2 * total_count)\n",
    "test_count = total_count - train_count - valid_count\n",
    "train_dataset, valid_dataset, test_dataset = torch.utils.data.random_split(\n",
    "    dataset, (train_count, valid_count, test_count)\n",
    ")\n",
    "\n",
    "\n",
    "train_dataset_loader = torch.utils.data.DataLoader(\n",
    "    train_dataset, batch_size=config.batch_size, shuffle=True, num_workers=config.num_workers\n",
    ")\n",
    "valid_dataset_loader = torch.utils.data.DataLoader(\n",
    "    valid_dataset, batch_size=config.batch_size, shuffle=True, num_workers=config.num_workers\n",
    ")\n",
    "test_dataset_loader = torch.utils.data.DataLoader(\n",
    "    test_dataset, batch_size=config.batch_size, shuffle=False, num_workers=config.num_workers\n",
    ")\n",
    "dataloaders = {\n",
    "    \"train\": train_dataset_loader,\n",
    "    \"val\": valid_dataset_loader,\n",
    "    \"test\": test_dataset_loader,\n",
    "}"
   ]
  },
  {
   "cell_type": "code",
   "execution_count": 214,
   "metadata": {},
   "outputs": [
    {
     "data": {
      "text/plain": [
       "{'train': <torch.utils.data.dataloader.DataLoader at 0x7f9891790e10>,\n",
       " 'val': <torch.utils.data.dataloader.DataLoader at 0x7f9888593490>,\n",
       " 'test': <torch.utils.data.dataloader.DataLoader at 0x7f98885c0e90>}"
      ]
     },
     "execution_count": 214,
     "metadata": {},
     "output_type": "execute_result"
    }
   ],
   "source": [
    "dataloaders"
   ]
  },
  {
   "cell_type": "code",
   "execution_count": 215,
   "metadata": {},
   "outputs": [],
   "source": [
    "engine = Engine(config, model)"
   ]
  },
  {
   "cell_type": "code",
   "execution_count": 216,
   "metadata": {},
   "outputs": [],
   "source": [
    "config.training_epochs = 3"
   ]
  },
  {
   "cell_type": "code",
   "execution_count": 217,
   "metadata": {},
   "outputs": [
    {
     "name": "stderr",
     "output_type": "stream",
     "text": [
      "GPU available: False, used: False\n",
      "TPU available: None, using: 0 TPU cores\n"
     ]
    }
   ],
   "source": [
    "trainer = pl.Trainer(\n",
    "    default_root_dir=f\"{config.output_dir}/{model.name}\",\n",
    "    max_epochs=config.training_epochs,\n",
    ")"
   ]
  },
  {
   "cell_type": "code",
   "execution_count": 218,
   "metadata": {},
   "outputs": [
    {
     "name": "stderr",
     "output_type": "stream",
     "text": [
      "\n",
      "  | Name    | Type     | Params\n",
      "-------------------------------------\n",
      "0 | model   | NAM      | 45.2 K\n",
      "1 | metrics | Accuracy | 0     \n",
      "-------------------------------------\n",
      "45.2 K    Trainable params\n",
      "0         Non-trainable params\n",
      "45.2 K    Total params\n",
      "0.181     Total estimated model params size (MB)\n",
      "/Users/amrmkayid/anaconda3/envs/nam/lib/python3.7/site-packages/pytorch_lightning/utilities/distributed.py:52: UserWarning: Your val_dataloader has `shuffle=True`, it is best practice to turn this off for validation and test dataloaders.\n",
      "  warnings.warn(*args, **kwargs)\n"
     ]
    },
    {
     "data": {
      "application/vnd.jupyter.widget-view+json": {
       "model_id": "",
       "version_major": 2,
       "version_minor": 0
      },
      "text/plain": [
       "Validation sanity check: 0it [00:00, ?it/s]"
      ]
     },
     "metadata": {},
     "output_type": "display_data"
    },
    {
     "data": {
      "application/vnd.jupyter.widget-view+json": {
       "model_id": "523c955aaa6348168219d88298049030",
       "version_major": 2,
       "version_minor": 0
      },
      "text/plain": [
       "Training: 0it [00:00, ?it/s]"
      ]
     },
     "metadata": {},
     "output_type": "display_data"
    },
    {
     "data": {
      "application/vnd.jupyter.widget-view+json": {
       "model_id": "",
       "version_major": 2,
       "version_minor": 0
      },
      "text/plain": [
       "Validating: 0it [00:00, ?it/s]"
      ]
     },
     "metadata": {},
     "output_type": "display_data"
    },
    {
     "data": {
      "application/vnd.jupyter.widget-view+json": {
       "model_id": "",
       "version_major": 2,
       "version_minor": 0
      },
      "text/plain": [
       "Validating: 0it [00:00, ?it/s]"
      ]
     },
     "metadata": {},
     "output_type": "display_data"
    },
    {
     "data": {
      "application/vnd.jupyter.widget-view+json": {
       "model_id": "",
       "version_major": 2,
       "version_minor": 0
      },
      "text/plain": [
       "Validating: 0it [00:00, ?it/s]"
      ]
     },
     "metadata": {},
     "output_type": "display_data"
    },
    {
     "data": {
      "text/plain": [
       "1"
      ]
     },
     "execution_count": 218,
     "metadata": {},
     "output_type": "execute_result"
    }
   ],
   "source": [
    "trainer.fit(model=engine, train_dataloader=dataloaders['train'], val_dataloaders=dataloaders['val'])"
   ]
  },
  {
   "cell_type": "code",
   "execution_count": 219,
   "metadata": {},
   "outputs": [
    {
     "data": {
      "application/vnd.jupyter.widget-view+json": {
       "model_id": "a44ab37406124b04852f2617a1fa1880",
       "version_major": 2,
       "version_minor": 0
      },
      "text/plain": [
       "Testing: 0it [00:00, ?it/s]"
      ]
     },
     "metadata": {},
     "output_type": "display_data"
    },
    {
     "name": "stdout",
     "output_type": "stream",
     "text": [
      "--------------------------------------------------------------------------------\n",
      "DATALOADER:0 TEST RESULTS\n",
      "{'test_acc': 0.5769230723381042,\n",
      " 'test_acc_epoch': 0.5798605680465698,\n",
      " 'test_loss': 0.667184591293335,\n",
      " 'test_loss_epoch': 0.6670439839363098}\n",
      "--------------------------------------------------------------------------------\n"
     ]
    },
    {
     "data": {
      "text/plain": [
       "[{'test_loss': 0.667184591293335,\n",
       "  'test_loss_epoch': 0.6670439839363098,\n",
       "  'test_acc_epoch': 0.5798605680465698,\n",
       "  'test_acc': 0.5769230723381042}]"
      ]
     },
     "execution_count": 219,
     "metadata": {},
     "output_type": "execute_result"
    }
   ],
   "source": [
    "trainer.test(model=engine, test_dataloaders=dataloaders['test'])"
   ]
  },
  {
   "cell_type": "markdown",
   "metadata": {},
   "source": [
    "---\n",
    "---\n",
    "---"
   ]
  },
  {
   "cell_type": "code",
   "execution_count": 81,
   "metadata": {},
   "outputs": [
    {
     "data": {
      "text/html": [
       "<div>\n",
       "<style scoped>\n",
       "    .dataframe tbody tr th:only-of-type {\n",
       "        vertical-align: middle;\n",
       "    }\n",
       "\n",
       "    .dataframe tbody tr th {\n",
       "        vertical-align: top;\n",
       "    }\n",
       "\n",
       "    .dataframe thead th {\n",
       "        text-align: right;\n",
       "    }\n",
       "</style>\n",
       "<table border=\"1\" class=\"dataframe\">\n",
       "  <thead>\n",
       "    <tr style=\"text-align: right;\">\n",
       "      <th></th>\n",
       "      <th>WP16</th>\n",
       "      <th>wgt</th>\n",
       "      <th>country</th>\n",
       "      <th>income_2</th>\n",
       "      <th>WP1219</th>\n",
       "      <th>WP1220</th>\n",
       "      <th>year</th>\n",
       "      <th>weo_gdpc_con_ppp</th>\n",
       "    </tr>\n",
       "  </thead>\n",
       "  <tbody>\n",
       "    <tr>\n",
       "      <th>0</th>\n",
       "      <td>4</td>\n",
       "      <td>1.800488</td>\n",
       "      <td>Israel</td>\n",
       "      <td>18042.77108</td>\n",
       "      <td>1.0</td>\n",
       "      <td>15.0</td>\n",
       "      <td>2016</td>\n",
       "      <td>32658.020</td>\n",
       "    </tr>\n",
       "    <tr>\n",
       "      <th>1</th>\n",
       "      <td>4</td>\n",
       "      <td>2.360024</td>\n",
       "      <td>Israel</td>\n",
       "      <td>12799.41274</td>\n",
       "      <td>1.0</td>\n",
       "      <td>15.0</td>\n",
       "      <td>2013</td>\n",
       "      <td>31369.909</td>\n",
       "    </tr>\n",
       "    <tr>\n",
       "      <th>2</th>\n",
       "      <td>8</td>\n",
       "      <td>1.463117</td>\n",
       "      <td>Israel</td>\n",
       "      <td>22448.93600</td>\n",
       "      <td>1.0</td>\n",
       "      <td>15.0</td>\n",
       "      <td>2015</td>\n",
       "      <td>32038.697</td>\n",
       "    </tr>\n",
       "  </tbody>\n",
       "</table>\n",
       "</div>"
      ],
      "text/plain": [
       "   WP16       wgt country     income_2  WP1219  WP1220  year  weo_gdpc_con_ppp\n",
       "0     4  1.800488  Israel  18042.77108     1.0    15.0  2016         32658.020\n",
       "1     4  2.360024  Israel  12799.41274     1.0    15.0  2013         31369.909\n",
       "2     8  1.463117  Israel  22448.93600     1.0    15.0  2015         32038.697"
      ]
     },
     "execution_count": 81,
     "metadata": {},
     "output_type": "execute_result"
    }
   ],
   "source": [
    "import pandas as pd\n",
    "import matplotlib.pyplot as plt\n",
    "import seaborn as sns\n",
    "\n",
    "data = pd.read_csv('data/GALLUP.csv')\n",
    "data.head(3)"
   ]
  },
  {
   "cell_type": "code",
   "execution_count": 82,
   "metadata": {},
   "outputs": [],
   "source": [
    "y=data.iloc[:,0].values"
   ]
  },
  {
   "cell_type": "code",
   "execution_count": 83,
   "metadata": {},
   "outputs": [],
   "source": [
    "data = data.drop('country', axis=1)\n",
    "data =(data-data.mean())/data.std()\n",
    "data = data.interpolate(method='linear', axis=0)"
   ]
  },
  {
   "cell_type": "code",
   "execution_count": 84,
   "metadata": {},
   "outputs": [
    {
     "data": {
      "text/html": [
       "<div>\n",
       "<style scoped>\n",
       "    .dataframe tbody tr th:only-of-type {\n",
       "        vertical-align: middle;\n",
       "    }\n",
       "\n",
       "    .dataframe tbody tr th {\n",
       "        vertical-align: top;\n",
       "    }\n",
       "\n",
       "    .dataframe thead th {\n",
       "        text-align: right;\n",
       "    }\n",
       "</style>\n",
       "<table border=\"1\" class=\"dataframe\">\n",
       "  <thead>\n",
       "    <tr style=\"text-align: right;\">\n",
       "      <th></th>\n",
       "      <th>WP16</th>\n",
       "      <th>wgt</th>\n",
       "      <th>income_2</th>\n",
       "      <th>WP1219</th>\n",
       "      <th>WP1220</th>\n",
       "      <th>year</th>\n",
       "      <th>weo_gdpc_con_ppp</th>\n",
       "    </tr>\n",
       "  </thead>\n",
       "  <tbody>\n",
       "    <tr>\n",
       "      <th>0</th>\n",
       "      <td>-0.655362</td>\n",
       "      <td>1.184700</td>\n",
       "      <td>-0.007673</td>\n",
       "      <td>-1.065434</td>\n",
       "      <td>-1.488956</td>\n",
       "      <td>1.344815</td>\n",
       "      <td>0.642051</td>\n",
       "    </tr>\n",
       "    <tr>\n",
       "      <th>1</th>\n",
       "      <td>-0.655362</td>\n",
       "      <td>2.010882</td>\n",
       "      <td>-0.012368</td>\n",
       "      <td>-1.065434</td>\n",
       "      <td>-1.488956</td>\n",
       "      <td>0.075571</td>\n",
       "      <td>0.575457</td>\n",
       "    </tr>\n",
       "    <tr>\n",
       "      <th>2</th>\n",
       "      <td>1.074004</td>\n",
       "      <td>0.686555</td>\n",
       "      <td>-0.003729</td>\n",
       "      <td>-1.065434</td>\n",
       "      <td>-1.488956</td>\n",
       "      <td>0.921734</td>\n",
       "      <td>0.610033</td>\n",
       "    </tr>\n",
       "  </tbody>\n",
       "</table>\n",
       "</div>"
      ],
      "text/plain": [
       "       WP16       wgt  income_2    WP1219    WP1220      year  \\\n",
       "0 -0.655362  1.184700 -0.007673 -1.065434 -1.488956  1.344815   \n",
       "1 -0.655362  2.010882 -0.012368 -1.065434 -1.488956  0.075571   \n",
       "2  1.074004  0.686555 -0.003729 -1.065434 -1.488956  0.921734   \n",
       "\n",
       "   weo_gdpc_con_ppp  \n",
       "0          0.642051  \n",
       "1          0.575457  \n",
       "2          0.610033  "
      ]
     },
     "execution_count": 84,
     "metadata": {},
     "output_type": "execute_result"
    }
   ],
   "source": [
    "data.head(3)"
   ]
  },
  {
   "cell_type": "code",
   "execution_count": 85,
   "metadata": {},
   "outputs": [
    {
     "data": {
      "text/plain": [
       "(array([[ 1.1846996 , -0.00767343, -1.06543378, -1.48895611,  1.34481481,\n",
       "          0.64205117],\n",
       "        [ 2.0108822 , -0.01236773, -1.06543378, -1.48895611,  0.075571  ,\n",
       "          0.57545723],\n",
       "        [ 0.68655482, -0.00372865, -1.06543378, -1.48895611,  0.92173354,\n",
       "          0.61003285],\n",
       "        ...,\n",
       "        [ 0.42526419, -0.02382686, -1.06543378,  3.28267659, -0.77059155,\n",
       "         -0.9470326 ],\n",
       "        [-0.52427233, -0.02125759, -1.06543378,  3.28267659, -0.77059155,\n",
       "         -0.9470326 ],\n",
       "        [-0.04950407,  0.00828902, -1.06543378,  3.28267659, -0.77059155,\n",
       "         -0.9470326 ]]),\n",
       " array([4, 4, 8, ..., 5, 5, 7]))"
      ]
     },
     "execution_count": 85,
     "metadata": {},
     "output_type": "execute_result"
    }
   ],
   "source": [
    "x= data.iloc[:,1:].values\n",
    "# y=data.iloc[:,0].values\n",
    "x, y"
   ]
  },
  {
   "cell_type": "code",
   "execution_count": 86,
   "metadata": {},
   "outputs": [],
   "source": [
    "from sklearn.preprocessing import LabelEncoder \n",
    "ly = LabelEncoder()\n",
    "y = ly.fit_transform(y)"
   ]
  },
  {
   "cell_type": "code",
   "execution_count": 87,
   "metadata": {},
   "outputs": [
    {
     "data": {
      "text/plain": [
       "array([4, 4, 8, ..., 5, 5, 7])"
      ]
     },
     "execution_count": 87,
     "metadata": {},
     "output_type": "execute_result"
    }
   ],
   "source": [
    "y"
   ]
  },
  {
   "cell_type": "code",
   "execution_count": 12,
   "metadata": {},
   "outputs": [
    {
     "data": {
      "text/plain": [
       "Index(['WP16', 'wgt', 'income_2', 'WP1219', 'WP1220', 'year',\n",
       "       'weo_gdpc_con_ppp'],\n",
       "      dtype='object')"
      ]
     },
     "execution_count": 12,
     "metadata": {},
     "output_type": "execute_result"
    }
   ],
   "source": [
    "data.columns"
   ]
  },
  {
   "cell_type": "code",
   "execution_count": 14,
   "metadata": {},
   "outputs": [
    {
     "data": {
      "text/plain": [
       "<seaborn.axisgrid.PairGrid at 0x7fe1d893abd0>"
      ]
     },
     "execution_count": 14,
     "metadata": {},
     "output_type": "execute_result"
    },
    {
     "data": {
      "image/png": "[encoded data removed]",
      "text/plain": [
       "<Figure size 1141.35x1080 with 42 Axes>"
      ]
     },
     "metadata": {},
     "output_type": "display_data"
    }
   ],
   "source": [
    "sns.set()\n",
    "sns.pairplot(data[:1000], hue=\"WP16\", diag_kind=\"kde\")"
   ]
  },
  {
   "cell_type": "code",
   "execution_count": 88,
   "metadata": {},
   "outputs": [],
   "source": [
    "from sklearn.model_selection import train_test_split\n",
    "x_train,x_test,y_train,y_test = train_test_split(x,y,test_size=0.2)"
   ]
  },
  {
   "cell_type": "code",
   "execution_count": 16,
   "metadata": {},
   "outputs": [],
   "source": [
    "from sklearn.naive_bayes import GaussianNB\n",
    "gnb = GaussianNB()\n",
    "gnb.fit(x_train,y_train)\n",
    "\n",
    "y_pred_test = gnb.predict(x_test)\n",
    "\n",
    "from sklearn.metrics import accuracy_score\n",
    "acc = accuracy_score(y_test,y_pred_test)"
   ]
  },
  {
   "cell_type": "code",
   "execution_count": 17,
   "metadata": {},
   "outputs": [
    {
     "data": {
      "text/plain": [
       "0.1334305382567254"
      ]
     },
     "execution_count": 17,
     "metadata": {},
     "output_type": "execute_result"
    }
   ],
   "source": [
    "acc"
   ]
  },
  {
   "cell_type": "code",
   "execution_count": 19,
   "metadata": {},
   "outputs": [
    {
     "data": {
      "text/plain": [
       "0.17982040706736974"
      ]
     },
     "execution_count": 19,
     "metadata": {},
     "output_type": "execute_result"
    }
   ],
   "source": [
    "from sklearn.tree import DecisionTreeClassifier\n",
    "\n",
    "dt = DecisionTreeClassifier()\n",
    "dt.fit(x_train,y_train)\n",
    "\n",
    "y_pred2 = dt.predict(x_test)\n",
    "acc2 = accuracy_score(y_test,y_pred2)\n",
    "acc2"
   ]
  },
  {
   "cell_type": "code",
   "execution_count": 20,
   "metadata": {},
   "outputs": [
    {
     "data": {
      "text/plain": [
       "0.1614882048910733"
      ]
     },
     "execution_count": 20,
     "metadata": {},
     "output_type": "execute_result"
    }
   ],
   "source": [
    "from sklearn.neighbors import KNeighborsClassifier\n",
    "clf = KNeighborsClassifier(n_neighbors=3,algorithm='ball_tree')\n",
    "\n",
    "clf.fit(x_train,y_train)\n",
    "y_pred3 = clf.predict(x_test)\n",
    "acc3 =   accuracy_score(y_test,y_pred3)\n",
    "acc3"
   ]
  },
  {
   "cell_type": "code",
   "execution_count": null,
   "metadata": {},
   "outputs": [],
   "source": [
    "from sklearn.svm import SVC\n",
    "svc1 = SVC(C=50,kernel='rbf',gamma=1)     \n",
    "\n",
    "svc1.fit(x_train,y_train)\n",
    "y_pred4 = svc1.predict(x_test)\n",
    "\n",
    "from sklearn.metrics import accuracy_score\n",
    "acc4=    accuracy_score(y_test,y_pred4)\n",
    "acc4"
   ]
  },
  {
   "cell_type": "code",
   "execution_count": 74,
   "metadata": {},
   "outputs": [],
   "source": [
    "import numpy as np\n",
    "from deeptables.models import deeptable, deepnets\n",
    "from deeptables.datasets import dsutils\n",
    "from sklearn.model_selection import train_test_split\n",
    "\n",
    "# #loading data\n",
    "# df = dsutils.load_bank()\n",
    "# df_train, df_test = train_test_split(df, test_size=0.2, random_state=42)\n",
    "\n",
    "# y = df_train.pop('y')\n",
    "# y_test = df_test.pop('y')\n",
    "\n",
    "# #training\n",
    "# config = deeptable.ModelConfig(nets=deepnets.DeepFM)\n",
    "# dt = deeptable.DeepTable(config=config)\n",
    "# model, history = dt.fit(df_train, y, epochs=10)\n",
    "\n",
    "# #evaluation\n",
    "# result = dt.evaluate(df_test,y_test, batch_size=512, verbose=0)\n",
    "# print(result)\n",
    "\n",
    "# #scoring\n",
    "# preds = dt.predict(df_test)"
   ]
  },
  {
   "cell_type": "code",
   "execution_count": 92,
   "metadata": {},
   "outputs": [
    {
     "data": {
      "text/html": [
       "<div>\n",
       "<style scoped>\n",
       "    .dataframe tbody tr th:only-of-type {\n",
       "        vertical-align: middle;\n",
       "    }\n",
       "\n",
       "    .dataframe tbody tr th {\n",
       "        vertical-align: top;\n",
       "    }\n",
       "\n",
       "    .dataframe thead th {\n",
       "        text-align: right;\n",
       "    }\n",
       "</style>\n",
       "<table border=\"1\" class=\"dataframe\">\n",
       "  <thead>\n",
       "    <tr style=\"text-align: right;\">\n",
       "      <th></th>\n",
       "      <th>WP16</th>\n",
       "      <th>wgt</th>\n",
       "      <th>country</th>\n",
       "      <th>income_2</th>\n",
       "      <th>WP1219</th>\n",
       "      <th>WP1220</th>\n",
       "      <th>year</th>\n",
       "      <th>weo_gdpc_con_ppp</th>\n",
       "    </tr>\n",
       "  </thead>\n",
       "  <tbody>\n",
       "    <tr>\n",
       "      <th>0</th>\n",
       "      <td>4</td>\n",
       "      <td>1.800488</td>\n",
       "      <td>Israel</td>\n",
       "      <td>18042.77108</td>\n",
       "      <td>1.0</td>\n",
       "      <td>15.0</td>\n",
       "      <td>2016</td>\n",
       "      <td>32658.020</td>\n",
       "    </tr>\n",
       "    <tr>\n",
       "      <th>1</th>\n",
       "      <td>4</td>\n",
       "      <td>2.360024</td>\n",
       "      <td>Israel</td>\n",
       "      <td>12799.41274</td>\n",
       "      <td>1.0</td>\n",
       "      <td>15.0</td>\n",
       "      <td>2013</td>\n",
       "      <td>31369.909</td>\n",
       "    </tr>\n",
       "    <tr>\n",
       "      <th>2</th>\n",
       "      <td>8</td>\n",
       "      <td>1.463117</td>\n",
       "      <td>Israel</td>\n",
       "      <td>22448.93600</td>\n",
       "      <td>1.0</td>\n",
       "      <td>15.0</td>\n",
       "      <td>2015</td>\n",
       "      <td>32038.697</td>\n",
       "    </tr>\n",
       "  </tbody>\n",
       "</table>\n",
       "</div>"
      ],
      "text/plain": [
       "   WP16       wgt country     income_2  WP1219  WP1220  year  weo_gdpc_con_ppp\n",
       "0     4  1.800488  Israel  18042.77108     1.0    15.0  2016         32658.020\n",
       "1     4  2.360024  Israel  12799.41274     1.0    15.0  2013         31369.909\n",
       "2     8  1.463117  Israel  22448.93600     1.0    15.0  2015         32038.697"
      ]
     },
     "execution_count": 92,
     "metadata": {},
     "output_type": "execute_result"
    }
   ],
   "source": [
    "import pandas as pd\n",
    "import matplotlib.pyplot as plt\n",
    "import seaborn as sns\n",
    "\n",
    "data = pd.read_csv('data/GALLUP.csv')\n",
    "data.head(3)"
   ]
  },
  {
   "cell_type": "code",
   "execution_count": 82,
   "metadata": {},
   "outputs": [],
   "source": [
    "y=data.iloc[:,0].values"
   ]
  },
  {
   "cell_type": "code",
   "execution_count": 93,
   "metadata": {},
   "outputs": [],
   "source": [
    "# data = data.drop('country', axis=1)\n",
    "# data =(data-data.mean())/data.std()\n",
    "data = data.interpolate(method='linear', axis=0)"
   ]
  },
  {
   "cell_type": "code",
   "execution_count": 94,
   "metadata": {},
   "outputs": [
    {
     "data": {
      "text/html": [
       "<div>\n",
       "<style scoped>\n",
       "    .dataframe tbody tr th:only-of-type {\n",
       "        vertical-align: middle;\n",
       "    }\n",
       "\n",
       "    .dataframe tbody tr th {\n",
       "        vertical-align: top;\n",
       "    }\n",
       "\n",
       "    .dataframe thead th {\n",
       "        text-align: right;\n",
       "    }\n",
       "</style>\n",
       "<table border=\"1\" class=\"dataframe\">\n",
       "  <thead>\n",
       "    <tr style=\"text-align: right;\">\n",
       "      <th></th>\n",
       "      <th>WP16</th>\n",
       "      <th>wgt</th>\n",
       "      <th>country</th>\n",
       "      <th>income_2</th>\n",
       "      <th>WP1219</th>\n",
       "      <th>WP1220</th>\n",
       "      <th>year</th>\n",
       "      <th>weo_gdpc_con_ppp</th>\n",
       "    </tr>\n",
       "  </thead>\n",
       "  <tbody>\n",
       "    <tr>\n",
       "      <th>0</th>\n",
       "      <td>4</td>\n",
       "      <td>1.800488</td>\n",
       "      <td>Israel</td>\n",
       "      <td>18042.77108</td>\n",
       "      <td>1.0</td>\n",
       "      <td>15.0</td>\n",
       "      <td>2016</td>\n",
       "      <td>32658.020</td>\n",
       "    </tr>\n",
       "    <tr>\n",
       "      <th>1</th>\n",
       "      <td>4</td>\n",
       "      <td>2.360024</td>\n",
       "      <td>Israel</td>\n",
       "      <td>12799.41274</td>\n",
       "      <td>1.0</td>\n",
       "      <td>15.0</td>\n",
       "      <td>2013</td>\n",
       "      <td>31369.909</td>\n",
       "    </tr>\n",
       "    <tr>\n",
       "      <th>2</th>\n",
       "      <td>8</td>\n",
       "      <td>1.463117</td>\n",
       "      <td>Israel</td>\n",
       "      <td>22448.93600</td>\n",
       "      <td>1.0</td>\n",
       "      <td>15.0</td>\n",
       "      <td>2015</td>\n",
       "      <td>32038.697</td>\n",
       "    </tr>\n",
       "  </tbody>\n",
       "</table>\n",
       "</div>"
      ],
      "text/plain": [
       "   WP16       wgt country     income_2  WP1219  WP1220  year  weo_gdpc_con_ppp\n",
       "0     4  1.800488  Israel  18042.77108     1.0    15.0  2016         32658.020\n",
       "1     4  2.360024  Israel  12799.41274     1.0    15.0  2013         31369.909\n",
       "2     8  1.463117  Israel  22448.93600     1.0    15.0  2015         32038.697"
      ]
     },
     "execution_count": 94,
     "metadata": {},
     "output_type": "execute_result"
    }
   ],
   "source": [
    "data.head(3)"
   ]
  },
  {
   "cell_type": "code",
   "execution_count": 159,
   "metadata": {},
   "outputs": [],
   "source": [
    "data = df"
   ]
  },
  {
   "cell_type": "code",
   "execution_count": 160,
   "metadata": {},
   "outputs": [
    {
     "data": {
      "text/plain": [
       "(array([[2.29189379e-01, 2.00914198e-05, 0.00000000e+00, 2.27272727e-02,\n",
       "         2.20877965e-01],\n",
       "        [3.03079114e-01, 1.42527095e-05, 0.00000000e+00, 2.27272727e-02,\n",
       "         2.12001751e-01],\n",
       "        [1.84637744e-01, 2.49978784e-05, 0.00000000e+00, 2.27272727e-02,\n",
       "         2.16610287e-01],\n",
       "        ...,\n",
       "        [1.61269186e-01, 0.00000000e+00, 0.00000000e+00, 9.88636364e-01,\n",
       "         9.07118490e-03],\n",
       "        [7.63472800e-02, 3.19562384e-06, 0.00000000e+00, 9.88636364e-01,\n",
       "         9.07118490e-03],\n",
       "        [1.18808233e-01, 3.99452980e-05, 0.00000000e+00, 9.88636364e-01,\n",
       "         9.07118490e-03]]),\n",
       " array([0, 0, 1, ..., 0, 0, 1]))"
      ]
     },
     "execution_count": 160,
     "metadata": {},
     "output_type": "execute_result"
    }
   ],
   "source": [
    "x= data.iloc[:,1:].values\n",
    "y=data.iloc[:,0].values\n",
    "x, y"
   ]
  },
  {
   "cell_type": "code",
   "execution_count": 161,
   "metadata": {},
   "outputs": [],
   "source": [
    "from sklearn.preprocessing import LabelEncoder \n",
    "ly = LabelEncoder()\n",
    "y = ly.fit_transform(y)"
   ]
  },
  {
   "cell_type": "code",
   "execution_count": 162,
   "metadata": {},
   "outputs": [
    {
     "data": {
      "text/plain": [
       "array([0, 0, 1, ..., 0, 0, 1])"
      ]
     },
     "execution_count": 162,
     "metadata": {},
     "output_type": "execute_result"
    }
   ],
   "source": [
    "y"
   ]
  },
  {
   "cell_type": "code",
   "execution_count": 163,
   "metadata": {},
   "outputs": [],
   "source": [
    "from sklearn.model_selection import train_test_split\n",
    "x_train,x_test,y_train,y_test = train_test_split(x,y,test_size=0.2)"
   ]
  },
  {
   "cell_type": "code",
   "execution_count": 164,
   "metadata": {},
   "outputs": [
    {
     "data": {
      "text/plain": [
       "((1072647, 5), (1072647,))"
      ]
     },
     "execution_count": 164,
     "metadata": {},
     "output_type": "execute_result"
    }
   ],
   "source": [
    "x_train.shape, y_train.shape"
   ]
  },
  {
   "cell_type": "code",
   "execution_count": 165,
   "metadata": {
    "scrolled": false
   },
   "outputs": [
    {
     "name": "stderr",
     "output_type": "stream",
     "text": [
      "Column index of X has been converted: Index(['x_0', 'x_1', 'x_2', 'x_3', 'x_4'], dtype='object')\n"
     ]
    },
    {
     "name": "stdout",
     "output_type": "stream",
     "text": [
      "2 class detected, {0, 1}, so inferred as a [binary classification] task\n",
      "Preparing features taken 1.1357131004333496s\n",
      "Imputation taken 1.076157808303833s\n",
      "Categorical encoding taken 0.8838996887207031s\n",
      "Injected a callback [EarlyStopping]. monitor:val_auc, patience:1, mode:max\n",
      ">>>>>>>>>>>>>>>>>>>>>> Model Desc <<<<<<<<<<<<<<<<<<<<<<< \n",
      "---------------------------------------------------------\n",
      "inputs:\n",
      "---------------------------------------------------------\n",
      "['all_categorical_vars: (2)', 'input_continuous_all: (5)']\n",
      "---------------------------------------------------------\n",
      "embeddings:\n",
      "---------------------------------------------------------\n",
      "input_dims: [4, 90]\n",
      "output_dims: [20, 20]\n",
      "dropout: 0.3\n",
      "---------------------------------------------------------\n",
      "dense: dropout: 0\n",
      "batch_normalization: False\n",
      "---------------------------------------------------------\n",
      "concat_embed_dense: shape: (None, 45)\n",
      "---------------------------------------------------------\n",
      "nets: ['fm_nets', 'dnn_nets', 'linear']\n",
      "---------------------------------------------------------\n",
      "fm: input_shape (None, 2, 20), output_shape (None, 1)\n",
      "dnn: input_shape (None, 45), output_shape (None, 64)\n",
      "linear: input_shape (None, 7), output_shape (None, 1)\n",
      "---------------------------------------------------------\n",
      "stacking_op: add\n",
      "---------------------------------------------------------\n",
      "output: activation: sigmoid, output_shape: (None, 1), use_bias: True\n",
      "loss: binary_crossentropy\n",
      "optimizer: Adam\n",
      "---------------------------------------------------------\n",
      "\n",
      "Epoch 1/3\n",
      "420/420 [==============================] - 4s 7ms/step - loss: 0.6377 - auc: 0.6850 - accuracy: 0.6424 - val_loss: 0.6220 - val_auc: 0.7214 - val_accuracy: 0.6661\n",
      "Epoch 2/3\n",
      "420/420 [==============================] - 3s 7ms/step - loss: 0.6164 - auc: 0.7174 - accuracy: 0.6667 - val_loss: 0.6125 - val_auc: 0.7237 - val_accuracy: 0.6695\n",
      "Epoch 3/3\n",
      "420/420 [==============================] - 3s 8ms/step - loss: 0.6137 - auc: 0.7212 - accuracy: 0.6694 - val_loss: 0.6132 - val_auc: 0.7229 - val_accuracy: 0.6673\n"
     ]
    },
    {
     "name": "stderr",
     "output_type": "stream",
     "text": [
      "Column index of X has been converted: Index(['x_0', 'x_1', 'x_2', 'x_3', 'x_4'], dtype='object')\n"
     ]
    },
    {
     "name": "stdout",
     "output_type": "stream",
     "text": [
      "Restoring model weights from the end of the best epoch.\n",
      "Epoch 00003: early stopping\n",
      "Model has been saved to:dt_output/dt_20210403 145648_fm_nets_dnn_nets_linear/fm_nets+dnn_nets+linear.h5\n"
     ]
    },
    {
     "name": "stderr",
     "output_type": "stream",
     "text": [
      "Column index of X has been converted: Index(['x_0', 'x_1', 'x_2', 'x_3', 'x_4'], dtype='object')\n"
     ]
    },
    {
     "name": "stdout",
     "output_type": "stream",
     "text": [
      "{'loss': 0.6134600043296814, 'auc': 0.7222930192947388, 'accuracy': 0.6694311499595642}\n"
     ]
    }
   ],
   "source": [
    "#training\n",
    "config = deeptable.ModelConfig(nets=deepnets.DeepFM, \n",
    "                              categorical_columns='auto', # or categorical_columns=['x1', 'x2', 'x3', ...]\n",
    "                                metrics=['AUC', 'accuracy'], # can be `metrics=['RootMeanSquaredError']` for regression task\n",
    "                                auto_categorize=True,\n",
    "                                auto_discrete=False,\n",
    "                                embeddings_output_dim=20,\n",
    "                                embedding_dropout=0.3,)\n",
    "dt = deeptable.DeepTable(config=config)\n",
    "model, history = dt.fit(x_train, y_train, batch_size=2048, epochs=3)\n",
    "\n",
    "#evaluation\n",
    "result = dt.evaluate(x_test,y_test, batch_size=1024, verbose=0)\n",
    "print(result)\n",
    "\n",
    "#scoring\n",
    "preds = dt.predict(x_test)"
   ]
  },
  {
   "cell_type": "markdown",
   "metadata": {},
   "source": [
    "# DATA PROCESSING"
   ]
  },
  {
   "cell_type": "code",
   "execution_count": 147,
   "metadata": {},
   "outputs": [
    {
     "data": {
      "text/html": [
       "<div>\n",
       "<style scoped>\n",
       "    .dataframe tbody tr th:only-of-type {\n",
       "        vertical-align: middle;\n",
       "    }\n",
       "\n",
       "    .dataframe tbody tr th {\n",
       "        vertical-align: top;\n",
       "    }\n",
       "\n",
       "    .dataframe thead th {\n",
       "        text-align: right;\n",
       "    }\n",
       "</style>\n",
       "<table border=\"1\" class=\"dataframe\">\n",
       "  <thead>\n",
       "    <tr style=\"text-align: right;\">\n",
       "      <th></th>\n",
       "      <th>WP16</th>\n",
       "      <th>wgt</th>\n",
       "      <th>country</th>\n",
       "      <th>income_2</th>\n",
       "      <th>WP1219</th>\n",
       "      <th>WP1220</th>\n",
       "      <th>year</th>\n",
       "      <th>weo_gdpc_con_ppp</th>\n",
       "    </tr>\n",
       "  </thead>\n",
       "  <tbody>\n",
       "    <tr>\n",
       "      <th>0</th>\n",
       "      <td>4</td>\n",
       "      <td>1.800488</td>\n",
       "      <td>Israel</td>\n",
       "      <td>18042.77108</td>\n",
       "      <td>1.0</td>\n",
       "      <td>15.0</td>\n",
       "      <td>2016</td>\n",
       "      <td>32658.020</td>\n",
       "    </tr>\n",
       "    <tr>\n",
       "      <th>1</th>\n",
       "      <td>4</td>\n",
       "      <td>2.360024</td>\n",
       "      <td>Israel</td>\n",
       "      <td>12799.41274</td>\n",
       "      <td>1.0</td>\n",
       "      <td>15.0</td>\n",
       "      <td>2013</td>\n",
       "      <td>31369.909</td>\n",
       "    </tr>\n",
       "    <tr>\n",
       "      <th>2</th>\n",
       "      <td>8</td>\n",
       "      <td>1.463117</td>\n",
       "      <td>Israel</td>\n",
       "      <td>22448.93600</td>\n",
       "      <td>1.0</td>\n",
       "      <td>15.0</td>\n",
       "      <td>2015</td>\n",
       "      <td>32038.697</td>\n",
       "    </tr>\n",
       "    <tr>\n",
       "      <th>3</th>\n",
       "      <td>5</td>\n",
       "      <td>1.246618</td>\n",
       "      <td>Israel</td>\n",
       "      <td>16853.73974</td>\n",
       "      <td>1.0</td>\n",
       "      <td>15.0</td>\n",
       "      <td>2014</td>\n",
       "      <td>31844.204</td>\n",
       "    </tr>\n",
       "    <tr>\n",
       "      <th>4</th>\n",
       "      <td>8</td>\n",
       "      <td>1.800488</td>\n",
       "      <td>Israel</td>\n",
       "      <td>22206.48749</td>\n",
       "      <td>1.0</td>\n",
       "      <td>15.0</td>\n",
       "      <td>2016</td>\n",
       "      <td>32658.020</td>\n",
       "    </tr>\n",
       "    <tr>\n",
       "      <th>5</th>\n",
       "      <td>10</td>\n",
       "      <td>1.463117</td>\n",
       "      <td>Israel</td>\n",
       "      <td>23851.99449</td>\n",
       "      <td>1.0</td>\n",
       "      <td>15.0</td>\n",
       "      <td>2015</td>\n",
       "      <td>32038.697</td>\n",
       "    </tr>\n",
       "    <tr>\n",
       "      <th>6</th>\n",
       "      <td>9</td>\n",
       "      <td>1.246618</td>\n",
       "      <td>Israel</td>\n",
       "      <td>50561.21923</td>\n",
       "      <td>1.0</td>\n",
       "      <td>15.0</td>\n",
       "      <td>2014</td>\n",
       "      <td>31844.204</td>\n",
       "    </tr>\n",
       "    <tr>\n",
       "      <th>7</th>\n",
       "      <td>9</td>\n",
       "      <td>1.350366</td>\n",
       "      <td>Israel</td>\n",
       "      <td>33309.73123</td>\n",
       "      <td>1.0</td>\n",
       "      <td>15.0</td>\n",
       "      <td>2016</td>\n",
       "      <td>32658.020</td>\n",
       "    </tr>\n",
       "    <tr>\n",
       "      <th>8</th>\n",
       "      <td>10</td>\n",
       "      <td>1.800488</td>\n",
       "      <td>Israel</td>\n",
       "      <td>83274.32807</td>\n",
       "      <td>1.0</td>\n",
       "      <td>15.0</td>\n",
       "      <td>2016</td>\n",
       "      <td>32658.020</td>\n",
       "    </tr>\n",
       "    <tr>\n",
       "      <th>9</th>\n",
       "      <td>8</td>\n",
       "      <td>1.463117</td>\n",
       "      <td>Israel</td>\n",
       "      <td>28061.16999</td>\n",
       "      <td>1.0</td>\n",
       "      <td>15.0</td>\n",
       "      <td>2015</td>\n",
       "      <td>32038.697</td>\n",
       "    </tr>\n",
       "  </tbody>\n",
       "</table>\n",
       "</div>"
      ],
      "text/plain": [
       "   WP16       wgt country     income_2  WP1219  WP1220  year  weo_gdpc_con_ppp\n",
       "0     4  1.800488  Israel  18042.77108     1.0    15.0  2016         32658.020\n",
       "1     4  2.360024  Israel  12799.41274     1.0    15.0  2013         31369.909\n",
       "2     8  1.463117  Israel  22448.93600     1.0    15.0  2015         32038.697\n",
       "3     5  1.246618  Israel  16853.73974     1.0    15.0  2014         31844.204\n",
       "4     8  1.800488  Israel  22206.48749     1.0    15.0  2016         32658.020\n",
       "5    10  1.463117  Israel  23851.99449     1.0    15.0  2015         32038.697\n",
       "6     9  1.246618  Israel  50561.21923     1.0    15.0  2014         31844.204\n",
       "7     9  1.350366  Israel  33309.73123     1.0    15.0  2016         32658.020\n",
       "8    10  1.800488  Israel  83274.32807     1.0    15.0  2016         32658.020\n",
       "9     8  1.463117  Israel  28061.16999     1.0    15.0  2015         32038.697"
      ]
     },
     "execution_count": 147,
     "metadata": {},
     "output_type": "execute_result"
    }
   ],
   "source": [
    "import pandas as pd\n",
    "df = pd.read_csv('data/GALLUP.csv')\n",
    "df.head(10)"
   ]
  },
  {
   "cell_type": "code",
   "execution_count": 148,
   "metadata": {},
   "outputs": [
    {
     "data": {
      "text/plain": [
       "WP16                    0\n",
       "wgt                     0\n",
       "country                 0\n",
       "income_2                0\n",
       "WP1219                  1\n",
       "WP1220                185\n",
       "year                    0\n",
       "weo_gdpc_con_ppp    24122\n",
       "dtype: int64"
      ]
     },
     "execution_count": 148,
     "metadata": {},
     "output_type": "execute_result"
    }
   ],
   "source": [
    "df.isna().sum()"
   ]
  },
  {
   "cell_type": "code",
   "execution_count": 149,
   "metadata": {},
   "outputs": [],
   "source": [
    "df = df.interpolate(method ='linear', limit_direction ='forward')"
   ]
  },
  {
   "cell_type": "code",
   "execution_count": 150,
   "metadata": {},
   "outputs": [],
   "source": [
    "# df = df.drop(columns=['year', 'country'])"
   ]
  },
  {
   "cell_type": "code",
   "execution_count": 151,
   "metadata": {},
   "outputs": [
    {
     "data": {
      "text/html": [
       "<div>\n",
       "<style scoped>\n",
       "    .dataframe tbody tr th:only-of-type {\n",
       "        vertical-align: middle;\n",
       "    }\n",
       "\n",
       "    .dataframe tbody tr th {\n",
       "        vertical-align: top;\n",
       "    }\n",
       "\n",
       "    .dataframe thead th {\n",
       "        text-align: right;\n",
       "    }\n",
       "</style>\n",
       "<table border=\"1\" class=\"dataframe\">\n",
       "  <thead>\n",
       "    <tr style=\"text-align: right;\">\n",
       "      <th></th>\n",
       "      <th>WP16</th>\n",
       "      <th>wgt</th>\n",
       "      <th>country</th>\n",
       "      <th>income_2</th>\n",
       "      <th>WP1219</th>\n",
       "      <th>WP1220</th>\n",
       "      <th>year</th>\n",
       "      <th>weo_gdpc_con_ppp</th>\n",
       "    </tr>\n",
       "  </thead>\n",
       "  <tbody>\n",
       "    <tr>\n",
       "      <th>0</th>\n",
       "      <td>4</td>\n",
       "      <td>1.800488</td>\n",
       "      <td>Israel</td>\n",
       "      <td>18042.77108</td>\n",
       "      <td>1.0</td>\n",
       "      <td>15.0</td>\n",
       "      <td>2016</td>\n",
       "      <td>32658.020</td>\n",
       "    </tr>\n",
       "    <tr>\n",
       "      <th>1</th>\n",
       "      <td>4</td>\n",
       "      <td>2.360024</td>\n",
       "      <td>Israel</td>\n",
       "      <td>12799.41274</td>\n",
       "      <td>1.0</td>\n",
       "      <td>15.0</td>\n",
       "      <td>2013</td>\n",
       "      <td>31369.909</td>\n",
       "    </tr>\n",
       "    <tr>\n",
       "      <th>2</th>\n",
       "      <td>8</td>\n",
       "      <td>1.463117</td>\n",
       "      <td>Israel</td>\n",
       "      <td>22448.93600</td>\n",
       "      <td>1.0</td>\n",
       "      <td>15.0</td>\n",
       "      <td>2015</td>\n",
       "      <td>32038.697</td>\n",
       "    </tr>\n",
       "    <tr>\n",
       "      <th>3</th>\n",
       "      <td>5</td>\n",
       "      <td>1.246618</td>\n",
       "      <td>Israel</td>\n",
       "      <td>16853.73974</td>\n",
       "      <td>1.0</td>\n",
       "      <td>15.0</td>\n",
       "      <td>2014</td>\n",
       "      <td>31844.204</td>\n",
       "    </tr>\n",
       "    <tr>\n",
       "      <th>4</th>\n",
       "      <td>8</td>\n",
       "      <td>1.800488</td>\n",
       "      <td>Israel</td>\n",
       "      <td>22206.48749</td>\n",
       "      <td>1.0</td>\n",
       "      <td>15.0</td>\n",
       "      <td>2016</td>\n",
       "      <td>32658.020</td>\n",
       "    </tr>\n",
       "  </tbody>\n",
       "</table>\n",
       "</div>"
      ],
      "text/plain": [
       "   WP16       wgt country     income_2  WP1219  WP1220  year  weo_gdpc_con_ppp\n",
       "0     4  1.800488  Israel  18042.77108     1.0    15.0  2016         32658.020\n",
       "1     4  2.360024  Israel  12799.41274     1.0    15.0  2013         31369.909\n",
       "2     8  1.463117  Israel  22448.93600     1.0    15.0  2015         32038.697\n",
       "3     5  1.246618  Israel  16853.73974     1.0    15.0  2014         31844.204\n",
       "4     8  1.800488  Israel  22206.48749     1.0    15.0  2016         32658.020"
      ]
     },
     "execution_count": 151,
     "metadata": {},
     "output_type": "execute_result"
    }
   ],
   "source": [
    "df.head()"
   ]
  },
  {
   "cell_type": "code",
   "execution_count": 152,
   "metadata": {},
   "outputs": [],
   "source": [
    "df = df.drop_duplicates(keep=False)"
   ]
  },
  {
   "cell_type": "code",
   "execution_count": 123,
   "metadata": {},
   "outputs": [],
   "source": [
    "def encode_and_bind(original_dataframe, feature_to_encode):\n",
    "    dummies = pd.get_dummies(original_dataframe[[feature_to_encode]])\n",
    "    res = pd.concat([original_dataframe, dummies], axis=1)\n",
    "    res = res.drop([feature_to_encode], axis=1)\n",
    "    return(res) "
   ]
  },
  {
   "cell_type": "code",
   "execution_count": 124,
   "metadata": {
    "scrolled": true
   },
   "outputs": [
    {
     "data": {
      "text/html": [
       "<div>\n",
       "<style scoped>\n",
       "    .dataframe tbody tr th:only-of-type {\n",
       "        vertical-align: middle;\n",
       "    }\n",
       "\n",
       "    .dataframe tbody tr th {\n",
       "        vertical-align: top;\n",
       "    }\n",
       "\n",
       "    .dataframe thead th {\n",
       "        text-align: right;\n",
       "    }\n",
       "</style>\n",
       "<table border=\"1\" class=\"dataframe\">\n",
       "  <thead>\n",
       "    <tr style=\"text-align: right;\">\n",
       "      <th></th>\n",
       "      <th>WP16</th>\n",
       "      <th>wgt</th>\n",
       "      <th>income_2</th>\n",
       "      <th>WP1219</th>\n",
       "      <th>WP1220</th>\n",
       "      <th>weo_gdpc_con_ppp</th>\n",
       "      <th>country_Afghanistan</th>\n",
       "      <th>country_Albania</th>\n",
       "      <th>country_Algeria</th>\n",
       "      <th>country_Angola</th>\n",
       "      <th>...</th>\n",
       "      <th>country_Ukraine</th>\n",
       "      <th>country_United Arab Emirates</th>\n",
       "      <th>country_United Kingdom</th>\n",
       "      <th>country_United States</th>\n",
       "      <th>country_Uruguay</th>\n",
       "      <th>country_Venezuela, RB</th>\n",
       "      <th>country_Vietnam</th>\n",
       "      <th>country_Yemen, Rep.</th>\n",
       "      <th>country_Zambia</th>\n",
       "      <th>country_Zimbabwe</th>\n",
       "    </tr>\n",
       "  </thead>\n",
       "  <tbody>\n",
       "    <tr>\n",
       "      <th>0</th>\n",
       "      <td>4</td>\n",
       "      <td>1.800488</td>\n",
       "      <td>18042.77108</td>\n",
       "      <td>1.0</td>\n",
       "      <td>15.0</td>\n",
       "      <td>32658.020</td>\n",
       "      <td>0</td>\n",
       "      <td>0</td>\n",
       "      <td>0</td>\n",
       "      <td>0</td>\n",
       "      <td>...</td>\n",
       "      <td>0</td>\n",
       "      <td>0</td>\n",
       "      <td>0</td>\n",
       "      <td>0</td>\n",
       "      <td>0</td>\n",
       "      <td>0</td>\n",
       "      <td>0</td>\n",
       "      <td>0</td>\n",
       "      <td>0</td>\n",
       "      <td>0</td>\n",
       "    </tr>\n",
       "    <tr>\n",
       "      <th>1</th>\n",
       "      <td>4</td>\n",
       "      <td>2.360024</td>\n",
       "      <td>12799.41274</td>\n",
       "      <td>1.0</td>\n",
       "      <td>15.0</td>\n",
       "      <td>31369.909</td>\n",
       "      <td>0</td>\n",
       "      <td>0</td>\n",
       "      <td>0</td>\n",
       "      <td>0</td>\n",
       "      <td>...</td>\n",
       "      <td>0</td>\n",
       "      <td>0</td>\n",
       "      <td>0</td>\n",
       "      <td>0</td>\n",
       "      <td>0</td>\n",
       "      <td>0</td>\n",
       "      <td>0</td>\n",
       "      <td>0</td>\n",
       "      <td>0</td>\n",
       "      <td>0</td>\n",
       "    </tr>\n",
       "    <tr>\n",
       "      <th>2</th>\n",
       "      <td>8</td>\n",
       "      <td>1.463117</td>\n",
       "      <td>22448.93600</td>\n",
       "      <td>1.0</td>\n",
       "      <td>15.0</td>\n",
       "      <td>32038.697</td>\n",
       "      <td>0</td>\n",
       "      <td>0</td>\n",
       "      <td>0</td>\n",
       "      <td>0</td>\n",
       "      <td>...</td>\n",
       "      <td>0</td>\n",
       "      <td>0</td>\n",
       "      <td>0</td>\n",
       "      <td>0</td>\n",
       "      <td>0</td>\n",
       "      <td>0</td>\n",
       "      <td>0</td>\n",
       "      <td>0</td>\n",
       "      <td>0</td>\n",
       "      <td>0</td>\n",
       "    </tr>\n",
       "    <tr>\n",
       "      <th>3</th>\n",
       "      <td>5</td>\n",
       "      <td>1.246618</td>\n",
       "      <td>16853.73974</td>\n",
       "      <td>1.0</td>\n",
       "      <td>15.0</td>\n",
       "      <td>31844.204</td>\n",
       "      <td>0</td>\n",
       "      <td>0</td>\n",
       "      <td>0</td>\n",
       "      <td>0</td>\n",
       "      <td>...</td>\n",
       "      <td>0</td>\n",
       "      <td>0</td>\n",
       "      <td>0</td>\n",
       "      <td>0</td>\n",
       "      <td>0</td>\n",
       "      <td>0</td>\n",
       "      <td>0</td>\n",
       "      <td>0</td>\n",
       "      <td>0</td>\n",
       "      <td>0</td>\n",
       "    </tr>\n",
       "    <tr>\n",
       "      <th>4</th>\n",
       "      <td>8</td>\n",
       "      <td>1.800488</td>\n",
       "      <td>22206.48749</td>\n",
       "      <td>1.0</td>\n",
       "      <td>15.0</td>\n",
       "      <td>32658.020</td>\n",
       "      <td>0</td>\n",
       "      <td>0</td>\n",
       "      <td>0</td>\n",
       "      <td>0</td>\n",
       "      <td>...</td>\n",
       "      <td>0</td>\n",
       "      <td>0</td>\n",
       "      <td>0</td>\n",
       "      <td>0</td>\n",
       "      <td>0</td>\n",
       "      <td>0</td>\n",
       "      <td>0</td>\n",
       "      <td>0</td>\n",
       "      <td>0</td>\n",
       "      <td>0</td>\n",
       "    </tr>\n",
       "  </tbody>\n",
       "</table>\n",
       "<p>5 rows × 160 columns</p>\n",
       "</div>"
      ],
      "text/plain": [
       "   WP16       wgt     income_2  WP1219  WP1220  weo_gdpc_con_ppp  \\\n",
       "0     4  1.800488  18042.77108     1.0    15.0         32658.020   \n",
       "1     4  2.360024  12799.41274     1.0    15.0         31369.909   \n",
       "2     8  1.463117  22448.93600     1.0    15.0         32038.697   \n",
       "3     5  1.246618  16853.73974     1.0    15.0         31844.204   \n",
       "4     8  1.800488  22206.48749     1.0    15.0         32658.020   \n",
       "\n",
       "   country_Afghanistan  country_Albania  country_Algeria  country_Angola  ...  \\\n",
       "0                    0                0                0               0  ...   \n",
       "1                    0                0                0               0  ...   \n",
       "2                    0                0                0               0  ...   \n",
       "3                    0                0                0               0  ...   \n",
       "4                    0                0                0               0  ...   \n",
       "\n",
       "   country_Ukraine  country_United Arab Emirates  country_United Kingdom  \\\n",
       "0                0                             0                       0   \n",
       "1                0                             0                       0   \n",
       "2                0                             0                       0   \n",
       "3                0                             0                       0   \n",
       "4                0                             0                       0   \n",
       "\n",
       "   country_United States  country_Uruguay  country_Venezuela, RB  \\\n",
       "0                      0                0                      0   \n",
       "1                      0                0                      0   \n",
       "2                      0                0                      0   \n",
       "3                      0                0                      0   \n",
       "4                      0                0                      0   \n",
       "\n",
       "   country_Vietnam  country_Yemen, Rep.  country_Zambia  country_Zimbabwe  \n",
       "0                0                    0               0                 0  \n",
       "1                0                    0               0                 0  \n",
       "2                0                    0               0                 0  \n",
       "3                0                    0               0                 0  \n",
       "4                0                    0               0                 0  \n",
       "\n",
       "[5 rows x 160 columns]"
      ]
     },
     "execution_count": 124,
     "metadata": {},
     "output_type": "execute_result"
    }
   ],
   "source": [
    "df2 = encode_and_bind(df, 'year')\n",
    "df2 = encode_and_bind(df2, 'country')\n",
    "df2.head()"
   ]
  },
  {
   "cell_type": "code",
   "execution_count": 125,
   "metadata": {},
   "outputs": [],
   "source": [
    "df = df2"
   ]
  },
  {
   "cell_type": "code",
   "execution_count": 153,
   "metadata": {},
   "outputs": [],
   "source": [
    "columns = ['wgt', 'income_2', 'WP1219', 'WP1220', 'weo_gdpc_con_ppp']\n",
    "df[columns] = df[columns].apply(lambda x: (x - x.min()) / (x.max() - x.min()))"
   ]
  },
  {
   "cell_type": "code",
   "execution_count": 154,
   "metadata": {},
   "outputs": [
    {
     "data": {
      "text/html": [
       "<div>\n",
       "<style scoped>\n",
       "    .dataframe tbody tr th:only-of-type {\n",
       "        vertical-align: middle;\n",
       "    }\n",
       "\n",
       "    .dataframe tbody tr th {\n",
       "        vertical-align: top;\n",
       "    }\n",
       "\n",
       "    .dataframe thead th {\n",
       "        text-align: right;\n",
       "    }\n",
       "</style>\n",
       "<table border=\"1\" class=\"dataframe\">\n",
       "  <thead>\n",
       "    <tr style=\"text-align: right;\">\n",
       "      <th></th>\n",
       "      <th>WP16</th>\n",
       "      <th>wgt</th>\n",
       "      <th>country</th>\n",
       "      <th>income_2</th>\n",
       "      <th>WP1219</th>\n",
       "      <th>WP1220</th>\n",
       "      <th>year</th>\n",
       "      <th>weo_gdpc_con_ppp</th>\n",
       "    </tr>\n",
       "  </thead>\n",
       "  <tbody>\n",
       "    <tr>\n",
       "      <th>0</th>\n",
       "      <td>4</td>\n",
       "      <td>0.229189</td>\n",
       "      <td>Israel</td>\n",
       "      <td>0.000020</td>\n",
       "      <td>0.0</td>\n",
       "      <td>0.022727</td>\n",
       "      <td>2016</td>\n",
       "      <td>0.220878</td>\n",
       "    </tr>\n",
       "    <tr>\n",
       "      <th>1</th>\n",
       "      <td>4</td>\n",
       "      <td>0.303079</td>\n",
       "      <td>Israel</td>\n",
       "      <td>0.000014</td>\n",
       "      <td>0.0</td>\n",
       "      <td>0.022727</td>\n",
       "      <td>2013</td>\n",
       "      <td>0.212002</td>\n",
       "    </tr>\n",
       "    <tr>\n",
       "      <th>2</th>\n",
       "      <td>8</td>\n",
       "      <td>0.184638</td>\n",
       "      <td>Israel</td>\n",
       "      <td>0.000025</td>\n",
       "      <td>0.0</td>\n",
       "      <td>0.022727</td>\n",
       "      <td>2015</td>\n",
       "      <td>0.216610</td>\n",
       "    </tr>\n",
       "    <tr>\n",
       "      <th>3</th>\n",
       "      <td>5</td>\n",
       "      <td>0.156048</td>\n",
       "      <td>Israel</td>\n",
       "      <td>0.000019</td>\n",
       "      <td>0.0</td>\n",
       "      <td>0.022727</td>\n",
       "      <td>2014</td>\n",
       "      <td>0.215270</td>\n",
       "    </tr>\n",
       "    <tr>\n",
       "      <th>4</th>\n",
       "      <td>8</td>\n",
       "      <td>0.229189</td>\n",
       "      <td>Israel</td>\n",
       "      <td>0.000025</td>\n",
       "      <td>0.0</td>\n",
       "      <td>0.022727</td>\n",
       "      <td>2016</td>\n",
       "      <td>0.220878</td>\n",
       "    </tr>\n",
       "  </tbody>\n",
       "</table>\n",
       "</div>"
      ],
      "text/plain": [
       "   WP16       wgt country  income_2  WP1219    WP1220  year  weo_gdpc_con_ppp\n",
       "0     4  0.229189  Israel  0.000020     0.0  0.022727  2016          0.220878\n",
       "1     4  0.303079  Israel  0.000014     0.0  0.022727  2013          0.212002\n",
       "2     8  0.184638  Israel  0.000025     0.0  0.022727  2015          0.216610\n",
       "3     5  0.156048  Israel  0.000019     0.0  0.022727  2014          0.215270\n",
       "4     8  0.229189  Israel  0.000025     0.0  0.022727  2016          0.220878"
      ]
     },
     "execution_count": 154,
     "metadata": {},
     "output_type": "execute_result"
    }
   ],
   "source": [
    "df.head()"
   ]
  },
  {
   "cell_type": "code",
   "execution_count": 155,
   "metadata": {},
   "outputs": [],
   "source": [
    "df[\"WP16\"] = np.where(df[\"WP16\"]<6, 0, 1)"
   ]
  },
  {
   "cell_type": "code",
   "execution_count": 156,
   "metadata": {},
   "outputs": [
    {
     "data": {
      "text/html": [
       "<div>\n",
       "<style scoped>\n",
       "    .dataframe tbody tr th:only-of-type {\n",
       "        vertical-align: middle;\n",
       "    }\n",
       "\n",
       "    .dataframe tbody tr th {\n",
       "        vertical-align: top;\n",
       "    }\n",
       "\n",
       "    .dataframe thead th {\n",
       "        text-align: right;\n",
       "    }\n",
       "</style>\n",
       "<table border=\"1\" class=\"dataframe\">\n",
       "  <thead>\n",
       "    <tr style=\"text-align: right;\">\n",
       "      <th></th>\n",
       "      <th>WP16</th>\n",
       "      <th>wgt</th>\n",
       "      <th>country</th>\n",
       "      <th>income_2</th>\n",
       "      <th>WP1219</th>\n",
       "      <th>WP1220</th>\n",
       "      <th>year</th>\n",
       "      <th>weo_gdpc_con_ppp</th>\n",
       "    </tr>\n",
       "  </thead>\n",
       "  <tbody>\n",
       "    <tr>\n",
       "      <th>0</th>\n",
       "      <td>0</td>\n",
       "      <td>0.229189</td>\n",
       "      <td>Israel</td>\n",
       "      <td>0.000020</td>\n",
       "      <td>0.0</td>\n",
       "      <td>0.022727</td>\n",
       "      <td>2016</td>\n",
       "      <td>0.220878</td>\n",
       "    </tr>\n",
       "    <tr>\n",
       "      <th>1</th>\n",
       "      <td>0</td>\n",
       "      <td>0.303079</td>\n",
       "      <td>Israel</td>\n",
       "      <td>0.000014</td>\n",
       "      <td>0.0</td>\n",
       "      <td>0.022727</td>\n",
       "      <td>2013</td>\n",
       "      <td>0.212002</td>\n",
       "    </tr>\n",
       "    <tr>\n",
       "      <th>2</th>\n",
       "      <td>1</td>\n",
       "      <td>0.184638</td>\n",
       "      <td>Israel</td>\n",
       "      <td>0.000025</td>\n",
       "      <td>0.0</td>\n",
       "      <td>0.022727</td>\n",
       "      <td>2015</td>\n",
       "      <td>0.216610</td>\n",
       "    </tr>\n",
       "    <tr>\n",
       "      <th>3</th>\n",
       "      <td>0</td>\n",
       "      <td>0.156048</td>\n",
       "      <td>Israel</td>\n",
       "      <td>0.000019</td>\n",
       "      <td>0.0</td>\n",
       "      <td>0.022727</td>\n",
       "      <td>2014</td>\n",
       "      <td>0.215270</td>\n",
       "    </tr>\n",
       "    <tr>\n",
       "      <th>4</th>\n",
       "      <td>1</td>\n",
       "      <td>0.229189</td>\n",
       "      <td>Israel</td>\n",
       "      <td>0.000025</td>\n",
       "      <td>0.0</td>\n",
       "      <td>0.022727</td>\n",
       "      <td>2016</td>\n",
       "      <td>0.220878</td>\n",
       "    </tr>\n",
       "  </tbody>\n",
       "</table>\n",
       "</div>"
      ],
      "text/plain": [
       "   WP16       wgt country  income_2  WP1219    WP1220  year  weo_gdpc_con_ppp\n",
       "0     0  0.229189  Israel  0.000020     0.0  0.022727  2016          0.220878\n",
       "1     0  0.303079  Israel  0.000014     0.0  0.022727  2013          0.212002\n",
       "2     1  0.184638  Israel  0.000025     0.0  0.022727  2015          0.216610\n",
       "3     0  0.156048  Israel  0.000019     0.0  0.022727  2014          0.215270\n",
       "4     1  0.229189  Israel  0.000025     0.0  0.022727  2016          0.220878"
      ]
     },
     "execution_count": 156,
     "metadata": {},
     "output_type": "execute_result"
    }
   ],
   "source": [
    "df.head()"
   ]
  },
  {
   "cell_type": "code",
   "execution_count": 133,
   "metadata": {},
   "outputs": [
    {
     "data": {
      "text/plain": [
       "['income_2',\n",
       " 'WP1219',\n",
       " 'WP1220',\n",
       " 'weo_gdpc_con_ppp',\n",
       " 'country_Afghanistan',\n",
       " 'country_Albania',\n",
       " 'country_Algeria',\n",
       " 'country_Angola',\n",
       " 'country_Argentina',\n",
       " 'country_Armenia',\n",
       " 'country_Australia',\n",
       " 'country_Austria',\n",
       " 'country_Azerbaijan',\n",
       " 'country_Bahrain',\n",
       " 'country_Bangladesh',\n",
       " 'country_Belarus',\n",
       " 'country_Belgium',\n",
       " 'country_Belize',\n",
       " 'country_Benin',\n",
       " 'country_Bhutan',\n",
       " 'country_Bolivia',\n",
       " 'country_Bosnia and Herzegovina',\n",
       " 'country_Botswana',\n",
       " 'country_Brazil',\n",
       " 'country_Bulgaria',\n",
       " 'country_Burkina Faso',\n",
       " 'country_Burundi',\n",
       " 'country_Cambodia',\n",
       " 'country_Cameroon',\n",
       " 'country_Canada',\n",
       " 'country_Central African Republic',\n",
       " 'country_Chad',\n",
       " 'country_Chile',\n",
       " 'country_China',\n",
       " 'country_Colombia',\n",
       " 'country_Comoros',\n",
       " 'country_Congo, Dem. Rep.',\n",
       " 'country_Congo, Rep.',\n",
       " 'country_Costa Rica',\n",
       " \"country_Cote d'Ivoire\",\n",
       " 'country_Croatia',\n",
       " 'country_Cyprus',\n",
       " 'country_Czech Republic',\n",
       " 'country_Denmark',\n",
       " 'country_Dominican Republic',\n",
       " 'country_Ecuador',\n",
       " 'country_Egypt, Arab Rep.',\n",
       " 'country_El Salvador',\n",
       " 'country_Estonia',\n",
       " 'country_Ethiopia',\n",
       " 'country_Finland',\n",
       " 'country_France',\n",
       " 'country_Gabon',\n",
       " 'country_Georgia',\n",
       " 'country_Germany',\n",
       " 'country_Ghana',\n",
       " 'country_Greece',\n",
       " 'country_Guatemala',\n",
       " 'country_Guinea',\n",
       " 'country_Haiti',\n",
       " 'country_Honduras',\n",
       " 'country_Hong Kong SAR, China',\n",
       " 'country_Hungary',\n",
       " 'country_Iceland',\n",
       " 'country_India',\n",
       " 'country_Indonesia',\n",
       " 'country_Iran, Islamic Rep.',\n",
       " 'country_Iraq',\n",
       " 'country_Ireland',\n",
       " 'country_Israel',\n",
       " 'country_Italy',\n",
       " 'country_Jamaica',\n",
       " 'country_Japan',\n",
       " 'country_Jordan',\n",
       " 'country_Kazakhstan',\n",
       " 'country_Kenya',\n",
       " 'country_Korea, Rep.',\n",
       " 'country_Kuwait',\n",
       " 'country_Kyrgyz Republic',\n",
       " 'country_Latvia',\n",
       " 'country_Lebanon',\n",
       " 'country_Lesotho',\n",
       " 'country_Liberia',\n",
       " 'country_Libya',\n",
       " 'country_Lithuania',\n",
       " 'country_Luxembourg',\n",
       " 'country_Macedonia, FYR',\n",
       " 'country_Madagascar',\n",
       " 'country_Malawi',\n",
       " 'country_Malaysia',\n",
       " 'country_Mali',\n",
       " 'country_Malta',\n",
       " 'country_Mauritania',\n",
       " 'country_Mauritius',\n",
       " 'country_Mexico',\n",
       " 'country_Moldova',\n",
       " 'country_Mongolia',\n",
       " 'country_Montenegro',\n",
       " 'country_Morocco',\n",
       " 'country_Mozambique',\n",
       " 'country_Myanmar',\n",
       " 'country_Namibia',\n",
       " 'country_Nepal',\n",
       " 'country_Netherlands',\n",
       " 'country_New Zealand',\n",
       " 'country_Nicaragua',\n",
       " 'country_Niger',\n",
       " 'country_Nigeria',\n",
       " 'country_Norway',\n",
       " 'country_Oman',\n",
       " 'country_Pakistan',\n",
       " 'country_Panama',\n",
       " 'country_Paraguay',\n",
       " 'country_Peru',\n",
       " 'country_Philippines',\n",
       " 'country_Poland',\n",
       " 'country_Portugal',\n",
       " 'country_Puerto Rico',\n",
       " 'country_Qatar',\n",
       " 'country_Romania',\n",
       " 'country_Russian Federation',\n",
       " 'country_Rwanda',\n",
       " 'country_Saudi Arabia',\n",
       " 'country_Senegal',\n",
       " 'country_Serbia',\n",
       " 'country_Sierra Leone',\n",
       " 'country_Singapore',\n",
       " 'country_Slovak Republic',\n",
       " 'country_Slovenia',\n",
       " 'country_Somalia',\n",
       " 'country_South Africa',\n",
       " 'country_South Sudan',\n",
       " 'country_Spain',\n",
       " 'country_Sri Lanka',\n",
       " 'country_Suriname',\n",
       " 'country_Swaziland',\n",
       " 'country_Sweden',\n",
       " 'country_Switzerland',\n",
       " 'country_Syrian Arab Republic',\n",
       " 'country_Taiwan, China',\n",
       " 'country_Tajikistan',\n",
       " 'country_Tanzania',\n",
       " 'country_Thailand',\n",
       " 'country_Togo',\n",
       " 'country_Tunisia',\n",
       " 'country_Turkey',\n",
       " 'country_Turkmenistan',\n",
       " 'country_Uganda',\n",
       " 'country_Ukraine',\n",
       " 'country_United Arab Emirates',\n",
       " 'country_United Kingdom',\n",
       " 'country_United States',\n",
       " 'country_Uruguay',\n",
       " 'country_Venezuela, RB',\n",
       " 'country_Vietnam',\n",
       " 'country_Yemen, Rep.',\n",
       " 'country_Zambia',\n",
       " 'country_Zimbabwe']"
      ]
     },
     "execution_count": 133,
     "metadata": {},
     "output_type": "execute_result"
    }
   ],
   "source": [
    "list(df.columns)[2:]"
   ]
  },
  {
   "cell_type": "code",
   "execution_count": 157,
   "metadata": {},
   "outputs": [],
   "source": [
    "from sklearn.preprocessing import LabelEncoder \n",
    "ly = LabelEncoder()\n",
    "# y = ly.fit_transform(y)"
   ]
  },
  {
   "cell_type": "code",
   "execution_count": 158,
   "metadata": {},
   "outputs": [],
   "source": [
    "columns = ['year', 'country']\n",
    "df[columns] = df[columns].apply(lambda x: ly.fit_transform(x))"
   ]
  },
  {
   "cell_type": "code",
   "execution_count": 159,
   "metadata": {},
   "outputs": [
    {
     "data": {
      "text/html": [
       "<div>\n",
       "<style scoped>\n",
       "    .dataframe tbody tr th:only-of-type {\n",
       "        vertical-align: middle;\n",
       "    }\n",
       "\n",
       "    .dataframe tbody tr th {\n",
       "        vertical-align: top;\n",
       "    }\n",
       "\n",
       "    .dataframe thead th {\n",
       "        text-align: right;\n",
       "    }\n",
       "</style>\n",
       "<table border=\"1\" class=\"dataframe\">\n",
       "  <thead>\n",
       "    <tr style=\"text-align: right;\">\n",
       "      <th></th>\n",
       "      <th>WP16</th>\n",
       "      <th>wgt</th>\n",
       "      <th>country</th>\n",
       "      <th>income_2</th>\n",
       "      <th>WP1219</th>\n",
       "      <th>WP1220</th>\n",
       "      <th>year</th>\n",
       "      <th>weo_gdpc_con_ppp</th>\n",
       "    </tr>\n",
       "  </thead>\n",
       "  <tbody>\n",
       "    <tr>\n",
       "      <th>0</th>\n",
       "      <td>0</td>\n",
       "      <td>0.229189</td>\n",
       "      <td>65</td>\n",
       "      <td>0.000020</td>\n",
       "      <td>0.0</td>\n",
       "      <td>0.022727</td>\n",
       "      <td>7</td>\n",
       "      <td>0.220878</td>\n",
       "    </tr>\n",
       "    <tr>\n",
       "      <th>1</th>\n",
       "      <td>0</td>\n",
       "      <td>0.303079</td>\n",
       "      <td>65</td>\n",
       "      <td>0.000014</td>\n",
       "      <td>0.0</td>\n",
       "      <td>0.022727</td>\n",
       "      <td>4</td>\n",
       "      <td>0.212002</td>\n",
       "    </tr>\n",
       "    <tr>\n",
       "      <th>2</th>\n",
       "      <td>1</td>\n",
       "      <td>0.184638</td>\n",
       "      <td>65</td>\n",
       "      <td>0.000025</td>\n",
       "      <td>0.0</td>\n",
       "      <td>0.022727</td>\n",
       "      <td>6</td>\n",
       "      <td>0.216610</td>\n",
       "    </tr>\n",
       "    <tr>\n",
       "      <th>3</th>\n",
       "      <td>0</td>\n",
       "      <td>0.156048</td>\n",
       "      <td>65</td>\n",
       "      <td>0.000019</td>\n",
       "      <td>0.0</td>\n",
       "      <td>0.022727</td>\n",
       "      <td>5</td>\n",
       "      <td>0.215270</td>\n",
       "    </tr>\n",
       "    <tr>\n",
       "      <th>4</th>\n",
       "      <td>1</td>\n",
       "      <td>0.229189</td>\n",
       "      <td>65</td>\n",
       "      <td>0.000025</td>\n",
       "      <td>0.0</td>\n",
       "      <td>0.022727</td>\n",
       "      <td>7</td>\n",
       "      <td>0.220878</td>\n",
       "    </tr>\n",
       "  </tbody>\n",
       "</table>\n",
       "</div>"
      ],
      "text/plain": [
       "   WP16       wgt  country  income_2  WP1219    WP1220  year  weo_gdpc_con_ppp\n",
       "0     0  0.229189       65  0.000020     0.0  0.022727     7          0.220878\n",
       "1     0  0.303079       65  0.000014     0.0  0.022727     4          0.212002\n",
       "2     1  0.184638       65  0.000025     0.0  0.022727     6          0.216610\n",
       "3     0  0.156048       65  0.000019     0.0  0.022727     5          0.215270\n",
       "4     1  0.229189       65  0.000025     0.0  0.022727     7          0.220878"
      ]
     },
     "execution_count": 159,
     "metadata": {},
     "output_type": "execute_result"
    }
   ],
   "source": [
    "df.head()"
   ]
  },
  {
   "cell_type": "code",
   "execution_count": null,
   "metadata": {},
   "outputs": [],
   "source": []
  }
 ],
 "metadata": {
  "kernelspec": {
   "display_name": "Python 3",
   "language": "python",
   "name": "python3"
  },
  "language_info": {
   "codemirror_mode": {
    "name": "ipython",
    "version": 3
   },
   "file_extension": ".py",
   "mimetype": "text/x-python",
   "name": "python",
   "nbconvert_exporter": "python",
   "pygments_lexer": "ipython3",
   "version": "3.7.7"
  }
 },
 "nbformat": 4,
 "nbformat_minor": 4
}
