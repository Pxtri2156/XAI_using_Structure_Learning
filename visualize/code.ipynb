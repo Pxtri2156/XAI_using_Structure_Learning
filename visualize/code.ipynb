{
 "cells": [
  {
   "cell_type": "code",
   "execution_count": 13,
   "metadata": {},
   "outputs": [],
   "source": [
    "import os\n",
    "import pandas as pd\n",
    "from sklearn.preprocessing import MinMaxScaler\n",
    "import seaborn as sns\n",
    "import matplotlib.pyplot as plt\n",
    "import numpy as np "
   ]
  },
  {
   "cell_type": "code",
   "execution_count": 14,
   "metadata": {},
   "outputs": [],
   "source": [
    "data_path = '/workspace/binhtlh/projects/causality/XAI_using_Structure_Learning/visualize/data/'"
   ]
  },
  {
   "cell_type": "code",
   "execution_count": 15,
   "metadata": {},
   "outputs": [
    {
     "data": {
      "text/plain": [
       "<Figure size 1000x600 with 0 Axes>"
      ]
     },
     "metadata": {},
     "output_type": "display_data"
    },
    {
     "data": {
      "text/plain": [
       "<Figure size 1000x600 with 0 Axes>"
      ]
     },
     "metadata": {},
     "output_type": "display_data"
    },
    {
     "data": {
      "text/plain": [
       "<Figure size 1000x600 with 0 Axes>"
      ]
     },
     "metadata": {},
     "output_type": "display_data"
    },
    {
     "data": {
      "text/plain": [
       "<Figure size 1000x600 with 0 Axes>"
      ]
     },
     "metadata": {},
     "output_type": "display_data"
    },
    {
     "data": {
      "text/plain": [
       "<Figure size 1000x600 with 0 Axes>"
      ]
     },
     "metadata": {},
     "output_type": "display_data"
    },
    {
     "data": {
      "text/plain": [
       "<Figure size 1000x600 with 0 Axes>"
      ]
     },
     "metadata": {},
     "output_type": "display_data"
    },
    {
     "data": {
      "text/plain": [
       "<Figure size 1000x600 with 0 Axes>"
      ]
     },
     "metadata": {},
     "output_type": "display_data"
    },
    {
     "data": {
      "text/plain": [
       "<Figure size 1000x600 with 0 Axes>"
      ]
     },
     "metadata": {},
     "output_type": "display_data"
    }
   ],
   "source": [
    "for file in os.listdir(data_path):\n",
    "    # loading file\n",
    "    data = pd.read_csv(os.path.join(data_path, file), index_col=0)\n",
    "    # scale by min max scaler \n",
    "    data.iloc[:,2:] = MinMaxScaler().fit_transform(data.iloc[:,2:])\n",
    "    sorted_df = data.sort_values(by='CEM', ascending=False)\n",
    "\n",
    "    # Melt the DataFrame to long format for Seaborn\n",
    "    data_melted = sorted_df.melt('Feature', var_name='Methods', value_name='Value')\n",
    "    dataset = file.split(' - ')[1].split('.')[0]\n",
    "\n",
    "    # Palette \n",
    "    palette = ['#F9C163', \"#89C0EB\", '#F52655']\n",
    "    # Create the bar plot using Seaborn\n",
    "    plt.figure(figsize=(10, 6))\n",
    "    sns.barplot(x='Feature', y='Value', hue='Methods', data=data_melted, palette=palette)\n",
    "    plt.xlabel('Features', fontweight='bold', fontsize=19)\n",
    "    plt.ylabel('Importance Level', fontweight='bold', fontsize=19)\n",
    "    plt.title(f'Feature Importance Level on {dataset} Dataset', fontweight='bold', fontsize=20)\n",
    "    plt.legend(title='Methods', loc='upper right')\n",
    "    plt.xticks(rotation=45, fontsize=18)\n",
    "    plt.yticks(fontsize=18)\n",
    "    plt.tight_layout()\n",
    "\n",
    "    # Show plot\n",
    "    dataset = dataset + '.pdf'\n",
    "    # plt.show()\n",
    "    plt.savefig(f'/workspace/binhtlh/projects/causality/XAI_using_Structure_Learning/visualize/compare/{dataset}')\n",
    "    plt.clf()\n",
    "\n",
    "    # # Sorting based on SCM values\n",
    "    # sorted_df = data.sort_values(by='CEM', ascending=True)\n",
    "    # # Creating subplots\n",
    "    # fig, axs = plt.subplots(1, 3, figsize=(15, 5))\n",
    "    # fig.suptitle('Feature Importance Level', fontweight='bold')\n",
    "\n",
    "    # # Plotting SCM\n",
    "    # axs[0].barh(sorted_df['Feature'], sorted_df['CEM'], color=palette[0])\n",
    "    # axs[0].set_xlabel('SCM', fontweight='bold')\n",
    "\n",
    "    # # Plotting NAM\n",
    "    # axs[1].barh(sorted_df['Feature'], sorted_df['NAM'], color=palette[1])\n",
    "    # axs[1].set_xlabel('NAM', fontweight='bold')\n",
    "\n",
    "    # # Plotting Shapley_SVM\n",
    "    # axs[2].barh(sorted_df['Feature'], sorted_df['Shapley_SVM'], color=palette[2])\n",
    "    # axs[2].set_xlabel('Shapley_SVM', fontweight='bold')\n",
    "\n",
    "    # # Adjust layout and display\n",
    "    # plt.tight_layout()\n",
    "    # plt.show()\n",
    "    # break "
   ]
  },
  {
   "cell_type": "code",
   "execution_count": null,
   "metadata": {},
   "outputs": [],
   "source": []
  }
 ],
 "metadata": {
  "kernelspec": {
   "display_name": "notears",
   "language": "python",
   "name": "python3"
  },
  "language_info": {
   "codemirror_mode": {
    "name": "ipython",
    "version": 3
   },
   "file_extension": ".py",
   "mimetype": "text/x-python",
   "name": "python",
   "nbconvert_exporter": "python",
   "pygments_lexer": "ipython3",
   "version": "3.11.4"
  }
 },
 "nbformat": 4,
 "nbformat_minor": 2
}
